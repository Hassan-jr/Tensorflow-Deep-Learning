{
  "nbformat": 4,
  "nbformat_minor": 0,
  "metadata": {
    "colab": {
      "provenance": [],
      "authorship_tag": "ABX9TyNzCy5UB+aY9+4uuwmtQQry",
      "include_colab_link": true
    },
    "kernelspec": {
      "name": "python3",
      "display_name": "Python 3"
    },
    "language_info": {
      "name": "python"
    }
  },
  "cells": [
    {
      "cell_type": "markdown",
      "metadata": {
        "id": "view-in-github",
        "colab_type": "text"
      },
      "source": [
        "<a href=\"https://colab.research.google.com/github/Hassan-jr/Tensorflow-Deep-Learning/blob/main/00_Fundamentals_Tensorflow.ipynb\" target=\"_parent\"><img src=\"https://colab.research.google.com/assets/colab-badge.svg\" alt=\"Open In Colab\"/></a>"
      ]
    },
    {
      "cell_type": "markdown",
      "source": [
        "# Create a vector, scalar, matrix and tensor with values of your choosing using tf.constant()."
      ],
      "metadata": {
        "id": "kEl4nU9Xql61"
      }
    },
    {
      "cell_type": "code",
      "execution_count": 1,
      "metadata": {
        "id": "FZt3gZE3qZbj"
      },
      "outputs": [],
      "source": [
        "import tensorflow as tf"
      ]
    },
    {
      "cell_type": "code",
      "source": [
        "v = tf.constant(7)\n",
        "v\n"
      ],
      "metadata": {
        "colab": {
          "base_uri": "https://localhost:8080/"
        },
        "id": "U40Ldui-qvBn",
        "outputId": "6b488a4a-3fef-4173-cc9a-b0f8931073c7"
      },
      "execution_count": 7,
      "outputs": [
        {
          "output_type": "execute_result",
          "data": {
            "text/plain": [
              "<tf.Tensor: shape=(), dtype=int32, numpy=7>"
            ]
          },
          "metadata": {},
          "execution_count": 7
        }
      ]
    },
    {
      "cell_type": "code",
      "source": [
        "s = tf.constant([1,2,3,4])\n",
        "s"
      ],
      "metadata": {
        "colab": {
          "base_uri": "https://localhost:8080/"
        },
        "id": "G3oCRzh3rEaG",
        "outputId": "6f47efc3-fc91-43ef-ac48-c8c97207bce4"
      },
      "execution_count": 8,
      "outputs": [
        {
          "output_type": "execute_result",
          "data": {
            "text/plain": [
              "<tf.Tensor: shape=(4,), dtype=int32, numpy=array([1, 2, 3, 4], dtype=int32)>"
            ]
          },
          "metadata": {},
          "execution_count": 8
        }
      ]
    },
    {
      "cell_type": "code",
      "source": [
        "s.numpy()"
      ],
      "metadata": {
        "colab": {
          "base_uri": "https://localhost:8080/"
        },
        "id": "L-DCA6EUrLBk",
        "outputId": "234ec59a-89a3-4c7b-9e71-868ff0abcfb6"
      },
      "execution_count": 10,
      "outputs": [
        {
          "output_type": "execute_result",
          "data": {
            "text/plain": [
              "array([1, 2, 3, 4], dtype=int32)"
            ]
          },
          "metadata": {},
          "execution_count": 10
        }
      ]
    },
    {
      "cell_type": "code",
      "source": [
        "s.dtype"
      ],
      "metadata": {
        "colab": {
          "base_uri": "https://localhost:8080/"
        },
        "id": "RKjV7fr0rLEi",
        "outputId": "52ed0b2f-c8a2-48e9-dcf4-a7efb55bfc52"
      },
      "execution_count": 11,
      "outputs": [
        {
          "output_type": "execute_result",
          "data": {
            "text/plain": [
              "tf.int32"
            ]
          },
          "metadata": {},
          "execution_count": 11
        }
      ]
    },
    {
      "cell_type": "code",
      "source": [
        "s.shape"
      ],
      "metadata": {
        "colab": {
          "base_uri": "https://localhost:8080/"
        },
        "id": "FvGVkmZ_rLHO",
        "outputId": "11458e4b-2b8b-4542-920a-820ede48d05b"
      },
      "execution_count": 12,
      "outputs": [
        {
          "output_type": "execute_result",
          "data": {
            "text/plain": [
              "TensorShape([4])"
            ]
          },
          "metadata": {},
          "execution_count": 12
        }
      ]
    },
    {
      "cell_type": "code",
      "source": [
        "tf.size(s)"
      ],
      "metadata": {
        "colab": {
          "base_uri": "https://localhost:8080/"
        },
        "id": "s2tMvTkZrLJ9",
        "outputId": "ae2ab990-b487-4216-9742-6a9b4edc5fb3"
      },
      "execution_count": 15,
      "outputs": [
        {
          "output_type": "execute_result",
          "data": {
            "text/plain": [
              "<tf.Tensor: shape=(), dtype=int32, numpy=4>"
            ]
          },
          "metadata": {},
          "execution_count": 15
        }
      ]
    },
    {
      "cell_type": "code",
      "source": [
        "m = tf.constant([[1,2,3],\n",
        "                 [4,5,6],\n",
        "                [7,8,9]])\n",
        "m"
      ],
      "metadata": {
        "colab": {
          "base_uri": "https://localhost:8080/"
        },
        "id": "HUgPRhqxrLM2",
        "outputId": "eb6c7d97-ea24-4ea8-8259-8836ba1db45f"
      },
      "execution_count": 16,
      "outputs": [
        {
          "output_type": "execute_result",
          "data": {
            "text/plain": [
              "<tf.Tensor: shape=(3, 3), dtype=int32, numpy=\n",
              "array([[1, 2, 3],\n",
              "       [4, 5, 6],\n",
              "       [7, 8, 9]], dtype=int32)>"
            ]
          },
          "metadata": {},
          "execution_count": 16
        }
      ]
    },
    {
      "cell_type": "code",
      "source": [
        "m.numpy()"
      ],
      "metadata": {
        "colab": {
          "base_uri": "https://localhost:8080/"
        },
        "id": "123hg--BrLPN",
        "outputId": "532bd9c9-64df-4f8c-ada5-905e63d8d225"
      },
      "execution_count": 17,
      "outputs": [
        {
          "output_type": "execute_result",
          "data": {
            "text/plain": [
              "array([[1, 2, 3],\n",
              "       [4, 5, 6],\n",
              "       [7, 8, 9]], dtype=int32)"
            ]
          },
          "metadata": {},
          "execution_count": 17
        }
      ]
    },
    {
      "cell_type": "code",
      "source": [
        "m.shape"
      ],
      "metadata": {
        "colab": {
          "base_uri": "https://localhost:8080/"
        },
        "id": "9zO4BUrlrLSD",
        "outputId": "1123eafd-8b68-4b74-cb65-97dba2f85f6a"
      },
      "execution_count": 18,
      "outputs": [
        {
          "output_type": "execute_result",
          "data": {
            "text/plain": [
              "TensorShape([3, 3])"
            ]
          },
          "metadata": {},
          "execution_count": 18
        }
      ]
    },
    {
      "cell_type": "code",
      "source": [
        "tf.size(m)"
      ],
      "metadata": {
        "colab": {
          "base_uri": "https://localhost:8080/"
        },
        "id": "WZG8JVqUrLVe",
        "outputId": "a102c82b-f5ac-4bea-8f19-d300b1d87470"
      },
      "execution_count": 20,
      "outputs": [
        {
          "output_type": "execute_result",
          "data": {
            "text/plain": [
              "<tf.Tensor: shape=(), dtype=int32, numpy=9>"
            ]
          },
          "metadata": {},
          "execution_count": 20
        }
      ]
    },
    {
      "cell_type": "code",
      "source": [
        "tf.rank(m)"
      ],
      "metadata": {
        "colab": {
          "base_uri": "https://localhost:8080/"
        },
        "id": "1ti8NkgIsXf9",
        "outputId": "68363eea-9a50-4a84-d7c5-94db508339bc"
      },
      "execution_count": 23,
      "outputs": [
        {
          "output_type": "execute_result",
          "data": {
            "text/plain": [
              "<tf.Tensor: shape=(), dtype=int32, numpy=2>"
            ]
          },
          "metadata": {},
          "execution_count": 23
        }
      ]
    },
    {
      "cell_type": "code",
      "source": [
        "tf.rank(v)"
      ],
      "metadata": {
        "colab": {
          "base_uri": "https://localhost:8080/"
        },
        "id": "-UVXK01vtFC6",
        "outputId": "5bc51292-8c02-44bf-d1cc-b193fd1641b5"
      },
      "execution_count": 24,
      "outputs": [
        {
          "output_type": "execute_result",
          "data": {
            "text/plain": [
              "<tf.Tensor: shape=(), dtype=int32, numpy=0>"
            ]
          },
          "metadata": {},
          "execution_count": 24
        }
      ]
    },
    {
      "cell_type": "code",
      "source": [
        "tf.rank(s)"
      ],
      "metadata": {
        "colab": {
          "base_uri": "https://localhost:8080/"
        },
        "id": "3v6_DRFMtV4n",
        "outputId": "78531e91-f3c1-4f14-9826-bf3c3a439554"
      },
      "execution_count": 25,
      "outputs": [
        {
          "output_type": "execute_result",
          "data": {
            "text/plain": [
              "<tf.Tensor: shape=(), dtype=int32, numpy=1>"
            ]
          },
          "metadata": {},
          "execution_count": 25
        }
      ]
    },
    {
      "cell_type": "markdown",
      "source": [
        "# Create two tensors containing random values between 0 and 1 with shape [5, 300]."
      ],
      "metadata": {
        "id": "niAtn0TStxrW"
      }
    },
    {
      "cell_type": "code",
      "source": [
        "tf.random.set_seed(42)\n",
        "tensor_1 = tf.random.uniform(shape=(5,300),maxval=1)\n",
        "tensor_2 = tf.random.uniform(shape=(5,300),maxval=1)\n",
        "tensor_1[:10], tensor_2[:10]"
      ],
      "metadata": {
        "colab": {
          "base_uri": "https://localhost:8080/"
        },
        "id": "2wxeGQUJtzMM",
        "outputId": "6ce45353-7782-417e-dc50-f04ae43907a4"
      },
      "execution_count": 71,
      "outputs": [
        {
          "output_type": "execute_result",
          "data": {
            "text/plain": [
              "(<tf.Tensor: shape=(5, 300), dtype=float32, numpy=\n",
              " array([[0.6645621 , 0.44100678, 0.3528825 , ..., 0.31410468, 0.7593535 ,\n",
              "         0.03699052],\n",
              "        [0.532024  , 0.29129946, 0.10571766, ..., 0.54052293, 0.31425726,\n",
              "         0.2200619 ],\n",
              "        [0.08404207, 0.03614604, 0.97732127, ..., 0.21516645, 0.9786098 ,\n",
              "         0.00726748],\n",
              "        [0.7396945 , 0.6653172 , 0.0787828 , ..., 0.7117733 , 0.07013571,\n",
              "         0.9409125 ],\n",
              "        [0.15861344, 0.12024033, 0.27218235, ..., 0.8824879 , 0.1432488 ,\n",
              "         0.44135118]], dtype=float32)>,\n",
              " <tf.Tensor: shape=(5, 300), dtype=float32, numpy=\n",
              " array([[0.68789124, 0.48447883, 0.9309944 , ..., 0.6920762 , 0.33180213,\n",
              "         0.9212563 ],\n",
              "        [0.27369928, 0.10631859, 0.6218617 , ..., 0.4382149 , 0.30427706,\n",
              "         0.51477313],\n",
              "        [0.00920248, 0.37280262, 0.8177401 , ..., 0.56786287, 0.49201214,\n",
              "         0.9892651 ],\n",
              "        [0.88608265, 0.08672249, 0.12160683, ..., 0.91770685, 0.72545695,\n",
              "         0.8280058 ],\n",
              "        [0.36690474, 0.9200133 , 0.9646884 , ..., 0.69012   , 0.7137332 ,\n",
              "         0.2584542 ]], dtype=float32)>)"
            ]
          },
          "metadata": {},
          "execution_count": 71
        }
      ]
    },
    {
      "cell_type": "code",
      "source": [
        "tensor_1.shape, tensor_2.shape"
      ],
      "metadata": {
        "colab": {
          "base_uri": "https://localhost:8080/"
        },
        "id": "eXKrvftYtzY9",
        "outputId": "b138894d-c4db-4736-889b-70d766f14942"
      },
      "execution_count": 48,
      "outputs": [
        {
          "output_type": "execute_result",
          "data": {
            "text/plain": [
              "(TensorShape([5, 300]), TensorShape([5, 300]))"
            ]
          },
          "metadata": {},
          "execution_count": 48
        }
      ]
    },
    {
      "cell_type": "code",
      "source": [
        "tensor_2_reshaped = tf.reshape(tensor_2, shape=(300,5))\n",
        "tensor_2_reshaped[:10]\n",
        "tensor_2_reshaped.shape"
      ],
      "metadata": {
        "colab": {
          "base_uri": "https://localhost:8080/"
        },
        "id": "9wARERoKtzbv",
        "outputId": "36fb7cd2-b5c5-4ffb-a0a8-9349ba149f13"
      },
      "execution_count": 51,
      "outputs": [
        {
          "output_type": "execute_result",
          "data": {
            "text/plain": [
              "TensorShape([300, 5])"
            ]
          },
          "metadata": {},
          "execution_count": 51
        }
      ]
    },
    {
      "cell_type": "code",
      "source": [
        "t1t2 = tf.matmul(tensor_1, tensor_2_reshaped)\n",
        "t1t2"
      ],
      "metadata": {
        "colab": {
          "base_uri": "https://localhost:8080/"
        },
        "id": "mxEmwH6WtzfU",
        "outputId": "5faf9fa1-d49b-4133-9312-3650b9570b61"
      },
      "execution_count": 54,
      "outputs": [
        {
          "output_type": "execute_result",
          "data": {
            "text/plain": [
              "<tf.Tensor: shape=(5, 5), dtype=float32, numpy=\n",
              "array([[76.2758  , 79.17824 , 77.82306 , 79.38919 , 79.37956 ],\n",
              "       [72.706345, 73.675156, 73.71575 , 74.184204, 73.72947 ],\n",
              "       [75.74081 , 76.490845, 74.435486, 78.802124, 77.70212 ],\n",
              "       [68.98616 , 75.53636 , 74.58009 , 76.192314, 75.25122 ],\n",
              "       [75.56367 , 81.7986  , 78.68144 , 80.15668 , 80.48313 ]],\n",
              "      dtype=float32)>"
            ]
          },
          "metadata": {},
          "execution_count": 54
        }
      ]
    },
    {
      "cell_type": "code",
      "source": [
        "t1t2_2 = tf.tensordot(tensor_1,tensor_2_reshaped, axes=1)\n",
        "t1t2_2"
      ],
      "metadata": {
        "colab": {
          "base_uri": "https://localhost:8080/"
        },
        "id": "2jCUbTEMtzhe",
        "outputId": "a21900c3-86f1-4692-dd14-a9c4180a20e3"
      },
      "execution_count": 58,
      "outputs": [
        {
          "output_type": "execute_result",
          "data": {
            "text/plain": [
              "<tf.Tensor: shape=(5, 5), dtype=float32, numpy=\n",
              "array([[76.2758  , 79.17824 , 77.82306 , 79.38919 , 79.37956 ],\n",
              "       [72.706345, 73.675156, 73.71575 , 74.184204, 73.72947 ],\n",
              "       [75.74081 , 76.490845, 74.435486, 78.802124, 77.70212 ],\n",
              "       [68.98616 , 75.53636 , 74.58009 , 76.192314, 75.25122 ],\n",
              "       [75.56367 , 81.7986  , 78.68144 , 80.15668 , 80.48313 ]],\n",
              "      dtype=float32)>"
            ]
          },
          "metadata": {},
          "execution_count": 58
        }
      ]
    },
    {
      "cell_type": "markdown",
      "source": [
        "Create a tensor with random values between 0 and 1 with shape [224, 224, 3]."
      ],
      "metadata": {
        "id": "7WZTmHj_xop6"
      }
    },
    {
      "cell_type": "code",
      "source": [
        "tf.random.set_seed(42)\n",
        "A = tf.random.uniform(shape=(224,224,3), maxval=1)\n",
        "A[0]"
      ],
      "metadata": {
        "colab": {
          "base_uri": "https://localhost:8080/"
        },
        "id": "cb8iErEctzko",
        "outputId": "6ed9aa2d-22dc-4c48-db05-b2c332717d2f"
      },
      "execution_count": 73,
      "outputs": [
        {
          "output_type": "execute_result",
          "data": {
            "text/plain": [
              "<tf.Tensor: shape=(224, 3), dtype=float32, numpy=\n",
              "array([[6.64562106e-01, 4.41006780e-01, 3.52882504e-01],\n",
              "       [4.64482546e-01, 3.36604118e-02, 6.84672356e-01],\n",
              "       [7.40117431e-01, 8.72444510e-01, 2.26326346e-01],\n",
              "       [2.23196864e-01, 3.10388088e-01, 7.22335815e-01],\n",
              "       [1.33187175e-01, 5.48063874e-01, 5.74608803e-01],\n",
              "       [8.99683475e-01, 9.46366787e-03, 5.21230698e-01],\n",
              "       [6.34544492e-01, 1.99328303e-01, 7.29422450e-01],\n",
              "       [5.45834541e-01, 1.07565522e-01, 6.76706076e-01],\n",
              "       [6.60276294e-01, 3.36950421e-01, 6.01417661e-01],\n",
              "       [2.10625768e-01, 8.52737188e-01, 4.40621734e-01],\n",
              "       [9.48527575e-01, 2.37525940e-01, 8.11792970e-01],\n",
              "       [5.26339412e-01, 4.94307995e-01, 2.16128469e-01],\n",
              "       [8.45719695e-01, 8.71884108e-01, 3.08386207e-01],\n",
              "       [6.86803818e-01, 2.37640381e-01, 7.81722784e-01],\n",
              "       [9.67138410e-01, 6.87016249e-02, 7.98739433e-01],\n",
              "       [6.60287142e-01, 5.87151289e-01, 1.64616942e-01],\n",
              "       [7.38102317e-01, 3.20540428e-01, 6.07389927e-01],\n",
              "       [4.65234756e-01, 9.78035450e-01, 7.22314477e-01],\n",
              "       [3.23470473e-01, 8.25773358e-01, 4.97691512e-01],\n",
              "       [1.94836736e-01, 7.58874774e-01, 3.38044405e-01],\n",
              "       [2.81280637e-01, 3.15135717e-01, 6.06709242e-01],\n",
              "       [7.49859810e-01, 5.01605511e-01, 1.82821631e-01],\n",
              "       [1.31798148e-01, 6.46361232e-01, 9.55947518e-01],\n",
              "       [6.67073488e-01, 3.07555318e-01, 3.68921876e-01],\n",
              "       [4.47358966e-01, 1.83594584e-01, 5.28825521e-01],\n",
              "       [7.05275416e-01, 8.98633003e-01, 3.13862920e-01],\n",
              "       [6.23382568e-01, 9.68155265e-01, 1.12079263e-01],\n",
              "       [2.95905352e-01, 9.35660481e-01, 1.34126306e-01],\n",
              "       [3.19379330e-01, 2.62277007e-01, 3.14875841e-02],\n",
              "       [9.00455236e-01, 6.40937924e-01, 5.82185507e-01],\n",
              "       [2.09170938e-01, 7.17360854e-01, 3.63523006e-01],\n",
              "       [4.67091799e-02, 1.49777889e-01, 8.43617558e-01],\n",
              "       [9.35558677e-01, 9.51731205e-02, 8.61787796e-02],\n",
              "       [6.24783874e-01, 3.70506525e-01, 5.13904214e-01],\n",
              "       [6.23320699e-01, 8.02468181e-01, 1.66513801e-01],\n",
              "       [2.20904469e-01, 6.24227166e-01, 8.71914625e-02],\n",
              "       [9.21426654e-01, 9.34801698e-01, 6.04552269e-01],\n",
              "       [4.79404330e-01, 1.44301414e-01, 3.26000333e-01],\n",
              "       [9.25575256e-01, 7.75734186e-01, 6.36765003e-01],\n",
              "       [6.28235102e-01, 3.54018331e-01, 4.14467335e-01],\n",
              "       [1.10513091e-01, 1.41147017e-01, 1.88759089e-01],\n",
              "       [6.89479351e-01, 7.21327543e-01, 2.48816133e-01],\n",
              "       [5.91238141e-01, 4.97590303e-01, 8.97795200e-01],\n",
              "       [1.21739745e-01, 1.35371685e-01, 2.55092502e-01],\n",
              "       [4.98424768e-01, 7.22025394e-01, 5.16298056e-01],\n",
              "       [5.60348749e-01, 5.85157037e-01, 2.37988710e-01],\n",
              "       [9.10159945e-01, 8.71589184e-01, 7.39756584e-01],\n",
              "       [5.28111339e-01, 2.29509354e-01, 1.29852295e-02],\n",
              "       [6.45794272e-01, 5.59551001e-01, 2.66551614e-01],\n",
              "       [8.58113170e-01, 9.37789679e-01, 9.18607473e-01],\n",
              "       [8.24570298e-01, 4.90800142e-02, 9.26041842e-01],\n",
              "       [8.39813471e-01, 3.18757534e-01, 1.46048665e-01],\n",
              "       [7.95421839e-01, 7.55674243e-01, 1.65451884e-01],\n",
              "       [9.27273750e-01, 4.20115471e-01, 9.38370228e-02],\n",
              "       [4.35516596e-01, 5.23240447e-01, 6.70362949e-01],\n",
              "       [8.64512086e-01, 2.37714291e-01, 8.49811792e-01],\n",
              "       [1.94028497e-01, 7.57699728e-01, 7.78489113e-02],\n",
              "       [7.65458226e-01, 2.80743599e-01, 1.53843045e-01],\n",
              "       [5.07532597e-01, 6.42734528e-01, 6.02753878e-01],\n",
              "       [6.88616037e-02, 1.02666378e-01, 4.03337359e-01],\n",
              "       [6.03217721e-01, 9.88178253e-02, 3.11079979e-01],\n",
              "       [3.76679897e-01, 7.72163153e-01, 3.76711130e-01],\n",
              "       [2.49591231e-01, 2.84426212e-02, 5.55852294e-01],\n",
              "       [4.19859648e-01, 8.05886507e-01, 3.07664752e-01],\n",
              "       [8.24464560e-02, 1.34579182e-01, 7.22905397e-02],\n",
              "       [4.66081977e-01, 7.73729086e-02, 7.40726948e-01],\n",
              "       [6.27444148e-01, 4.73128796e-01, 8.15838575e-01],\n",
              "       [9.82328415e-01, 7.94029713e-01, 5.63603163e-01],\n",
              "       [6.71966672e-01, 8.90760899e-01, 2.50846982e-01],\n",
              "       [4.16575789e-01, 8.88121724e-01, 5.38204908e-02],\n",
              "       [8.74045491e-01, 2.58771658e-01, 3.46157908e-01],\n",
              "       [8.98408890e-01, 9.26119089e-02, 8.17077994e-01],\n",
              "       [7.58855343e-02, 1.56425357e-01, 8.02173376e-01],\n",
              "       [9.43266988e-01, 5.42430401e-01, 3.79512548e-01],\n",
              "       [4.78692412e-01, 2.33194590e-01, 9.61435914e-01],\n",
              "       [3.55799198e-02, 7.51993179e-01, 4.96015549e-02],\n",
              "       [1.83660388e-01, 2.15391636e-01, 6.27629638e-01],\n",
              "       [7.93842912e-01, 8.43758821e-01, 5.97348213e-01],\n",
              "       [3.13925862e-01, 8.51092696e-01, 3.03745270e-04],\n",
              "       [6.98393822e-01, 5.64218521e-01, 5.37219763e-01],\n",
              "       [6.57612681e-01, 6.59148574e-01, 8.04002285e-02],\n",
              "       [7.77734160e-01, 5.61987519e-01, 2.73092151e-01],\n",
              "       [4.77590322e-01, 7.89592028e-01, 9.37701821e-01],\n",
              "       [1.62235737e-01, 5.90783954e-01, 3.86544704e-01],\n",
              "       [2.08954215e-01, 5.23625255e-01, 8.33262920e-01],\n",
              "       [7.80366778e-01, 7.50480413e-01, 7.77090549e-01],\n",
              "       [6.54260874e-01, 5.08923173e-01, 4.47006226e-01],\n",
              "       [2.07176447e-01, 5.70797801e-01, 1.07951641e-01],\n",
              "       [8.95293355e-01, 2.44748473e-01, 5.40809751e-01],\n",
              "       [5.25819898e-01, 4.14843082e-01, 7.09676504e-01],\n",
              "       [7.83967376e-01, 1.83576465e-01, 7.42677927e-01],\n",
              "       [3.99876237e-01, 6.27220511e-01, 1.59457445e-01],\n",
              "       [4.28255796e-01, 7.18959451e-01, 1.97481990e-01],\n",
              "       [3.25790882e-01, 2.89935112e-01, 6.01494193e-01],\n",
              "       [8.85725379e-01, 8.43307257e-01, 9.15816307e-01],\n",
              "       [6.46649480e-01, 8.83325219e-01, 3.99675131e-01],\n",
              "       [9.82843399e-01, 3.70094538e-01, 7.43501902e-01],\n",
              "       [6.11330271e-01, 9.91554976e-01, 5.44617057e-01],\n",
              "       [4.80071425e-01, 7.55506396e-01, 6.12909436e-01],\n",
              "       [3.14104676e-01, 7.59353518e-01, 3.69905233e-02],\n",
              "       [5.32024026e-01, 2.91299462e-01, 1.05717659e-01],\n",
              "       [6.61171436e-01, 1.11482143e-02, 3.43029022e-01],\n",
              "       [5.31695724e-01, 2.20229387e-01, 3.95542383e-02],\n",
              "       [6.44699931e-01, 2.91131377e-01, 9.30353880e-01],\n",
              "       [6.87904358e-02, 6.19318604e-01, 9.84482884e-01],\n",
              "       [9.57346797e-01, 8.67504001e-01, 3.84593010e-03],\n",
              "       [3.00601482e-01, 4.55374479e-01, 3.04681420e-01],\n",
              "       [5.61056256e-01, 1.93073630e-01, 2.47406960e-01],\n",
              "       [8.60715985e-01, 7.47316718e-01, 9.51113105e-01],\n",
              "       [3.77564907e-01, 2.84974813e-01, 4.88168120e-01],\n",
              "       [1.64063573e-01, 4.80426431e-01, 8.06042790e-01],\n",
              "       [5.04736543e-01, 3.24818850e-01, 3.34890842e-01],\n",
              "       [8.14333081e-01, 4.18797135e-01, 2.88328528e-01],\n",
              "       [9.15313363e-01, 6.93983078e-01, 8.90595436e-01],\n",
              "       [5.10337234e-01, 4.96513605e-01, 6.31462812e-01],\n",
              "       [2.23637104e-01, 3.83034706e-01, 1.87504292e-03],\n",
              "       [7.96918273e-01, 3.02139878e-01, 5.85623980e-02],\n",
              "       [6.75392151e-01, 6.09300733e-01, 9.58349586e-01],\n",
              "       [3.19930553e-01, 3.48771811e-02, 6.55321240e-01],\n",
              "       [1.81141496e-01, 5.52661419e-02, 8.54308724e-01],\n",
              "       [4.84429121e-01, 1.97193623e-01, 3.97889614e-01],\n",
              "       [8.96393895e-01, 4.84473348e-01, 1.76216960e-01],\n",
              "       [3.13841105e-01, 2.96390057e-02, 1.57928109e-01],\n",
              "       [1.20287180e-01, 3.35657597e-03, 6.20776534e-01],\n",
              "       [3.08728218e-03, 3.46839190e-01, 7.17709064e-02],\n",
              "       [7.89966583e-02, 8.74260306e-01, 2.79082298e-01],\n",
              "       [9.98287916e-01, 7.24780679e-01, 5.03728867e-01],\n",
              "       [3.87997627e-02, 2.07559943e-01, 4.66828942e-01],\n",
              "       [7.15986490e-02, 3.51020217e-01, 3.40504050e-01],\n",
              "       [2.73694992e-01, 9.29895878e-01, 3.17676067e-02],\n",
              "       [4.73646998e-01, 6.12326741e-01, 1.56903386e-01],\n",
              "       [4.80909109e-01, 7.86759377e-01, 7.97016978e-01],\n",
              "       [7.49829531e-01, 5.81493735e-01, 9.49331403e-01],\n",
              "       [9.41391587e-01, 4.42236662e-01, 8.14148188e-01],\n",
              "       [5.96607089e-01, 9.62654352e-02, 8.76519918e-01],\n",
              "       [3.26718450e-01, 2.25218058e-01, 2.00654626e-01],\n",
              "       [2.01878428e-01, 8.08926940e-01, 2.73997307e-01],\n",
              "       [4.87507105e-01, 6.73254371e-01, 2.81962395e-01],\n",
              "       [1.86976790e-01, 9.90135670e-02, 8.66400599e-01],\n",
              "       [3.97137284e-01, 1.77786827e-01, 5.37820220e-01],\n",
              "       [2.46481895e-01, 4.49487090e-01, 7.52268195e-01],\n",
              "       [3.66640925e-01, 8.91151071e-01, 4.90804434e-01],\n",
              "       [7.86012292e-01, 6.24036789e-02, 6.29674196e-01],\n",
              "       [7.63852000e-01, 1.03766918e-02, 2.52397060e-02],\n",
              "       [9.65364814e-01, 6.48552895e-01, 3.86594534e-02],\n",
              "       [5.20974517e-01, 4.72845912e-01, 8.08244467e-01],\n",
              "       [9.20092821e-01, 1.12167597e-02, 2.71654129e-03],\n",
              "       [2.45671988e-01, 8.89242291e-01, 2.95375228e-01],\n",
              "       [6.02819920e-02, 1.54500961e-01, 2.12293983e-01],\n",
              "       [8.04050565e-01, 8.97567868e-01, 7.00901985e-01],\n",
              "       [7.90293217e-02, 8.10301661e-01, 2.92803168e-01],\n",
              "       [4.03263450e-01, 2.24554300e-01, 9.36973333e-01],\n",
              "       [6.16210580e-01, 6.39240623e-01, 2.63535976e-03],\n",
              "       [3.87102246e-01, 8.09740424e-01, 1.43919587e-01],\n",
              "       [3.96360636e-01, 6.25688195e-01, 7.78078556e-01],\n",
              "       [4.16707397e-01, 4.15263534e-01, 1.32778406e-01],\n",
              "       [7.70842910e-01, 1.16272211e-01, 7.18493819e-01],\n",
              "       [1.15862250e-01, 3.16998959e-01, 3.97582054e-01],\n",
              "       [6.09584689e-01, 7.50272989e-01, 3.45735192e-01],\n",
              "       [3.22713256e-01, 3.78697991e-01, 9.17565584e-01],\n",
              "       [7.18983054e-01, 5.32789469e-01, 7.87661433e-01],\n",
              "       [9.70232964e-01, 2.82839060e-01, 8.21032643e-01],\n",
              "       [1.40201926e-01, 9.38648462e-01, 2.41260648e-01],\n",
              "       [2.12129235e-01, 5.67178726e-01, 3.85913253e-01],\n",
              "       [3.15451145e-01, 5.40165782e-01, 6.12389803e-01],\n",
              "       [9.43518996e-01, 3.24784517e-01, 3.33598852e-01],\n",
              "       [3.29300880e-01, 7.20570087e-01, 4.89585638e-01],\n",
              "       [8.92369986e-01, 1.91368103e-01, 3.03513408e-01],\n",
              "       [4.52231407e-01, 4.69738960e-01, 6.10451937e-01],\n",
              "       [2.19153285e-01, 2.40218043e-01, 3.83389354e-01],\n",
              "       [8.06106210e-01, 6.97214842e-01, 6.35572672e-02],\n",
              "       [7.43740439e-01, 1.30398870e-01, 6.25270724e-01],\n",
              "       [8.80215287e-01, 5.70111156e-01, 5.75333238e-01],\n",
              "       [2.19152570e-01, 4.77205634e-01, 9.93877292e-01],\n",
              "       [8.36292624e-01, 2.79752254e-01, 2.29352951e-01],\n",
              "       [1.21700525e-01, 3.76791120e-01, 4.51524138e-01],\n",
              "       [7.59770393e-01, 1.54511571e-01, 6.47561431e-01],\n",
              "       [7.67946482e-01, 8.31937313e-01, 2.94494033e-01],\n",
              "       [8.09475780e-01, 7.63909221e-01, 6.76474571e-01],\n",
              "       [7.42445350e-01, 6.45293713e-01, 3.84683609e-02],\n",
              "       [3.44598889e-01, 1.49612188e-01, 3.84681702e-01],\n",
              "       [2.68229127e-01, 4.42056417e-01, 8.35673690e-01],\n",
              "       [6.88197732e-01, 8.83131981e-01, 6.77796721e-01],\n",
              "       [5.33472896e-01, 4.34622288e-01, 7.07362771e-01],\n",
              "       [9.58942652e-01, 9.72431898e-02, 9.23009038e-01],\n",
              "       [8.20951700e-01, 5.98269343e-01, 4.39569950e-02],\n",
              "       [5.63204288e-01, 4.07490134e-01, 8.05483699e-01],\n",
              "       [6.58221483e-01, 7.25603461e-01, 1.20811582e-01],\n",
              "       [6.74722075e-01, 5.00416160e-01, 2.88746953e-01],\n",
              "       [6.51597381e-01, 5.72819114e-01, 6.05705976e-02],\n",
              "       [5.09917259e-01, 9.84695911e-01, 2.78531075e-01],\n",
              "       [7.32813835e-01, 4.47030544e-01, 3.21379423e-01],\n",
              "       [7.96833396e-01, 1.34955525e-01, 3.36693645e-01],\n",
              "       [2.56603122e-01, 3.43170047e-01, 5.74227214e-01],\n",
              "       [3.73062968e-01, 5.20042181e-02, 9.47783113e-01],\n",
              "       [1.03007555e-01, 6.89700365e-01, 4.43751574e-01],\n",
              "       [2.79294252e-02, 1.74478173e-01, 7.10755587e-01],\n",
              "       [8.93620133e-01, 9.14541245e-01, 1.44609451e-01],\n",
              "       [9.70289469e-01, 2.33456969e-01, 8.29093933e-01],\n",
              "       [5.40522933e-01, 3.14257264e-01, 2.20061898e-01],\n",
              "       [8.40420723e-02, 3.61460447e-02, 9.77321267e-01],\n",
              "       [6.31716728e-01, 5.09356618e-01, 9.98908639e-01],\n",
              "       [5.31542063e-01, 2.44253159e-01, 8.95121813e-01],\n",
              "       [7.35368729e-02, 6.69131398e-01, 5.44777989e-01],\n",
              "       [3.13302398e-01, 2.22096562e-01, 8.21612716e-01],\n",
              "       [5.70430994e-01, 2.03006625e-01, 3.94195080e-01],\n",
              "       [3.03100348e-01, 7.92211413e-01, 8.17860007e-01],\n",
              "       [5.36519766e-01, 5.30623794e-01, 4.96233582e-01],\n",
              "       [4.87947464e-01, 5.42176008e-01, 7.13597894e-01],\n",
              "       [3.16970706e-01, 6.78414702e-01, 9.84060287e-01],\n",
              "       [5.32258987e-01, 5.31153679e-02, 9.72766757e-01],\n",
              "       [4.60217953e-01, 2.90165305e-01, 5.80861568e-02],\n",
              "       [6.81358576e-01, 2.36606598e-02, 7.93145895e-01],\n",
              "       [5.68560958e-01, 1.47831678e-01, 4.01860118e-01],\n",
              "       [4.71550941e-01, 9.11468983e-01, 1.32551432e-01],\n",
              "       [5.46683073e-01, 8.21951032e-01, 3.27178955e-01],\n",
              "       [5.07380247e-01, 8.78006339e-01, 1.53937817e-01],\n",
              "       [2.30940700e-01, 4.04889584e-01, 6.20433211e-01],\n",
              "       [8.67421389e-01, 8.22346330e-01, 6.26553535e-01],\n",
              "       [8.73068213e-01, 2.21382141e-01, 5.51040053e-01],\n",
              "       [2.14535236e-01, 9.85509753e-01, 6.02496862e-02],\n",
              "       [4.26122665e-01, 9.68601704e-02, 1.61052585e-01],\n",
              "       [1.48709893e-01, 4.51388359e-02, 9.49748278e-01],\n",
              "       [4.39310312e-01, 2.85279751e-01, 9.69710946e-01]], dtype=float32)>"
            ]
          },
          "metadata": {},
          "execution_count": 73
        }
      ]
    },
    {
      "cell_type": "code",
      "source": [
        "A_min = tf.reduce_min(A) \n",
        "A_max = tf.reduce_max(A)\n",
        "A_min, A_max"
      ],
      "metadata": {
        "colab": {
          "base_uri": "https://localhost:8080/"
        },
        "id": "CtBjgDcFtznN",
        "outputId": "5f241218-eb5d-4a8d-b9ca-91fb4a360f06"
      },
      "execution_count": 66,
      "outputs": [
        {
          "output_type": "execute_result",
          "data": {
            "text/plain": [
              "(<tf.Tensor: shape=(), dtype=float32, numpy=3.5762787e-07>,\n",
              " <tf.Tensor: shape=(), dtype=float32, numpy=0.999998>)"
            ]
          },
          "metadata": {},
          "execution_count": 66
        }
      ]
    },
    {
      "cell_type": "markdown",
      "source": [
        "# Created a tensor with random values of shape [1, 224, 224, 3] then squeeze it to change the shape to [224, 224, 3]."
      ],
      "metadata": {
        "id": "cAGF-G6R0FBb"
      }
    },
    {
      "cell_type": "code",
      "source": [
        "B = tf.random.uniform(shape = (1,224,224,3))\n",
        "C = tf.squeeze(B)\n",
        "B.shape,C.shape"
      ],
      "metadata": {
        "colab": {
          "base_uri": "https://localhost:8080/"
        },
        "id": "ke1O13PUtzqn",
        "outputId": "f35eacb4-e04c-408e-f319-bf9a987a8966"
      },
      "execution_count": 78,
      "outputs": [
        {
          "output_type": "execute_result",
          "data": {
            "text/plain": [
              "(TensorShape([1, 224, 224, 3]), TensorShape([224, 224, 3]))"
            ]
          },
          "metadata": {},
          "execution_count": 78
        }
      ]
    },
    {
      "cell_type": "markdown",
      "source": [
        "# Create a tensor with shape [10] using your own choice of values, then find the index which has the maximum value."
      ],
      "metadata": {
        "id": "i2AVpFPB0xPp"
      }
    },
    {
      "cell_type": "code",
      "source": [
        "D = tf.constant([0,1,2,3,4,5,6,7,8,9])\n",
        "D_max = tf.argmax(D)\n",
        "D.shape, D_max"
      ],
      "metadata": {
        "colab": {
          "base_uri": "https://localhost:8080/"
        },
        "id": "NtTe3BPX0Vj1",
        "outputId": "03e59a90-f838-4f9e-e57d-9cbcab3c4fe4"
      },
      "execution_count": 79,
      "outputs": [
        {
          "output_type": "execute_result",
          "data": {
            "text/plain": [
              "(TensorShape([10]), <tf.Tensor: shape=(), dtype=int64, numpy=9>)"
            ]
          },
          "metadata": {},
          "execution_count": 79
        }
      ]
    },
    {
      "cell_type": "markdown",
      "source": [
        "# One-hot encode the tensor you created in 9."
      ],
      "metadata": {
        "id": "wyfwV4jp1Jf7"
      }
    },
    {
      "cell_type": "code",
      "source": [
        "E = tf.one_hot(D,depth=10)\n",
        "E"
      ],
      "metadata": {
        "colab": {
          "base_uri": "https://localhost:8080/"
        },
        "id": "z6hdfSaN1BVs",
        "outputId": "1d95fbdd-1618-40ef-9bf8-36b8d6b0ee6e"
      },
      "execution_count": 80,
      "outputs": [
        {
          "output_type": "execute_result",
          "data": {
            "text/plain": [
              "<tf.Tensor: shape=(10, 10), dtype=float32, numpy=\n",
              "array([[1., 0., 0., 0., 0., 0., 0., 0., 0., 0.],\n",
              "       [0., 1., 0., 0., 0., 0., 0., 0., 0., 0.],\n",
              "       [0., 0., 1., 0., 0., 0., 0., 0., 0., 0.],\n",
              "       [0., 0., 0., 1., 0., 0., 0., 0., 0., 0.],\n",
              "       [0., 0., 0., 0., 1., 0., 0., 0., 0., 0.],\n",
              "       [0., 0., 0., 0., 0., 1., 0., 0., 0., 0.],\n",
              "       [0., 0., 0., 0., 0., 0., 1., 0., 0., 0.],\n",
              "       [0., 0., 0., 0., 0., 0., 0., 1., 0., 0.],\n",
              "       [0., 0., 0., 0., 0., 0., 0., 0., 1., 0.],\n",
              "       [0., 0., 0., 0., 0., 0., 0., 0., 0., 1.]], dtype=float32)>"
            ]
          },
          "metadata": {},
          "execution_count": 80
        }
      ]
    },
    {
      "cell_type": "code",
      "source": [
        "tf.__version__"
      ],
      "metadata": {
        "colab": {
          "base_uri": "https://localhost:8080/",
          "height": 35
        },
        "id": "8riPvySJ2Kxl",
        "outputId": "d3cf2b94-3bfd-4947-cabd-c2a8142c9fbd"
      },
      "execution_count": 81,
      "outputs": [
        {
          "output_type": "execute_result",
          "data": {
            "text/plain": [
              "'2.11.0'"
            ],
            "application/vnd.google.colaboratory.intrinsic+json": {
              "type": "string"
            }
          },
          "metadata": {},
          "execution_count": 81
        }
      ]
    },
    {
      "cell_type": "code",
      "source": [],
      "metadata": {
        "id": "qUpp1iw620B1"
      },
      "execution_count": null,
      "outputs": []
    }
  ]
}