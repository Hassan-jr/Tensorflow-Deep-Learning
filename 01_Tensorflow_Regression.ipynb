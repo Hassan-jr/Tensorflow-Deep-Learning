{
  "nbformat": 4,
  "nbformat_minor": 0,
  "metadata": {
    "colab": {
      "provenance": [],
      "authorship_tag": "ABX9TyMe/ikeLmcaYqb5LMMloc2M",
      "include_colab_link": true
    },
    "kernelspec": {
      "name": "python3",
      "display_name": "Python 3"
    },
    "language_info": {
      "name": "python"
    }
  },
  "cells": [
    {
      "cell_type": "markdown",
      "metadata": {
        "id": "view-in-github",
        "colab_type": "text"
      },
      "source": [
        "<a href=\"https://colab.research.google.com/github/Hassan-jr/Tensorflow-Deep-Learning/blob/main/01_Tensorflow_Regression.ipynb\" target=\"_parent\"><img src=\"https://colab.research.google.com/assets/colab-badge.svg\" alt=\"Open In Colab\"/></a>"
      ]
    },
    {
      "cell_type": "markdown",
      "source": [
        "# Regration"
      ],
      "metadata": {
        "id": "QdgUaX8V7kad"
      }
    },
    {
      "cell_type": "code",
      "execution_count": 35,
      "metadata": {
        "colab": {
          "base_uri": "https://localhost:8080/",
          "height": 35
        },
        "id": "5HPXNs-M7SCS",
        "outputId": "c2ca1fe6-f69d-47bf-9205-4a61b314064e"
      },
      "outputs": [
        {
          "output_type": "execute_result",
          "data": {
            "text/plain": [
              "'2.11.0'"
            ],
            "application/vnd.google.colaboratory.intrinsic+json": {
              "type": "string"
            }
          },
          "metadata": {},
          "execution_count": 35
        }
      ],
      "source": [
        "import tensorflow as tf\n",
        "import numpy as np\n",
        "import matplotlib.pyplot as plt\n",
        "\n",
        "tf.__version__"
      ]
    },
    {
      "cell_type": "markdown",
      "source": [
        "## Data Preparation"
      ],
      "metadata": {
        "id": "CWeyWxco75Np"
      }
    },
    {
      "cell_type": "code",
      "source": [
        "X = np.arange(0,100,2)\n",
        "X = tf.constant(X, shape=(50), dtype=tf.float32)\n",
        "Y = 0.7 * X + 0.3\n",
        "Y"
      ],
      "metadata": {
        "colab": {
          "base_uri": "https://localhost:8080/"
        },
        "id": "SpO2dAoN7zKF",
        "outputId": "7b4fb9e1-339b-470a-c595-22ed737479a1"
      },
      "execution_count": 36,
      "outputs": [
        {
          "output_type": "execute_result",
          "data": {
            "text/plain": [
              "<tf.Tensor: shape=(50,), dtype=float32, numpy=\n",
              "array([ 0.3     ,  1.7     ,  3.1     ,  4.5     ,  5.9     ,  7.3     ,\n",
              "        8.7     , 10.1     , 11.5     , 12.9     , 14.3     , 15.7     ,\n",
              "       17.099998, 18.499998, 19.9     , 21.3     , 22.699999, 24.099998,\n",
              "       25.499998, 26.9     , 28.3     , 29.699999, 31.099998, 32.5     ,\n",
              "       33.899998, 35.3     , 36.699997, 38.1     , 39.5     , 40.899998,\n",
              "       42.3     , 43.699997, 45.1     , 46.5     , 47.899998, 49.3     ,\n",
              "       50.699997, 52.1     , 53.5     , 54.899998, 56.3     , 57.699997,\n",
              "       59.1     , 60.5     , 61.899998, 63.3     , 64.700005, 66.1     ,\n",
              "       67.5     , 68.9     ], dtype=float32)>"
            ]
          },
          "metadata": {},
          "execution_count": 36
        }
      ]
    },
    {
      "cell_type": "code",
      "source": [
        "split = int(0.8 * len(X))\n",
        "X.shape, Y.shape"
      ],
      "metadata": {
        "colab": {
          "base_uri": "https://localhost:8080/"
        },
        "id": "8PW1aFvv8GFO",
        "outputId": "023a8328-e498-475f-894f-5f9479a91de9"
      },
      "execution_count": 37,
      "outputs": [
        {
          "output_type": "execute_result",
          "data": {
            "text/plain": [
              "(TensorShape([50]), TensorShape([50]))"
            ]
          },
          "metadata": {},
          "execution_count": 37
        }
      ]
    },
    {
      "cell_type": "code",
      "source": [
        "X_train,X_test, Y_train, Y_test = X[:split], X[split:], Y[:split], Y[split:]\n",
        "len(X_train),len(X_test),len(Y_train),len(Y_test)"
      ],
      "metadata": {
        "colab": {
          "base_uri": "https://localhost:8080/"
        },
        "id": "X0qU6S9o9NoK",
        "outputId": "b8c7f1d9-189b-435e-f45a-c4511c61f34e"
      },
      "execution_count": 38,
      "outputs": [
        {
          "output_type": "execute_result",
          "data": {
            "text/plain": [
              "(40, 10, 40, 10)"
            ]
          },
          "metadata": {},
          "execution_count": 38
        }
      ]
    },
    {
      "cell_type": "code",
      "source": [
        "def plot_prediction(X_train=X_train,\n",
        "                    X_test=X_test,\n",
        "                    Y_train = Y_train,\n",
        "                    Y_test=Y_test,\n",
        "                    Prediction = None):\n",
        "  plt.scatter(X_train,Y_train, c='b', label=\"Training Data\")\n",
        "  plt.scatter(X_test,Y_test, c='g', label= \"Testing Data\")\n",
        "\n",
        "  if Prediction is not None:\n",
        "    plt.scatter(X_test,Prediction, c='r', label=\"Predicted Data\")\n",
        "\n",
        "  plt.legend()"
      ],
      "metadata": {
        "id": "M8vahjBq-GwR"
      },
      "execution_count": 39,
      "outputs": []
    },
    {
      "cell_type": "code",
      "source": [
        "plot_prediction()"
      ],
      "metadata": {
        "colab": {
          "base_uri": "https://localhost:8080/",
          "height": 265
        },
        "id": "d5duMxh6_Nps",
        "outputId": "5df18d11-5ea6-47a1-b061-66f8ac256f46"
      },
      "execution_count": 40,
      "outputs": [
        {
          "output_type": "display_data",
          "data": {
            "text/plain": [
              "<Figure size 432x288 with 1 Axes>"
            ],
            "image/png": "[encoded data removed]"
          },
          "metadata": {
            "needs_background": "light"
          }
        }
      ]
    },
    {
      "cell_type": "markdown",
      "source": [
        "## Create The Model"
      ],
      "metadata": {
        "id": "qYjzxeIe92gH"
      }
    },
    {
      "cell_type": "code",
      "source": [
        "X_train.dtype, Y_train.dtype"
      ],
      "metadata": {
        "colab": {
          "base_uri": "https://localhost:8080/"
        },
        "id": "XkztfWVJBKDr",
        "outputId": "1891ef53-4f28-4b0e-c217-9805688e9fa8"
      },
      "execution_count": 41,
      "outputs": [
        {
          "output_type": "execute_result",
          "data": {
            "text/plain": [
              "(tf.float32, tf.float32)"
            ]
          },
          "metadata": {},
          "execution_count": 41
        }
      ]
    },
    {
      "cell_type": "code",
      "source": [
        "tf.random.set_seed(42)\n",
        "# 1 create\n",
        "model_0 = tf.keras.Sequential([\n",
        "    tf.keras.layers.Dense(10,input_shape=[1]),\n",
        "    tf.keras.layers.Dense(1)\n",
        "])\n",
        "#\n",
        "\n",
        "# 2 compile\n",
        "model_0.compile(loss=tf.keras.losses.mae,\n",
        "                optimizer = tf.keras.optimizers.Adam(),\n",
        "                metrics = [\"mae\"])\n",
        "\n",
        "# 3 fit\n",
        "history = model_0.fit(tf.expand_dims(X_train, axis=-1),Y_train, epochs=50)"
      ],
      "metadata": {
        "colab": {
          "base_uri": "https://localhost:8080/"
        },
        "id": "i8flAWFC9zgj",
        "outputId": "8b9f8764-b96a-4024-bd10-856458c90c3b"
      },
      "execution_count": 142,
      "outputs": [
        {
          "output_type": "stream",
          "name": "stdout",
          "text": [
            "Epoch 1/50\n",
            "2/2 [==============================] - 1s 11ms/step - loss: 31.8576 - mae: 31.8576\n",
            "Epoch 2/50\n",
            "2/2 [==============================] - 0s 8ms/step - loss: 31.1160 - mae: 31.1160\n",
            "Epoch 3/50\n",
            "2/2 [==============================] - 0s 9ms/step - loss: 30.3444 - mae: 30.3444\n",
            "Epoch 4/50\n",
            "2/2 [==============================] - 0s 9ms/step - loss: 29.5839 - mae: 29.5839\n",
            "Epoch 5/50\n",
            "2/2 [==============================] - 0s 9ms/step - loss: 28.8205 - mae: 28.8205\n",
            "Epoch 6/50\n",
            "2/2 [==============================] - 0s 8ms/step - loss: 28.0873 - mae: 28.0873\n",
            "Epoch 7/50\n",
            "2/2 [==============================] - 0s 9ms/step - loss: 27.3307 - mae: 27.3307\n",
            "Epoch 8/50\n",
            "2/2 [==============================] - 0s 9ms/step - loss: 26.6045 - mae: 26.6045\n",
            "Epoch 9/50\n",
            "2/2 [==============================] - 0s 8ms/step - loss: 25.8201 - mae: 25.8201\n",
            "Epoch 10/50\n",
            "2/2 [==============================] - 0s 9ms/step - loss: 25.0774 - mae: 25.0774\n",
            "Epoch 11/50\n",
            "2/2 [==============================] - 0s 12ms/step - loss: 24.3789 - mae: 24.3789\n",
            "Epoch 12/50\n",
            "2/2 [==============================] - 0s 9ms/step - loss: 23.6151 - mae: 23.6151\n",
            "Epoch 13/50\n",
            "2/2 [==============================] - 0s 9ms/step - loss: 22.8943 - mae: 22.8943\n",
            "Epoch 14/50\n",
            "2/2 [==============================] - 0s 8ms/step - loss: 22.1567 - mae: 22.1567\n",
            "Epoch 15/50\n",
            "2/2 [==============================] - 0s 9ms/step - loss: 21.4204 - mae: 21.4204\n",
            "Epoch 16/50\n",
            "2/2 [==============================] - 0s 8ms/step - loss: 20.7040 - mae: 20.7040\n",
            "Epoch 17/50\n",
            "2/2 [==============================] - 0s 10ms/step - loss: 19.9434 - mae: 19.9434\n",
            "Epoch 18/50\n",
            "2/2 [==============================] - 0s 8ms/step - loss: 19.2561 - mae: 19.2561\n",
            "Epoch 19/50\n",
            "2/2 [==============================] - 0s 9ms/step - loss: 18.5126 - mae: 18.5126\n",
            "Epoch 20/50\n",
            "2/2 [==============================] - 0s 8ms/step - loss: 17.7759 - mae: 17.7759\n",
            "Epoch 21/50\n",
            "2/2 [==============================] - 0s 8ms/step - loss: 17.0561 - mae: 17.0561\n",
            "Epoch 22/50\n",
            "2/2 [==============================] - 0s 7ms/step - loss: 16.3147 - mae: 16.3147\n",
            "Epoch 23/50\n",
            "2/2 [==============================] - 0s 7ms/step - loss: 15.6134 - mae: 15.6134\n",
            "Epoch 24/50\n",
            "2/2 [==============================] - 0s 8ms/step - loss: 14.8734 - mae: 14.8734\n",
            "Epoch 25/50\n",
            "2/2 [==============================] - 0s 8ms/step - loss: 14.1614 - mae: 14.1614\n",
            "Epoch 26/50\n",
            "2/2 [==============================] - 0s 8ms/step - loss: 13.4259 - mae: 13.4259\n",
            "Epoch 27/50\n",
            "2/2 [==============================] - 0s 10ms/step - loss: 12.7174 - mae: 12.7174\n",
            "Epoch 28/50\n",
            "2/2 [==============================] - 0s 9ms/step - loss: 11.9909 - mae: 11.9909\n",
            "Epoch 29/50\n",
            "2/2 [==============================] - 0s 8ms/step - loss: 11.3078 - mae: 11.3078\n",
            "Epoch 30/50\n",
            "2/2 [==============================] - 0s 9ms/step - loss: 10.6039 - mae: 10.6039\n",
            "Epoch 31/50\n",
            "2/2 [==============================] - 0s 9ms/step - loss: 9.8802 - mae: 9.8802\n",
            "Epoch 32/50\n",
            "2/2 [==============================] - 0s 8ms/step - loss: 9.2067 - mae: 9.2067\n",
            "Epoch 33/50\n",
            "2/2 [==============================] - 0s 9ms/step - loss: 8.5082 - mae: 8.5082\n",
            "Epoch 34/50\n",
            "2/2 [==============================] - 0s 7ms/step - loss: 7.7996 - mae: 7.7996\n",
            "Epoch 35/50\n",
            "2/2 [==============================] - 0s 7ms/step - loss: 7.1259 - mae: 7.1259\n",
            "Epoch 36/50\n",
            "2/2 [==============================] - 0s 8ms/step - loss: 6.3893 - mae: 6.3893\n",
            "Epoch 37/50\n",
            "2/2 [==============================] - 0s 8ms/step - loss: 5.6866 - mae: 5.6866\n",
            "Epoch 38/50\n",
            "2/2 [==============================] - 0s 8ms/step - loss: 4.9839 - mae: 4.9839\n",
            "Epoch 39/50\n",
            "2/2 [==============================] - 0s 8ms/step - loss: 4.2634 - mae: 4.2634\n",
            "Epoch 40/50\n",
            "2/2 [==============================] - 0s 8ms/step - loss: 3.5430 - mae: 3.5430\n",
            "Epoch 41/50\n",
            "2/2 [==============================] - 0s 8ms/step - loss: 2.8025 - mae: 2.8025\n",
            "Epoch 42/50\n",
            "2/2 [==============================] - 0s 8ms/step - loss: 2.1007 - mae: 2.1007\n",
            "Epoch 43/50\n",
            "2/2 [==============================] - 0s 9ms/step - loss: 1.3985 - mae: 1.3985\n",
            "Epoch 44/50\n",
            "2/2 [==============================] - 0s 8ms/step - loss: 0.6655 - mae: 0.6655\n",
            "Epoch 45/50\n",
            "2/2 [==============================] - 0s 8ms/step - loss: 0.1515 - mae: 0.1515\n",
            "Epoch 46/50\n",
            "2/2 [==============================] - 0s 8ms/step - loss: 0.6497 - mae: 0.6497\n",
            "Epoch 47/50\n",
            "2/2 [==============================] - 0s 8ms/step - loss: 0.9651 - mae: 0.9651\n",
            "Epoch 48/50\n",
            "2/2 [==============================] - 0s 8ms/step - loss: 1.0768 - mae: 1.0768\n",
            "Epoch 49/50\n",
            "2/2 [==============================] - 0s 10ms/step - loss: 1.0208 - mae: 1.0208\n",
            "Epoch 50/50\n",
            "2/2 [==============================] - 0s 10ms/step - loss: 0.8236 - mae: 0.8236\n"
          ]
        }
      ]
    },
    {
      "cell_type": "code",
      "source": [
        "# 4 evaluate\n",
        "model_0.evaluate(X_test,Y_test)"
      ],
      "metadata": {
        "colab": {
          "base_uri": "https://localhost:8080/"
        },
        "id": "cZavraROAEEQ",
        "outputId": "45c51c69-cabf-451e-dd58-c51f1d9f1dc6"
      },
      "execution_count": 143,
      "outputs": [
        {
          "output_type": "stream",
          "name": "stdout",
          "text": [
            "1/1 [==============================] - 0s 150ms/step - loss: 1.0308 - mae: 1.0308\n"
          ]
        },
        {
          "output_type": "execute_result",
          "data": {
            "text/plain": [
              "[1.030806303024292, 1.030806303024292]"
            ]
          },
          "metadata": {},
          "execution_count": 143
        }
      ]
    },
    {
      "cell_type": "code",
      "source": [
        "Y_preds = model_0.predict(X_test)\n",
        "Y_preds = tf.squeeze(Y_preds)\n",
        "Y_preds"
      ],
      "metadata": {
        "colab": {
          "base_uri": "https://localhost:8080/"
        },
        "id": "5NcM0bo7D-ca",
        "outputId": "356a7af4-de3c-43f4-8b33-75dbe89d60bf"
      },
      "execution_count": 144,
      "outputs": [
        {
          "output_type": "stream",
          "name": "stdout",
          "text": [
            "1/1 [==============================] - 0s 103ms/step\n"
          ]
        },
        {
          "output_type": "execute_result",
          "data": {
            "text/plain": [
              "<tf.Tensor: shape=(10,), dtype=float32, numpy=\n",
              "array([57.24758 , 58.666084, 60.084568, 61.503075, 62.92156 , 64.34005 ,\n",
              "       65.75855 , 67.17704 , 68.595535, 70.014046], dtype=float32)>"
            ]
          },
          "metadata": {},
          "execution_count": 144
        }
      ]
    },
    {
      "cell_type": "code",
      "source": [
        "plot_prediction(Prediction=Y_preds)"
      ],
      "metadata": {
        "colab": {
          "base_uri": "https://localhost:8080/",
          "height": 265
        },
        "id": "NIw1Y0WSEHJW",
        "outputId": "54269850-9588-4cdb-b288-421cad19abeb"
      },
      "execution_count": 145,
      "outputs": [
        {
          "output_type": "display_data",
          "data": {
            "text/plain": [
              "<Figure size 432x288 with 1 Axes>"
            ],
            "image/png": "[encoded data removed]"
          },
          "metadata": {
            "needs_background": "light"
          }
        }
      ]
    },
    {
      "cell_type": "code",
      "source": [
        "import pandas as pd\n",
        "pd.DataFrame(history.history).plot()"
      ],
      "metadata": {
        "colab": {
          "base_uri": "https://localhost:8080/",
          "height": 282
        },
        "id": "pjumjZRFEWpO",
        "outputId": "073fcefd-b18e-403d-9ae3-aef49d426f59"
      },
      "execution_count": 146,
      "outputs": [
        {
          "output_type": "execute_result",
          "data": {
            "text/plain": [
              "<matplotlib.axes._subplots.AxesSubplot at 0x7f0adf6cb490>"
            ]
          },
          "metadata": {},
          "execution_count": 146
        },
        {
          "output_type": "display_data",
          "data": {
            "text/plain": [
              "<Figure size 432x288 with 1 Axes>"
            ],
            "image/png": "[encoded data removed]"
          },
          "metadata": {
            "needs_background": "light"
          }
        }
      ]
    },
    {
      "cell_type": "code",
      "source": [],
      "metadata": {
        "id": "dVw92LoGIVTB"
      },
      "execution_count": null,
      "outputs": []
    }
  ]
}