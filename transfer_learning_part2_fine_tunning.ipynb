{
  "nbformat": 4,
  "nbformat_minor": 0,
  "metadata": {
    "colab": {
      "provenance": [],
      "authorship_tag": "ABX9TyPZrXW4FAnIqF7uhUqReYX9",
      "include_colab_link": true
    },
    "kernelspec": {
      "name": "python3",
      "display_name": "Python 3"
    },
    "language_info": {
      "name": "python"
    },
    "accelerator": "GPU",
    "gpuClass": "standard"
  },
  "cells": [
    {
      "cell_type": "markdown",
      "metadata": {
        "id": "view-in-github",
        "colab_type": "text"
      },
      "source": [
        "<a href=\"https://colab.research.google.com/github/Hassan-jr/Tensorflow-Deep-Learning/blob/main/transfer_learning_part2_fine_tunning.ipynb\" target=\"_parent\"><img src=\"https://colab.research.google.com/assets/colab-badge.svg\" alt=\"Open In Colab\"/></a>"
      ]
    },
    {
      "cell_type": "markdown",
      "source": [
        "#Download helper function"
      ],
      "metadata": {
        "id": "R8wh7Jjqylol"
      }
    },
    {
      "cell_type": "code",
      "source": [
        "!wget https://raw.githubusercontent.com/mrdbourke/tensorflow-deep-learning/main/extras/helper_functions.py\n"
      ],
      "metadata": {
        "id": "Df8HC0N4yGtd",
        "colab": {
          "base_uri": "https://localhost:8080/"
        },
        "outputId": "17b01a61-fdd4-42f7-ca44-5c8c8ae47d8e"
      },
      "execution_count": 11,
      "outputs": [
        {
          "output_type": "stream",
          "name": "stdout",
          "text": [
            "--2023-03-06 09:31:51--  https://raw.githubusercontent.com/mrdbourke/tensorflow-deep-learning/main/extras/helper_functions.py\n",
            "Resolving raw.githubusercontent.com (raw.githubusercontent.com)... 185.199.108.133, 185.199.109.133, 185.199.110.133, ...\n",
            "Connecting to raw.githubusercontent.com (raw.githubusercontent.com)|185.199.108.133|:443... connected.\n",
            "HTTP request sent, awaiting response... 200 OK\n",
            "Length: 10246 (10K) [text/plain]\n",
            "Saving to: ‘helper_functions.py’\n",
            "\n",
            "helper_functions.py 100%[===================>]  10.01K  --.-KB/s    in 0s      \n",
            "\n",
            "2023-03-06 09:31:51 (105 MB/s) - ‘helper_functions.py’ saved [10246/10246]\n",
            "\n"
          ]
        }
      ]
    },
    {
      "cell_type": "code",
      "source": [
        "from helper_functions import create_tensorboard_callback, unzip_data, plot_loss_curves, walk_through_dir"
      ],
      "metadata": {
        "id": "rkwN7LnRzsXp"
      },
      "execution_count": 12,
      "outputs": []
    },
    {
      "cell_type": "markdown",
      "source": [
        "# Get The data"
      ],
      "metadata": {
        "id": "eWK4XBhM0OGG"
      }
    },
    {
      "cell_type": "code",
      "source": [
        "## Download and unzip\n",
        "!wget https://storage.googleapis.com/ztm_tf_course/food_vision/10_food_classes_10_percent.zip\n",
        "unzip_data(\"10_food_classes_10_percent.zip\")"
      ],
      "metadata": {
        "colab": {
          "base_uri": "https://localhost:8080/"
        },
        "id": "GcIwNWGa53wj",
        "outputId": "e9c3a390-b557-470f-ba1f-a1da12fc7df3"
      },
      "execution_count": 13,
      "outputs": [
        {
          "output_type": "stream",
          "name": "stdout",
          "text": [
            "--2023-03-06 09:31:52--  https://storage.googleapis.com/ztm_tf_course/food_vision/10_food_classes_10_percent.zip\n",
            "Resolving storage.googleapis.com (storage.googleapis.com)... 74.125.68.128, 74.125.24.128, 142.250.4.128, ...\n",
            "Connecting to storage.googleapis.com (storage.googleapis.com)|74.125.68.128|:443... connected.\n",
            "HTTP request sent, awaiting response... 200 OK\n",
            "Length: 168546183 (161M) [application/zip]\n",
            "Saving to: ‘10_food_classes_10_percent.zip’\n",
            "\n",
            "10_food_classes_10_ 100%[===================>] 160.74M  23.1MB/s    in 8.3s    \n",
            "\n",
            "2023-03-06 09:32:01 (19.3 MB/s) - ‘10_food_classes_10_percent.zip’ saved [168546183/168546183]\n",
            "\n"
          ]
        }
      ]
    },
    {
      "cell_type": "code",
      "source": [
        "walk_through_dir('10_food_classes_10_percent')"
      ],
      "metadata": {
        "colab": {
          "base_uri": "https://localhost:8080/"
        },
        "id": "qdP2yJKh53zP",
        "outputId": "d4e9ca21-fe66-498d-be23-630150904506"
      },
      "execution_count": 14,
      "outputs": [
        {
          "output_type": "stream",
          "name": "stdout",
          "text": [
            "There are 2 directories and 0 images in '10_food_classes_10_percent'.\n",
            "There are 10 directories and 0 images in '10_food_classes_10_percent/test'.\n",
            "There are 0 directories and 250 images in '10_food_classes_10_percent/test/grilled_salmon'.\n",
            "There are 0 directories and 250 images in '10_food_classes_10_percent/test/sushi'.\n",
            "There are 0 directories and 250 images in '10_food_classes_10_percent/test/pizza'.\n",
            "There are 0 directories and 250 images in '10_food_classes_10_percent/test/steak'.\n",
            "There are 0 directories and 250 images in '10_food_classes_10_percent/test/fried_rice'.\n",
            "There are 0 directories and 250 images in '10_food_classes_10_percent/test/chicken_curry'.\n",
            "There are 0 directories and 250 images in '10_food_classes_10_percent/test/ice_cream'.\n",
            "There are 0 directories and 250 images in '10_food_classes_10_percent/test/hamburger'.\n",
            "There are 0 directories and 250 images in '10_food_classes_10_percent/test/chicken_wings'.\n",
            "There are 0 directories and 250 images in '10_food_classes_10_percent/test/ramen'.\n",
            "There are 10 directories and 0 images in '10_food_classes_10_percent/train'.\n",
            "There are 0 directories and 75 images in '10_food_classes_10_percent/train/grilled_salmon'.\n",
            "There are 0 directories and 75 images in '10_food_classes_10_percent/train/sushi'.\n",
            "There are 0 directories and 75 images in '10_food_classes_10_percent/train/pizza'.\n",
            "There are 0 directories and 75 images in '10_food_classes_10_percent/train/steak'.\n",
            "There are 0 directories and 75 images in '10_food_classes_10_percent/train/fried_rice'.\n",
            "There are 0 directories and 75 images in '10_food_classes_10_percent/train/chicken_curry'.\n",
            "There are 0 directories and 75 images in '10_food_classes_10_percent/train/ice_cream'.\n",
            "There are 0 directories and 75 images in '10_food_classes_10_percent/train/hamburger'.\n",
            "There are 0 directories and 75 images in '10_food_classes_10_percent/train/chicken_wings'.\n",
            "There are 0 directories and 75 images in '10_food_classes_10_percent/train/ramen'.\n"
          ]
        }
      ]
    },
    {
      "cell_type": "markdown",
      "source": [
        "## Prepare The data"
      ],
      "metadata": {
        "id": "WtPZ8quv532L"
      }
    },
    {
      "cell_type": "code",
      "source": [
        "train_dir = \"10_food_classes_10_percent/train\"\n",
        "test_dir = \"10_food_classes_10_percent/test\""
      ],
      "metadata": {
        "id": "vmxQO5Hi534_"
      },
      "execution_count": 15,
      "outputs": []
    },
    {
      "cell_type": "code",
      "source": [
        "import tensorflow as tf\n",
        "IMAGE_SIZE = (224,224)\n",
        "BATCH_SIZE = 32\n",
        "train_data = tf.keras.preprocessing.image_dataset_from_directory(directory=train_dir,\n",
        "                                                                 image_size=IMAGE_SIZE,\n",
        "                                                                 batch_size=BATCH_SIZE,\n",
        "                                                                 label_mode=\"categorical\")\n",
        "test_data = tf.keras.preprocessing.image_dataset_from_directory(directory=test_dir,\n",
        "                                                                 image_size=IMAGE_SIZE,\n",
        "                                                                 batch_size=BATCH_SIZE,\n",
        "                                                                 label_mode=\"categorical\")"
      ],
      "metadata": {
        "colab": {
          "base_uri": "https://localhost:8080/"
        },
        "id": "aHIKcUsG537e",
        "outputId": "50ee9159-a984-4b76-df01-07e9c2ea7d57"
      },
      "execution_count": 16,
      "outputs": [
        {
          "output_type": "stream",
          "name": "stdout",
          "text": [
            "Found 750 files belonging to 10 classes.\n",
            "Found 2500 files belonging to 10 classes.\n"
          ]
        }
      ]
    },
    {
      "cell_type": "code",
      "source": [
        "train_data.class_names"
      ],
      "metadata": {
        "colab": {
          "base_uri": "https://localhost:8080/"
        },
        "id": "3HvqcZdw53-I",
        "outputId": "fc9dd607-2033-4076-938c-812d83cdb4e3"
      },
      "execution_count": 17,
      "outputs": [
        {
          "output_type": "execute_result",
          "data": {
            "text/plain": [
              "['chicken_curry',\n",
              " 'chicken_wings',\n",
              " 'fried_rice',\n",
              " 'grilled_salmon',\n",
              " 'hamburger',\n",
              " 'ice_cream',\n",
              " 'pizza',\n",
              " 'ramen',\n",
              " 'steak',\n",
              " 'sushi']"
            ]
          },
          "metadata": {},
          "execution_count": 17
        }
      ]
    },
    {
      "cell_type": "code",
      "source": [
        "train_data.element_spec\n"
      ],
      "metadata": {
        "colab": {
          "base_uri": "https://localhost:8080/"
        },
        "id": "XDnB3hlU54A8",
        "outputId": "9a5c12b4-7cff-4cf3-da36-ed04b1bbedb3"
      },
      "execution_count": 18,
      "outputs": [
        {
          "output_type": "execute_result",
          "data": {
            "text/plain": [
              "(TensorSpec(shape=(None, 224, 224, 3), dtype=tf.float32, name=None),\n",
              " TensorSpec(shape=(None, 10), dtype=tf.float32, name=None))"
            ]
          },
          "metadata": {},
          "execution_count": 18
        }
      ]
    },
    {
      "cell_type": "code",
      "source": [
        "for images, labels in train_data.take(1):\n",
        "  print(images,labels)"
      ],
      "metadata": {
        "colab": {
          "base_uri": "https://localhost:8080/"
        },
        "id": "ydce_PkP54DX",
        "outputId": "17cb4af3-da93-4057-c3d8-bea3d0492bd2"
      },
      "execution_count": 19,
      "outputs": [
        {
          "output_type": "stream",
          "name": "stdout",
          "text": [
            "tf.Tensor(\n",
            "[[[[7.60758896e+01 3.90758934e+01 1.20758924e+01]\n",
            "   [8.14027481e+01 4.44027443e+01 1.74027424e+01]\n",
            "   [8.27410736e+01 4.57410736e+01 1.67410717e+01]\n",
            "   ...\n",
            "   [5.87366066e+01 2.37366066e+01 4.73660707e+00]\n",
            "   [5.87366066e+01 2.37366066e+01 4.73660707e+00]\n",
            "   [5.87366066e+01 2.37366066e+01 4.73660707e+00]]\n",
            "\n",
            "  [[7.98660736e+01 4.28660698e+01 1.58660717e+01]\n",
            "   [8.44524918e+01 4.74524879e+01 2.04524879e+01]\n",
            "   [8.57946472e+01 4.87946434e+01 1.97946434e+01]\n",
            "   ...\n",
            "   [5.80000000e+01 2.30000000e+01 4.00000000e+00]\n",
            "   [5.80000000e+01 2.30000000e+01 4.00000000e+00]\n",
            "   [5.80000000e+01 2.30000000e+01 4.00000000e+00]]\n",
            "\n",
            "  [[7.99196396e+01 4.19687500e+01 1.52857141e+01]\n",
            "   [8.41967545e+01 4.62458572e+01 1.95628185e+01]\n",
            "   [8.53169632e+01 4.76830368e+01 1.86830349e+01]\n",
            "   ...\n",
            "   [5.70000000e+01 2.20000000e+01 3.00000000e+00]\n",
            "   [5.70000000e+01 2.20000000e+01 3.00000000e+00]\n",
            "   [5.70000000e+01 2.20000000e+01 3.00000000e+00]]\n",
            "\n",
            "  ...\n",
            "\n",
            "  [[7.00000000e+00 3.00000000e+00 0.00000000e+00]\n",
            "   [7.00000000e+00 3.00000000e+00 0.00000000e+00]\n",
            "   [7.00000000e+00 3.00000000e+00 0.00000000e+00]\n",
            "   ...\n",
            "   [1.23384865e+02 1.06599129e+02 2.85991325e+01]\n",
            "   [1.20905914e+02 1.01905914e+02 2.49059143e+01]\n",
            "   [1.17959778e+02 9.80089111e+01 2.13258667e+01]]\n",
            "\n",
            "  [[6.00000000e+00 2.00000000e+00 0.00000000e+00]\n",
            "   [6.00000000e+00 2.00000000e+00 0.00000000e+00]\n",
            "   [6.00000000e+00 2.00000000e+00 0.00000000e+00]\n",
            "   ...\n",
            "   [1.20745201e+02 1.03959465e+02 2.59594650e+01]\n",
            "   [1.20718719e+02 1.02138397e+02 2.49285583e+01]\n",
            "   [1.19209839e+02 1.00209839e+02 2.32098389e+01]]\n",
            "\n",
            "  [[6.00000000e+00 2.00000000e+00 0.00000000e+00]\n",
            "   [6.00000000e+00 2.00000000e+00 0.00000000e+00]\n",
            "   [6.00000000e+00 2.00000000e+00 0.00000000e+00]\n",
            "   ...\n",
            "   [1.18891304e+02 1.02105568e+02 2.41055698e+01]\n",
            "   [1.19928558e+02 1.02928558e+02 2.49285583e+01]\n",
            "   [1.20000000e+02 1.01000000e+02 2.40000000e+01]]]\n",
            "\n",
            "\n",
            " [[[2.54000000e+02 2.54000000e+02 2.54000000e+02]\n",
            "   [2.54000000e+02 2.54000000e+02 2.54000000e+02]\n",
            "   [2.54000000e+02 2.54000000e+02 2.54000000e+02]\n",
            "   ...\n",
            "   [2.54000000e+02 2.54000000e+02 2.54000000e+02]\n",
            "   [2.54000000e+02 2.54000000e+02 2.54000000e+02]\n",
            "   [2.54000000e+02 2.54000000e+02 2.54000000e+02]]\n",
            "\n",
            "  [[2.54000000e+02 2.54000000e+02 2.54000000e+02]\n",
            "   [2.54000000e+02 2.54000000e+02 2.54000000e+02]\n",
            "   [2.54000000e+02 2.54000000e+02 2.54000000e+02]\n",
            "   ...\n",
            "   [2.54000000e+02 2.54000000e+02 2.54000000e+02]\n",
            "   [2.54000000e+02 2.54000000e+02 2.54000000e+02]\n",
            "   [2.54000000e+02 2.54000000e+02 2.54000000e+02]]\n",
            "\n",
            "  [[2.54000000e+02 2.54000000e+02 2.54000000e+02]\n",
            "   [2.54000000e+02 2.54000000e+02 2.54000000e+02]\n",
            "   [2.54000000e+02 2.54000000e+02 2.54000000e+02]\n",
            "   ...\n",
            "   [2.54000000e+02 2.54000000e+02 2.54000000e+02]\n",
            "   [2.54000000e+02 2.54000000e+02 2.54000000e+02]\n",
            "   [2.54000000e+02 2.54000000e+02 2.54000000e+02]]\n",
            "\n",
            "  ...\n",
            "\n",
            "  [[2.54000000e+02 2.54000000e+02 2.54000000e+02]\n",
            "   [2.54000000e+02 2.54000000e+02 2.54000000e+02]\n",
            "   [2.54000000e+02 2.54000000e+02 2.54000000e+02]\n",
            "   ...\n",
            "   [2.54000000e+02 2.54000000e+02 2.54000000e+02]\n",
            "   [2.54000000e+02 2.54000000e+02 2.54000000e+02]\n",
            "   [2.54000000e+02 2.54000000e+02 2.54000000e+02]]\n",
            "\n",
            "  [[2.54000000e+02 2.54000000e+02 2.54000000e+02]\n",
            "   [2.54000000e+02 2.54000000e+02 2.54000000e+02]\n",
            "   [2.54000000e+02 2.54000000e+02 2.54000000e+02]\n",
            "   ...\n",
            "   [2.54000000e+02 2.54000000e+02 2.54000000e+02]\n",
            "   [2.54000000e+02 2.54000000e+02 2.54000000e+02]\n",
            "   [2.54000000e+02 2.54000000e+02 2.54000000e+02]]\n",
            "\n",
            "  [[2.54000000e+02 2.54000000e+02 2.54000000e+02]\n",
            "   [2.54000000e+02 2.54000000e+02 2.54000000e+02]\n",
            "   [2.54000000e+02 2.54000000e+02 2.54000000e+02]\n",
            "   ...\n",
            "   [2.54000000e+02 2.54000000e+02 2.54000000e+02]\n",
            "   [2.54000000e+02 2.54000000e+02 2.54000000e+02]\n",
            "   [2.54000000e+02 2.54000000e+02 2.54000000e+02]]]\n",
            "\n",
            "\n",
            " [[[0.00000000e+00 0.00000000e+00 0.00000000e+00]\n",
            "   [0.00000000e+00 0.00000000e+00 0.00000000e+00]\n",
            "   [0.00000000e+00 0.00000000e+00 0.00000000e+00]\n",
            "   ...\n",
            "   [6.49897842e+01 7.09897842e+01 6.09897804e+01]\n",
            "   [6.39081688e+01 6.99081650e+01 5.99081688e+01]\n",
            "   [6.11734810e+01 6.71734772e+01 5.71734810e+01]]\n",
            "\n",
            "  [[0.00000000e+00 0.00000000e+00 0.00000000e+00]\n",
            "   [0.00000000e+00 0.00000000e+00 0.00000000e+00]\n",
            "   [0.00000000e+00 0.00000000e+00 0.00000000e+00]\n",
            "   ...\n",
            "   [6.39591866e+01 6.99591827e+01 5.79591866e+01]\n",
            "   [6.59286041e+01 7.19286041e+01 5.99286041e+01]\n",
            "   [6.23826714e+01 6.83826675e+01 5.63826714e+01]]\n",
            "\n",
            "  [[0.00000000e+00 0.00000000e+00 0.00000000e+00]\n",
            "   [0.00000000e+00 0.00000000e+00 0.00000000e+00]\n",
            "   [0.00000000e+00 0.00000000e+00 0.00000000e+00]\n",
            "   ...\n",
            "   [6.88520050e+01 7.28520050e+01 5.76836472e+01]\n",
            "   [6.56275558e+01 6.96275558e+01 5.42856979e+01]\n",
            "   [6.70102005e+01 7.10102005e+01 5.60153084e+01]]\n",
            "\n",
            "  ...\n",
            "\n",
            "  [[8.95969849e+01 8.10918732e+01 4.65306969e+01]\n",
            "   [7.87141571e+01 6.87141571e+01 3.34998894e+01]\n",
            "   [9.24233856e+01 8.24233856e+01 4.72091255e+01]\n",
            "   ...\n",
            "   [1.62142334e+01 1.30458546e+01 0.00000000e+00]\n",
            "   [1.58264542e+01 1.34999695e+01 1.98963106e-01]\n",
            "   [1.45713501e+01 1.23570862e+01 7.65237510e-02]]\n",
            "\n",
            "  [[8.67806396e+01 7.77806396e+01 4.67806358e+01]\n",
            "   [8.79999771e+01 7.69999771e+01 4.68673210e+01]\n",
            "   [9.00255127e+01 7.90255127e+01 4.86275597e+01]\n",
            "   ...\n",
            "   [1.27550869e+01 1.08010149e+01 0.00000000e+00]\n",
            "   [1.09948673e+01 1.17959394e+01 0.00000000e+00]\n",
            "   [8.66836834e+00 9.66836834e+00 0.00000000e+00]]\n",
            "\n",
            "  [[9.06069870e+01 8.16069870e+01 5.26069870e+01]\n",
            "   [8.99032364e+01 7.89032364e+01 5.09032326e+01]\n",
            "   [9.21582184e+01 8.11582184e+01 5.31582184e+01]\n",
            "   ...\n",
            "   [1.37908354e+01 1.24337187e+01 0.00000000e+00]\n",
            "   [1.26429443e+01 1.36429443e+01 3.31671268e-01]\n",
            "   [9.78582764e+00 1.17858276e+01 1.27565026e-01]]]\n",
            "\n",
            "\n",
            " ...\n",
            "\n",
            "\n",
            " [[[5.86122437e+01 4.96122437e+01 3.28673477e+01]\n",
            "   [6.24336739e+01 5.04336739e+01 3.44336739e+01]\n",
            "   [6.92704086e+01 5.45714302e+01 3.80663261e+01]\n",
            "   ...\n",
            "   [3.40511589e+01 5.91844845e+00 1.72756557e+01]\n",
            "   [4.20867882e+01 7.94390678e+00 2.19439068e+01]\n",
            "   [4.69285355e+01 8.92853642e+00 2.39285374e+01]]\n",
            "\n",
            "  [[6.74540863e+01 5.54285698e+01 4.23112259e+01]\n",
            "   [6.42040863e+01 5.10663261e+01 3.54897919e+01]\n",
            "   [6.61020432e+01 4.98877525e+01 3.46734657e+01]\n",
            "   ...\n",
            "   [3.99134865e+01 1.06429882e+01 2.04848480e+01]\n",
            "   [5.39795341e+01 2.05662346e+01 3.17040005e+01]\n",
            "   [4.74082031e+01 9.40820312e+00 2.24082031e+01]]\n",
            "\n",
            "  [[6.52806091e+01 5.13520393e+01 4.25000000e+01]\n",
            "   [6.71020432e+01 5.07448997e+01 4.02448959e+01]\n",
            "   [7.07397995e+01 5.29540825e+01 3.85255089e+01]\n",
            "   ...\n",
            "   [3.76685905e+01 7.35727406e+00 1.60766544e+01]\n",
            "   [5.28264465e+01 1.67141819e+01 2.71988869e+01]\n",
            "   [4.75664597e+01 7.99503040e+00 1.94236031e+01]]\n",
            "\n",
            "  ...\n",
            "\n",
            "  [[6.90663147e+01 5.80663147e+01 6.24949036e+01]\n",
            "   [6.46989975e+01 5.19132919e+01 5.82704086e+01]\n",
            "   [6.55765457e+01 4.83163452e+01 5.36275406e+01]\n",
            "   ...\n",
            "   [1.90596909e+02 1.83260147e+02 1.74663239e+02]\n",
            "   [1.91071442e+02 1.82071442e+02 1.74642853e+02]\n",
            "   [1.92000000e+02 1.83000000e+02 1.75571411e+02]]\n",
            "\n",
            "  [[6.70714111e+01 5.60714111e+01 6.20714111e+01]\n",
            "   [6.88010712e+01 5.68010674e+01 5.90765457e+01]\n",
            "   [6.86326904e+01 5.21888161e+01 5.23877487e+01]\n",
            "   ...\n",
            "   [1.90285675e+02 1.81714203e+02 1.72499939e+02]\n",
            "   [1.90142853e+02 1.81142853e+02 1.72142853e+02]\n",
            "   [1.91071411e+02 1.82071411e+02 1.73071411e+02]]\n",
            "\n",
            "  [[6.65867310e+01 5.55867348e+01 6.07602081e+01]\n",
            "   [6.88367386e+01 5.68367348e+01 5.77857208e+01]\n",
            "   [7.28571320e+01 5.82244720e+01 5.34948921e+01]\n",
            "   ...\n",
            "   [1.88433670e+02 1.80862198e+02 1.69647934e+02]\n",
            "   [1.88357147e+02 1.80357147e+02 1.69357147e+02]\n",
            "   [1.88127533e+02 1.80127533e+02 1.69127533e+02]]]\n",
            "\n",
            "\n",
            " [[[1.31734695e+02 1.48918365e+02 1.60433670e+02]\n",
            "   [9.33214264e+01 1.10515305e+02 1.24112244e+02]\n",
            "   [7.28418350e+01 9.00561218e+01 1.07923470e+02]\n",
            "   ...\n",
            "   [2.45295929e+02 1.43168304e+02 8.95918045e+01]\n",
            "   [2.52096939e+02 1.44025513e+02 9.23826599e+01]\n",
            "   [2.48362183e+02 1.37647903e+02 8.70050430e+01]]\n",
            "\n",
            "  [[6.43265305e+01 8.50918350e+01 9.94234619e+01]\n",
            "   [7.23010178e+01 9.12959213e+01 1.08015312e+02]\n",
            "   [6.52193832e+01 8.32755051e+01 1.03107140e+02]\n",
            "   ...\n",
            "   [2.47040802e+02 1.54581528e+02 9.75101242e+01]\n",
            "   [2.42285706e+02 1.42795883e+02 8.80050735e+01]\n",
            "   [2.46260406e+02 1.42092041e+02 8.85001373e+01]]\n",
            "\n",
            "  [[7.08571472e+01 9.35000000e+01 1.14714287e+02]\n",
            "   [5.77142868e+01 8.03571472e+01 1.01571426e+02]\n",
            "   [6.78163223e+01 8.88622437e+01 1.10841835e+02]\n",
            "   ...\n",
            "   [2.45907913e+02 1.65162903e+02 1.08948647e+02]\n",
            "   [2.41056137e+02 1.48255066e+02 9.11836319e+01]\n",
            "   [2.46857422e+02 1.47500244e+02 8.84237061e+01]]\n",
            "\n",
            "  ...\n",
            "\n",
            "  [[5.10917854e+01 7.18775177e+01 1.00448990e+02]\n",
            "   [4.72091026e+01 6.82091064e+01 9.72091064e+01]\n",
            "   [4.67907219e+01 6.77907257e+01 9.84540253e+01]\n",
            "   ...\n",
            "   [6.52855835e+01 7.83314896e+01 1.14265083e+02]\n",
            "   [6.11019936e+01 7.43162613e+01 1.09744789e+02]\n",
            "   [6.03521500e+01 7.35664139e+01 1.08994942e+02]]\n",
            "\n",
            "  [[4.38163185e+01 6.68163147e+01 9.78163147e+01]\n",
            "   [4.33367424e+01 6.63367462e+01 9.73367462e+01]\n",
            "   [5.18979797e+01 7.48979797e+01 1.05897980e+02]\n",
            "   ...\n",
            "   [6.58162918e+01 7.88162918e+01 1.13816292e+02]\n",
            "   [6.83723373e+01 8.13723373e+01 1.16372337e+02]\n",
            "   [6.13369827e+01 7.43369827e+01 1.08336983e+02]]\n",
            "\n",
            "  [[4.71124458e+01 7.21124420e+01 1.03112442e+02]\n",
            "   [4.59541893e+01 7.09541931e+01 1.01954193e+02]\n",
            "   [4.95815773e+01 7.25815735e+01 1.04367294e+02]\n",
            "   ...\n",
            "   [6.09898224e+01 7.39898224e+01 1.08989822e+02]\n",
            "   [6.87348251e+01 8.17348251e+01 1.15734825e+02]\n",
            "   [6.17603378e+01 7.47603378e+01 1.08760338e+02]]]\n",
            "\n",
            "\n",
            " [[[1.24663269e+02 1.10663269e+02 9.76632690e+01]\n",
            "   [1.83015305e+02 1.69015305e+02 1.56015305e+02]\n",
            "   [1.99505096e+02 1.86505096e+02 1.70505096e+02]\n",
            "   ...\n",
            "   [2.53571434e+01 1.09286146e+01 1.09286146e+01]\n",
            "   [2.29285583e+01 8.92855835e+00 7.92855835e+00]\n",
            "   [2.23571777e+01 8.35717773e+00 7.35717773e+00]]\n",
            "\n",
            "  [[1.75744904e+02 1.61744904e+02 1.48744904e+02]\n",
            "   [1.93127548e+02 1.79127548e+02 1.66127548e+02]\n",
            "   [2.00714279e+02 1.87714279e+02 1.71500000e+02]\n",
            "   ...\n",
            "   [2.23418159e+01 7.91328812e+00 7.91328812e+00]\n",
            "   [2.20000000e+01 8.00000000e+00 7.00000000e+00]\n",
            "   [2.30000000e+01 9.00000000e+00 8.00000000e+00]]\n",
            "\n",
            "  [[1.95158157e+02 1.81515305e+02 1.65729599e+02]\n",
            "   [1.95755096e+02 1.82112244e+02 1.66112244e+02]\n",
            "   [2.01214294e+02 1.87571442e+02 1.71403061e+02]\n",
            "   ...\n",
            "   [2.22601776e+01 8.26017761e+00 8.04591370e+00]\n",
            "   [2.18571548e+01 8.28572750e+00 8.28572750e+00]\n",
            "   [2.25714283e+01 9.00000000e+00 8.21428585e+00]]\n",
            "\n",
            "  ...\n",
            "\n",
            "  [[4.35050507e+01 1.92907867e+01 1.50765228e+01]\n",
            "   [4.14999542e+01 1.72856922e+01 1.30714283e+01]\n",
            "   [4.16734657e+01 1.72908306e+01 1.30765667e+01]\n",
            "   ...\n",
            "   [2.95255623e+01 1.07398272e+01 7.16835499e+00]\n",
            "   [2.91428223e+01 1.04591427e+01 6.87236309e+00]\n",
            "   [3.12857971e+01 1.39285889e+01 1.01428528e+01]]\n",
            "\n",
            "  [[2.78571815e+01 8.19392681e+00 2.52555418e+00]\n",
            "   [3.00714283e+01 9.21431160e+00 4.14286995e+00]\n",
            "   [2.81122265e+01 7.11222649e+00 2.11222625e+00]\n",
            "   ...\n",
            "   [3.61581917e+01 1.51581907e+01 1.21581907e+01]\n",
            "   [3.50051041e+01 1.41377792e+01 1.10714417e+01]\n",
            "   [3.62602196e+01 1.72602196e+01 1.32602186e+01]]\n",
            "\n",
            "  [[2.97703152e+01 1.17703161e+01 7.77031612e+00]\n",
            "   [2.69488697e+01 8.94886971e+00 4.94886971e+00]\n",
            "   [2.99439697e+01 1.12246094e+01 7.22460938e+00]\n",
            "   ...\n",
            "   [3.53416672e+01 1.36988754e+01 1.09131393e+01]\n",
            "   [3.61225662e+01 1.51225681e+01 1.21225681e+01]\n",
            "   [3.51430664e+01 1.41430664e+01 1.11430664e+01]]]], shape=(32, 224, 224, 3), dtype=float32) tf.Tensor(\n",
            "[[0. 0. 1. 0. 0. 0. 0. 0. 0. 0.]\n",
            " [0. 0. 0. 0. 1. 0. 0. 0. 0. 0.]\n",
            " [0. 0. 0. 0. 0. 0. 0. 1. 0. 0.]\n",
            " [0. 0. 1. 0. 0. 0. 0. 0. 0. 0.]\n",
            " [0. 0. 0. 1. 0. 0. 0. 0. 0. 0.]\n",
            " [0. 0. 1. 0. 0. 0. 0. 0. 0. 0.]\n",
            " [0. 0. 0. 0. 0. 0. 0. 1. 0. 0.]\n",
            " [0. 0. 0. 1. 0. 0. 0. 0. 0. 0.]\n",
            " [0. 0. 0. 0. 0. 0. 0. 0. 1. 0.]\n",
            " [0. 1. 0. 0. 0. 0. 0. 0. 0. 0.]\n",
            " [0. 0. 0. 0. 0. 0. 0. 0. 1. 0.]\n",
            " [0. 0. 0. 0. 0. 0. 0. 0. 0. 1.]\n",
            " [1. 0. 0. 0. 0. 0. 0. 0. 0. 0.]\n",
            " [0. 0. 0. 0. 0. 0. 1. 0. 0. 0.]\n",
            " [0. 0. 0. 0. 0. 0. 0. 0. 1. 0.]\n",
            " [0. 0. 0. 0. 0. 0. 0. 1. 0. 0.]\n",
            " [0. 1. 0. 0. 0. 0. 0. 0. 0. 0.]\n",
            " [0. 1. 0. 0. 0. 0. 0. 0. 0. 0.]\n",
            " [0. 0. 0. 0. 0. 0. 1. 0. 0. 0.]\n",
            " [0. 0. 0. 0. 0. 0. 0. 0. 0. 1.]\n",
            " [1. 0. 0. 0. 0. 0. 0. 0. 0. 0.]\n",
            " [0. 0. 0. 0. 1. 0. 0. 0. 0. 0.]\n",
            " [0. 0. 0. 0. 0. 0. 0. 0. 0. 1.]\n",
            " [0. 0. 0. 0. 0. 0. 0. 0. 1. 0.]\n",
            " [0. 0. 0. 0. 1. 0. 0. 0. 0. 0.]\n",
            " [0. 0. 0. 0. 0. 0. 0. 1. 0. 0.]\n",
            " [0. 0. 1. 0. 0. 0. 0. 0. 0. 0.]\n",
            " [0. 0. 1. 0. 0. 0. 0. 0. 0. 0.]\n",
            " [0. 1. 0. 0. 0. 0. 0. 0. 0. 0.]\n",
            " [1. 0. 0. 0. 0. 0. 0. 0. 0. 0.]\n",
            " [0. 0. 0. 0. 0. 0. 0. 0. 1. 0.]\n",
            " [0. 0. 0. 0. 0. 0. 0. 1. 0. 0.]], shape=(32, 10), dtype=float32)\n"
          ]
        }
      ]
    },
    {
      "cell_type": "markdown",
      "source": [
        "#  Create Model"
      ],
      "metadata": {
        "id": "vw5Fiswp54G4"
      }
    },
    {
      "cell_type": "code",
      "source": [
        "import tensorflow as tf\n",
        "# 1. Base Model\n",
        "base_model = tf.keras.applications.EfficientNetB0(include_top=False)\n",
        "\n",
        "# 2 Freeze the layers and dont train\n",
        "base_model.trainable=False\n",
        "\n",
        "# 3 GET THE INPUTS\n",
        "inputs = tf.keras.layers.Input(shape=(224,224,3), name=\"InputLayer\")\n",
        "\n",
        "# 4. Rescale the inputs ..... This is not for all the models like efficinet net\n",
        "# X = tf.keras.layers.experimental.preprosessing.Rescalling(1/225.) (inputs)\n",
        "\n",
        "# 5 top layers after the base model layers\n",
        "x = base_model(inputs)\n",
        "\n",
        "# 6 pooling layer\n",
        "x = tf.keras.layers.GlobalAveragePooling2D(name=\"GlobalAveragePoolingLayer\")(x)\n",
        "\n",
        "# 7 output\n",
        "output = tf.keras.layers.Dense(10, activation=\"softmax\", name=\"OutputLayer\")(x)\n",
        "\n",
        "# 8 CREATE THE MODLE\n",
        "model_0 = tf.keras.Model(inputs, output)\n",
        "\n",
        "# 9 COMPILT\n",
        "model_0.compile(loss=\"categorical_crossentropy\",\n",
        "                optimizer=tf.keras.optimizers.Adam(),\n",
        "                metrics=[\"accuracy\"])\n",
        "# 10 fit\n",
        "history_0= model_0.fit(train_data,\n",
        "            epochs=5,\n",
        "            steps_per_epoch=len(train_data),\n",
        "            validation_data=test_data,\n",
        "            validation_steps=len(test_data),\n",
        "            callbacks=[create_tensorboard_callback(\"transfer_learning\", \"Feature_extraction\")])\n"
      ],
      "metadata": {
        "colab": {
          "base_uri": "https://localhost:8080/"
        },
        "id": "leNkf1Do8RSy",
        "outputId": "e1f8b6cb-048f-4354-cd51-d0ba94a5e881"
      },
      "execution_count": 21,
      "outputs": [
        {
          "output_type": "stream",
          "name": "stderr",
          "text": [
            "WARNING:tensorflow:Model failed to serialize as JSON. Ignoring... Unable to serialize [2.0896919 2.1128857 2.1081853] to JSON. Unrecognized type <class 'tensorflow.python.framework.ops.EagerTensor'>.\n"
          ]
        },
        {
          "output_type": "stream",
          "name": "stdout",
          "text": [
            "Saving TensorBoard log files to: transfer_learning/Feature_extraction/20230306-093355\n",
            "Epoch 1/5\n",
            "24/24 [==============================] - 17s 372ms/step - loss: 1.8810 - accuracy: 0.4293 - val_loss: 1.3152 - val_accuracy: 0.7284\n",
            "Epoch 2/5\n",
            "24/24 [==============================] - 8s 330ms/step - loss: 1.1022 - accuracy: 0.7520 - val_loss: 0.8794 - val_accuracy: 0.8140\n",
            "Epoch 3/5\n",
            "24/24 [==============================] - 8s 337ms/step - loss: 0.7834 - accuracy: 0.8240 - val_loss: 0.7003 - val_accuracy: 0.8484\n",
            "Epoch 4/5\n",
            "24/24 [==============================] - 8s 338ms/step - loss: 0.6443 - accuracy: 0.8613 - val_loss: 0.6109 - val_accuracy: 0.8596\n",
            "Epoch 5/5\n",
            "24/24 [==============================] - 7s 297ms/step - loss: 0.5490 - accuracy: 0.8707 - val_loss: 0.5554 - val_accuracy: 0.8656\n"
          ]
        }
      ]
    },
    {
      "cell_type": "code",
      "source": [
        "plot_loss_curves(history_0)"
      ],
      "metadata": {
        "colab": {
          "base_uri": "https://localhost:8080/",
          "height": 573
        },
        "id": "ceb4fkcg8Rdq",
        "outputId": "a7babd2e-7e22-4e64-e88b-c7f1e44593fd"
      },
      "execution_count": 22,
      "outputs": [
        {
          "output_type": "display_data",
          "data": {
            "text/plain": [
              "<Figure size 432x288 with 1 Axes>"
            ],
            "image/png": "[encoded data removed]"
          },
          "metadata": {
            "needs_background": "light"
          }
        },
        {
          "output_type": "display_data",
          "data": {
            "text/plain": [
              "<Figure size 432x288 with 1 Axes>"
            ],
            "image/png": "[encoded data removed]"
          },
          "metadata": {
            "needs_background": "light"
          }
        }
      ]
    },
    {
      "cell_type": "code",
      "source": [],
      "metadata": {
        "id": "Wtsi9VyB8RnE"
      },
      "execution_count": 20,
      "outputs": []
    },
    {
      "cell_type": "code",
      "source": [],
      "metadata": {
        "id": "htHiXiqZ8Rp4"
      },
      "execution_count": 20,
      "outputs": []
    },
    {
      "cell_type": "code",
      "source": [],
      "metadata": {
        "id": "jQevnPht8Rsf"
      },
      "execution_count": 20,
      "outputs": []
    },
    {
      "cell_type": "code",
      "source": [],
      "metadata": {
        "id": "afTLpenw8Rv6"
      },
      "execution_count": 20,
      "outputs": []
    }
  ]
}