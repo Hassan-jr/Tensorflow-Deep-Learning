{
  "nbformat": 4,
  "nbformat_minor": 0,
  "metadata": {
    "colab": {
      "provenance": [],
      "authorship_tag": "ABX9TyNzv4/+pcrI5w9eOE36n/hx"
    },
    "kernelspec": {
      "name": "python3",
      "display_name": "Python 3"
    },
    "language_info": {
      "name": "python"
    },
    "accelerator": "GPU",
    "gpuClass": "standard"
  },
  "cells": [
    {
      "cell_type": "markdown",
      "source": [
        "#Download helper function"
      ],
      "metadata": {
        "id": "R8wh7Jjqylol"
      }
    },
    {
      "cell_type": "code",
      "source": [
        "!wget https://raw.githubusercontent.com/mrdbourke/tensorflow-deep-learning/main/extras/helper_functions.py\n"
      ],
      "metadata": {
        "id": "Df8HC0N4yGtd",
        "colab": {
          "base_uri": "https://localhost:8080/"
        },
        "outputId": "57c2f609-9386-4aa3-ff00-c8ba74fcb5da"
      },
      "execution_count": 1,
      "outputs": [
        {
          "output_type": "stream",
          "name": "stdout",
          "text": [
            "--2023-03-12 09:03:20--  https://raw.githubusercontent.com/mrdbourke/tensorflow-deep-learning/main/extras/helper_functions.py\n",
            "Resolving raw.githubusercontent.com (raw.githubusercontent.com)... 185.199.108.133, 185.199.109.133, 185.199.110.133, ...\n",
            "Connecting to raw.githubusercontent.com (raw.githubusercontent.com)|185.199.108.133|:443... connected.\n",
            "HTTP request sent, awaiting response... 200 OK\n",
            "Length: 10246 (10K) [text/plain]\n",
            "Saving to: ‘helper_functions.py’\n",
            "\n",
            "helper_functions.py 100%[===================>]  10.01K  --.-KB/s    in 0s      \n",
            "\n",
            "2023-03-12 09:03:20 (67.8 MB/s) - ‘helper_functions.py’ saved [10246/10246]\n",
            "\n"
          ]
        }
      ]
    },
    {
      "cell_type": "code",
      "source": [
        "from helper_functions import create_tensorboard_callback, unzip_data, plot_loss_curves, walk_through_dir"
      ],
      "metadata": {
        "id": "rkwN7LnRzsXp"
      },
      "execution_count": 2,
      "outputs": []
    },
    {
      "cell_type": "markdown",
      "source": [
        "# Get The data"
      ],
      "metadata": {
        "id": "eWK4XBhM0OGG"
      }
    },
    {
      "cell_type": "code",
      "source": [
        "## Download and unzip\n",
        "!wget https://storage.googleapis.com/ztm_tf_course/food_vision/10_food_classes_10_percent.zip\n",
        "unzip_data(\"10_food_classes_10_percent.zip\")"
      ],
      "metadata": {
        "colab": {
          "base_uri": "https://localhost:8080/"
        },
        "id": "GcIwNWGa53wj",
        "outputId": "ba7cf73f-5713-4644-e8df-0ea0c30944ab"
      },
      "execution_count": 3,
      "outputs": [
        {
          "output_type": "stream",
          "name": "stdout",
          "text": [
            "--2023-03-12 09:03:25--  https://storage.googleapis.com/ztm_tf_course/food_vision/10_food_classes_10_percent.zip\n",
            "Resolving storage.googleapis.com (storage.googleapis.com)... 172.217.194.128, 74.125.200.128, 74.125.68.128, ...\n",
            "Connecting to storage.googleapis.com (storage.googleapis.com)|172.217.194.128|:443... connected.\n",
            "HTTP request sent, awaiting response... 200 OK\n",
            "Length: 168546183 (161M) [application/zip]\n",
            "Saving to: ‘10_food_classes_10_percent.zip’\n",
            "\n",
            "10_food_classes_10_ 100%[===================>] 160.74M  23.5MB/s    in 7.9s    \n",
            "\n",
            "2023-03-12 09:03:33 (20.4 MB/s) - ‘10_food_classes_10_percent.zip’ saved [168546183/168546183]\n",
            "\n"
          ]
        }
      ]
    },
    {
      "cell_type": "code",
      "source": [
        "walk_through_dir('10_food_classes_10_percent')"
      ],
      "metadata": {
        "colab": {
          "base_uri": "https://localhost:8080/"
        },
        "id": "qdP2yJKh53zP",
        "outputId": "6d959557-dd68-4b04-aa29-16ff895c45f6"
      },
      "execution_count": 4,
      "outputs": [
        {
          "output_type": "stream",
          "name": "stdout",
          "text": [
            "There are 2 directories and 0 images in '10_food_classes_10_percent'.\n",
            "There are 10 directories and 0 images in '10_food_classes_10_percent/train'.\n",
            "There are 0 directories and 75 images in '10_food_classes_10_percent/train/ice_cream'.\n",
            "There are 0 directories and 75 images in '10_food_classes_10_percent/train/chicken_wings'.\n",
            "There are 0 directories and 75 images in '10_food_classes_10_percent/train/sushi'.\n",
            "There are 0 directories and 75 images in '10_food_classes_10_percent/train/hamburger'.\n",
            "There are 0 directories and 75 images in '10_food_classes_10_percent/train/chicken_curry'.\n",
            "There are 0 directories and 75 images in '10_food_classes_10_percent/train/ramen'.\n",
            "There are 0 directories and 75 images in '10_food_classes_10_percent/train/pizza'.\n",
            "There are 0 directories and 75 images in '10_food_classes_10_percent/train/grilled_salmon'.\n",
            "There are 0 directories and 75 images in '10_food_classes_10_percent/train/steak'.\n",
            "There are 0 directories and 75 images in '10_food_classes_10_percent/train/fried_rice'.\n",
            "There are 10 directories and 0 images in '10_food_classes_10_percent/test'.\n",
            "There are 0 directories and 250 images in '10_food_classes_10_percent/test/ice_cream'.\n",
            "There are 0 directories and 250 images in '10_food_classes_10_percent/test/chicken_wings'.\n",
            "There are 0 directories and 250 images in '10_food_classes_10_percent/test/sushi'.\n",
            "There are 0 directories and 250 images in '10_food_classes_10_percent/test/hamburger'.\n",
            "There are 0 directories and 250 images in '10_food_classes_10_percent/test/chicken_curry'.\n",
            "There are 0 directories and 250 images in '10_food_classes_10_percent/test/ramen'.\n",
            "There are 0 directories and 250 images in '10_food_classes_10_percent/test/pizza'.\n",
            "There are 0 directories and 250 images in '10_food_classes_10_percent/test/grilled_salmon'.\n",
            "There are 0 directories and 250 images in '10_food_classes_10_percent/test/steak'.\n",
            "There are 0 directories and 250 images in '10_food_classes_10_percent/test/fried_rice'.\n"
          ]
        }
      ]
    },
    {
      "cell_type": "markdown",
      "source": [
        "## Prepare The data"
      ],
      "metadata": {
        "id": "WtPZ8quv532L"
      }
    },
    {
      "cell_type": "code",
      "source": [
        "train_dir = \"10_food_classes_10_percent/train\"\n",
        "test_dir = \"10_food_classes_10_percent/test\""
      ],
      "metadata": {
        "id": "vmxQO5Hi534_"
      },
      "execution_count": 5,
      "outputs": []
    },
    {
      "cell_type": "code",
      "source": [
        "import tensorflow as tf\n",
        "IMAGE_SIZE = (224,224)\n",
        "BATCH_SIZE = 32\n",
        "train_data = tf.keras.preprocessing.image_dataset_from_directory(directory=train_dir,\n",
        "                                                                 image_size=IMAGE_SIZE,\n",
        "                                                                 batch_size=BATCH_SIZE,\n",
        "                                                                 label_mode=\"categorical\")\n",
        "test_data = tf.keras.preprocessing.image_dataset_from_directory(directory=test_dir,\n",
        "                                                                 image_size=IMAGE_SIZE,\n",
        "                                                                 batch_size=BATCH_SIZE,\n",
        "                                                                 label_mode=\"categorical\")"
      ],
      "metadata": {
        "colab": {
          "base_uri": "https://localhost:8080/"
        },
        "id": "aHIKcUsG537e",
        "outputId": "bfa40a05-d93d-4d67-d30d-29a5f9c1ed6b"
      },
      "execution_count": 6,
      "outputs": [
        {
          "output_type": "stream",
          "name": "stdout",
          "text": [
            "Found 750 files belonging to 10 classes.\n",
            "Found 2500 files belonging to 10 classes.\n"
          ]
        }
      ]
    },
    {
      "cell_type": "code",
      "source": [
        "train_data.class_names"
      ],
      "metadata": {
        "colab": {
          "base_uri": "https://localhost:8080/"
        },
        "id": "3HvqcZdw53-I",
        "outputId": "9bc24356-e186-486d-c27a-dbd9650b5f0e"
      },
      "execution_count": 7,
      "outputs": [
        {
          "output_type": "execute_result",
          "data": {
            "text/plain": [
              "['chicken_curry',\n",
              " 'chicken_wings',\n",
              " 'fried_rice',\n",
              " 'grilled_salmon',\n",
              " 'hamburger',\n",
              " 'ice_cream',\n",
              " 'pizza',\n",
              " 'ramen',\n",
              " 'steak',\n",
              " 'sushi']"
            ]
          },
          "metadata": {},
          "execution_count": 7
        }
      ]
    },
    {
      "cell_type": "code",
      "source": [
        "train_data.element_spec\n"
      ],
      "metadata": {
        "colab": {
          "base_uri": "https://localhost:8080/"
        },
        "id": "XDnB3hlU54A8",
        "outputId": "18cc6c4c-a443-4422-cb97-9650950236c3"
      },
      "execution_count": 8,
      "outputs": [
        {
          "output_type": "execute_result",
          "data": {
            "text/plain": [
              "(TensorSpec(shape=(None, 224, 224, 3), dtype=tf.float32, name=None),\n",
              " TensorSpec(shape=(None, 10), dtype=tf.float32, name=None))"
            ]
          },
          "metadata": {},
          "execution_count": 8
        }
      ]
    },
    {
      "cell_type": "code",
      "source": [
        "for images, labels in train_data.take(1):\n",
        "  print(images,labels)"
      ],
      "metadata": {
        "colab": {
          "base_uri": "https://localhost:8080/"
        },
        "id": "ydce_PkP54DX",
        "outputId": "60770c12-7e01-4548-9266-941081887d03"
      },
      "execution_count": 9,
      "outputs": [
        {
          "output_type": "stream",
          "name": "stdout",
          "text": [
            "tf.Tensor(\n",
            "[[[[1.62901783e+01 6.29017830e+00 5.29017830e+00]\n",
            "   [1.42857141e+01 4.28571415e+00 3.28571439e+00]\n",
            "   [1.50491076e+01 5.04910755e+00 4.04910755e+00]\n",
            "   ...\n",
            "   [2.42671852e+01 1.82671852e+01 2.07404518e+01]\n",
            "   [2.20745888e+01 1.60745888e+01 2.00745888e+01]\n",
            "   [1.95293312e+01 1.55293312e+01 1.65293312e+01]]\n",
            "\n",
            "  [[1.40462370e+01 4.04623699e+00 3.04623699e+00]\n",
            "   [1.40000000e+01 4.00000000e+00 3.00000000e+00]\n",
            "   [1.55267859e+01 5.52678585e+00 4.52678585e+00]\n",
            "   ...\n",
            "   [2.95812588e+01 2.35812588e+01 2.55812588e+01]\n",
            "   [2.60487442e+01 2.00487442e+01 2.20487442e+01]\n",
            "   [2.31635666e+01 1.71635666e+01 1.91635666e+01]]\n",
            "\n",
            "  [[1.58657522e+01 5.86575174e+00 4.65146589e+00]\n",
            "   [1.53695784e+01 5.36957884e+00 4.15529299e+00]\n",
            "   [1.63348217e+01 6.33482122e+00 5.12053537e+00]\n",
            "   ...\n",
            "   [3.25758133e+01 2.33615303e+01 2.59329567e+01]\n",
            "   [2.79980335e+01 1.87837486e+01 1.98749123e+01]\n",
            "   [2.58568039e+01 1.62142868e+01 1.70124245e+01]]\n",
            "\n",
            "  ...\n",
            "\n",
            "  [[1.71556625e+01 1.41556625e+01 9.15566254e+00]\n",
            "   [1.68963623e+01 1.18963633e+01 7.89636326e+00]\n",
            "   [1.65774822e+01 7.92408514e+00 4.96016836e+00]\n",
            "   ...\n",
            "   [9.90129013e+01 4.45843735e+01 9.17050171e+00]\n",
            "   [9.86800842e+01 4.35114021e+01 1.19212627e+01]\n",
            "   [9.50579834e+01 4.01383972e+01 1.19869680e+01]]\n",
            "\n",
            "  [[1.46221256e+01 1.16221256e+01 6.62212515e+00]\n",
            "   [1.29461107e+01 7.94611025e+00 3.94611025e+00]\n",
            "   [1.51250134e+01 6.30804873e+00 3.83483458e+00]\n",
            "   ...\n",
            "   [9.05877380e+01 4.45108986e+01 1.29291143e+01]\n",
            "   [9.15703583e+01 4.47846794e+01 1.87400951e+01]\n",
            "   [8.46041412e+01 3.68184624e+01 1.39109573e+01]]\n",
            "\n",
            "  [[1.29374647e+01 8.93746471e+00 5.93746519e+00]\n",
            "   [1.17008581e+01 6.70085812e+00 2.70085812e+00]\n",
            "   [1.64597874e+01 7.64282227e+00 5.16960812e+00]\n",
            "   ...\n",
            "   [7.63611450e+01 3.49909821e+01 1.01239967e+01]\n",
            "   [7.38693542e+01 3.22265320e+01 1.01519470e+01]\n",
            "   [7.66392136e+01 3.43535690e+01 1.57107487e+01]]]\n",
            "\n",
            "\n",
            " [[[1.82203445e+02 1.84203445e+02 1.99203445e+02]\n",
            "   [2.06910400e+02 2.08910400e+02 2.23910400e+02]\n",
            "   [1.68760208e+02 1.72403061e+02 1.86760208e+02]\n",
            "   ...\n",
            "   [1.99901108e+02 2.06901108e+02 2.16901108e+02]\n",
            "   [1.98398865e+02 2.05398865e+02 2.15398865e+02]\n",
            "   [1.87092621e+02 1.94092621e+02 2.04092621e+02]]\n",
            "\n",
            "  [[1.82784439e+02 1.85038910e+02 2.00038910e+02]\n",
            "   [2.06641571e+02 2.08896042e+02 2.23896042e+02]\n",
            "   [1.67278061e+02 1.70920914e+02 1.85387115e+02]\n",
            "   ...\n",
            "   [2.05000000e+02 2.12000000e+02 2.22000000e+02]\n",
            "   [2.06585419e+02 2.13585419e+02 2.23585419e+02]\n",
            "   [1.98352539e+02 2.05352539e+02 2.15352539e+02]]\n",
            "\n",
            "  [[1.82692596e+02 1.85692596e+02 2.00692596e+02]\n",
            "   [2.06761795e+02 2.09761795e+02 2.24761795e+02]\n",
            "   [1.64606506e+02 1.69249039e+02 1.83701538e+02]\n",
            "   ...\n",
            "   [2.04485016e+02 2.11485016e+02 2.21485016e+02]\n",
            "   [2.08140945e+02 2.15140945e+02 2.25140945e+02]\n",
            "   [2.04298355e+02 2.11298355e+02 2.21298355e+02]]\n",
            "\n",
            "  ...\n",
            "\n",
            "  [[2.07222900e+02 2.11222900e+02 2.12222900e+02]\n",
            "   [2.05000000e+02 2.09000000e+02 2.10000000e+02]\n",
            "   [1.98452469e+02 2.02452469e+02 2.03452469e+02]\n",
            "   ...\n",
            "   [1.96123383e+02 2.00123383e+02 1.99551910e+02]\n",
            "   [1.96000000e+02 2.00000000e+02 1.99000000e+02]\n",
            "   [1.96575867e+02 2.00575867e+02 1.99575867e+02]]\n",
            "\n",
            "  [[2.07071426e+02 2.11071426e+02 2.12071426e+02]\n",
            "   [2.05000000e+02 2.09000000e+02 2.10000000e+02]\n",
            "   [1.99531235e+02 2.03531235e+02 2.04531235e+02]\n",
            "   ...\n",
            "   [1.96214264e+02 2.00214264e+02 1.99642792e+02]\n",
            "   [1.96000000e+02 2.00000000e+02 1.99000000e+02]\n",
            "   [1.97000000e+02 2.01000000e+02 2.00000000e+02]]\n",
            "\n",
            "  [[2.07332901e+02 2.11332901e+02 2.12332901e+02]\n",
            "   [2.05065369e+02 2.09065369e+02 2.10065369e+02]\n",
            "   [2.01223831e+02 2.05223831e+02 2.06223831e+02]\n",
            "   ...\n",
            "   [1.96214264e+02 2.00214264e+02 1.99642792e+02]\n",
            "   [1.95150223e+02 1.99150223e+02 1.98150223e+02]\n",
            "   [1.97000000e+02 2.01000000e+02 2.00000000e+02]]]\n",
            "\n",
            "\n",
            " [[[1.77018490e+01 1.27018499e+01 8.70184994e+00]\n",
            "   [1.65475121e+01 1.15475130e+01 7.54751253e+00]\n",
            "   [1.47273598e+01 9.72735977e+00 5.72735977e+00]\n",
            "   ...\n",
            "   [3.48838768e+01 2.93386135e+01 2.33386135e+01]\n",
            "   [3.33571434e+01 2.83571434e+01 2.23571434e+01]\n",
            "   [3.28992386e+01 2.98992405e+01 2.28992405e+01]]\n",
            "\n",
            "  [[2.03408794e+01 1.53408794e+01 1.13408794e+01]\n",
            "   [1.89110355e+01 1.39110336e+01 9.91103363e+00]\n",
            "   [2.19668388e+01 1.69668388e+01 1.29668379e+01]\n",
            "   ...\n",
            "   [3.52355728e+01 3.06750355e+01 2.64553051e+01]\n",
            "   [3.28654327e+01 2.98571434e+01 2.48612881e+01]\n",
            "   [3.45044823e+01 3.15044823e+01 2.45044823e+01]]\n",
            "\n",
            "  [[2.08571434e+01 1.58571434e+01 1.18571434e+01]\n",
            "   [2.25653706e+01 1.75653706e+01 1.35653706e+01]\n",
            "   [2.59853325e+01 2.09853325e+01 1.69853325e+01]\n",
            "   ...\n",
            "   [3.71128731e+01 3.25354309e+01 2.84002113e+01]\n",
            "   [3.75258446e+01 3.43115616e+01 2.97401314e+01]\n",
            "   [3.80628052e+01 3.48485184e+01 3.02770901e+01]]\n",
            "\n",
            "  ...\n",
            "\n",
            "  [[5.54507554e-01 6.18353510e+00 4.33495045e+00]\n",
            "   [1.19300919e+01 2.13068771e+01 2.07354050e+01]\n",
            "   [9.67823639e+01 1.09002640e+02 1.09358124e+02]\n",
            "   ...\n",
            "   [1.37273697e+02 1.63166794e+02 1.76685822e+02]\n",
            "   [1.27608810e+02 1.52465866e+02 1.64894394e+02]\n",
            "   [1.20124756e+02 1.41964539e+02 1.52375793e+02]]\n",
            "\n",
            "  [[6.86767292e+00 4.33350992e+00 1.20215142e+00]\n",
            "   [8.22385120e+00 9.00026608e+00 4.00026655e+00]\n",
            "   [3.45993423e+00 5.30014753e+00 3.29918098e+00]\n",
            "   ...\n",
            "   [1.29194580e+02 1.48362518e+02 1.56983002e+02]\n",
            "   [1.15525093e+02 1.30355347e+02 1.35319214e+02]\n",
            "   [9.47316589e+01 1.05424843e+02 1.07987282e+02]]\n",
            "\n",
            "  [[1.05300026e+01 1.75221360e+00 0.00000000e+00]\n",
            "   [1.34552174e+01 5.89839172e+00 1.36025798e+00]\n",
            "   [6.77324533e+00 4.00881577e+00 2.24438691e+00]\n",
            "   ...\n",
            "   [9.99744568e+01 1.15009346e+02 1.20585091e+02]\n",
            "   [7.15901794e+01 8.13117371e+01 8.17714233e+01]\n",
            "   [5.34428596e+01 5.79759140e+01 5.41980934e+01]]]\n",
            "\n",
            "\n",
            " ...\n",
            "\n",
            "\n",
            " [[[1.14801025e+02 5.78010216e+01 4.95153084e+01]\n",
            "   [1.09260201e+02 5.71173477e+01 4.41887779e+01]\n",
            "   [1.01438774e+02 5.15000000e+01 5.16479607e+01]\n",
            "   ...\n",
            "   [1.22714287e+02 3.77142868e+01 6.07142868e+01]\n",
            "   [1.17923470e+02 3.29234695e+01 5.59234695e+01]\n",
            "   [1.22285851e+02 3.72858543e+01 6.02858543e+01]]\n",
            "\n",
            "  [[1.10285713e+02 5.29285698e+01 4.70000000e+01]\n",
            "   [1.05428574e+02 5.32857132e+01 4.23571396e+01]\n",
            "   [1.00857147e+02 5.10714264e+01 5.15408173e+01]\n",
            "   ...\n",
            "   [1.21499954e+02 3.64999542e+01 5.94999542e+01]\n",
            "   [1.21000000e+02 3.60000000e+01 5.90000000e+01]\n",
            "   [1.20765274e+02 3.57652740e+01 5.87652740e+01]]\n",
            "\n",
            "  [[1.12423470e+02 5.63673477e+01 5.45102043e+01]\n",
            "   [1.05270409e+02 5.50561218e+01 4.65561218e+01]\n",
            "   [1.01928574e+02 5.35000000e+01 5.54285736e+01]\n",
            "   ...\n",
            "   [1.20688751e+02 3.56887512e+01 5.86887512e+01]\n",
            "   [1.22627563e+02 3.76275597e+01 6.06275597e+01]\n",
            "   [1.22785675e+02 3.77856789e+01 6.07856789e+01]]\n",
            "\n",
            "  ...\n",
            "\n",
            "  [[1.05285759e+02 8.02857590e+01 7.55000229e+01]\n",
            "   [1.03770432e+02 7.87704315e+01 7.37704315e+01]\n",
            "   [1.06688751e+02 8.12601776e+01 7.58316040e+01]\n",
            "   ...\n",
            "   [1.94031181e+01 1.04031172e+01 3.98316460e+01]\n",
            "   [2.20866871e+01 1.30866880e+01 4.25152168e+01]\n",
            "   [1.97857056e+01 1.07857056e+01 4.02142334e+01]]\n",
            "\n",
            "  [[1.05857117e+02 8.08571167e+01 7.58571167e+01]\n",
            "   [1.04071426e+02 7.90714264e+01 7.20714264e+01]\n",
            "   [1.03372444e+02 7.79438705e+01 7.09438705e+01]\n",
            "   ...\n",
            "   [2.43724537e+01 1.56428528e+01 4.18316574e+01]\n",
            "   [2.47244415e+01 1.58622208e+01 4.24488831e+01]\n",
            "   [2.29234486e+01 1.43265495e+01 4.01172447e+01]]\n",
            "\n",
            "  [[9.80865860e+01 7.30865860e+01 6.60865860e+01]\n",
            "   [9.99743805e+01 7.49743805e+01 6.79743805e+01]\n",
            "   [9.95713272e+01 7.41427536e+01 6.71427536e+01]\n",
            "   ...\n",
            "   [2.20816803e+01 1.40816803e+01 3.80816803e+01]\n",
            "   [2.29541969e+01 1.49541979e+01 3.89541969e+01]\n",
            "   [2.27448483e+01 1.47448483e+01 3.87448463e+01]]]\n",
            "\n",
            "\n",
            " [[[5.46887741e+01 4.65612221e+01 3.21581612e+01]\n",
            "   [4.94489784e+01 3.92397957e+01 2.38367348e+01]\n",
            "   [5.26326523e+01 3.90051003e+01 2.30051022e+01]\n",
            "   ...\n",
            "   [1.18357132e+02 1.08571426e+02 8.07142487e+01]\n",
            "   [1.18500015e+02 1.10428604e+02 7.47856598e+01]\n",
            "   [1.24086723e+02 1.16086723e+02 7.78010178e+01]]\n",
            "\n",
            "  [[4.28265266e+01 3.86836700e+01 2.88061218e+01]\n",
            "   [4.67193871e+01 3.97142868e+01 2.95000000e+01]\n",
            "   [4.40255089e+01 3.63112259e+01 2.50255108e+01]\n",
            "   ...\n",
            "   [1.21785706e+02 1.15729584e+02 8.38979492e+01]\n",
            "   [1.20137741e+02 1.15862259e+02 8.11428223e+01]\n",
            "   [1.21566330e+02 1.16806114e+02 8.19744873e+01]]\n",
            "\n",
            "  [[3.50408134e+01 3.16122456e+01 2.69642868e+01]\n",
            "   [4.13928566e+01 3.63928566e+01 3.22500000e+01]\n",
            "   [4.21938782e+01 3.56224518e+01 2.80510216e+01]\n",
            "   ...\n",
            "   [1.19336739e+02 1.16474503e+02 8.18571701e+01]\n",
            "   [1.18127518e+02 1.17428574e+02 8.60714645e+01]\n",
            "   [1.17994911e+02 1.16571434e+02 8.67193909e+01]]\n",
            "\n",
            "  ...\n",
            "\n",
            "  [[1.06785667e+02 1.01280556e+02 7.37193832e+01]\n",
            "   [1.07413223e+02 1.02413223e+02 7.31989594e+01]\n",
            "   [1.09234703e+02 1.04571404e+02 7.51887894e+01]\n",
            "   ...\n",
            "   [1.10066368e+02 1.03469398e+02 6.95459442e+01]\n",
            "   [1.05683571e+02 9.72295380e+01 6.13978653e+01]\n",
            "   [1.05928497e+02 9.77142334e+01 6.10714417e+01]]\n",
            "\n",
            "  [[1.09168327e+02 1.01168327e+02 7.95050812e+01]\n",
            "   [1.10928558e+02 1.02994881e+02 7.99285812e+01]\n",
            "   [1.12668381e+02 1.05428543e+02 7.96989975e+01]\n",
            "   ...\n",
            "   [1.15387703e+02 1.06260132e+02 7.57754745e+01]\n",
            "   [1.09351952e+02 1.02204033e+02 7.42755051e+01]\n",
            "   [1.08525482e+02 1.02193855e+02 7.57653275e+01]]\n",
            "\n",
            "  [[1.03484634e+02 9.54846344e+01 7.60254745e+01]\n",
            "   [1.10765274e+02 9.97652740e+01 7.96734467e+01]\n",
            "   [1.14714317e+02 1.03714317e+02 8.18673935e+01]\n",
            "   ...\n",
            "   [1.11862305e+02 1.01076599e+02 7.18725662e+01]\n",
            "   [1.10928589e+02 1.03449112e+02 8.05461502e+01]\n",
            "   [1.05199005e+02 9.94847107e+01 8.00714722e+01]]]\n",
            "\n",
            "\n",
            " [[[0.00000000e+00 2.09183669e+00 1.38163261e+01]\n",
            "   [4.28571463e-01 3.22448993e+00 1.28367348e+01]\n",
            "   [2.85714388e-01 3.28571439e+00 1.13673468e+01]\n",
            "   ...\n",
            "   [2.36163284e+02 2.05591812e+02 1.09693832e+02]\n",
            "   [2.34122482e+02 2.07714279e+02 1.15948898e+02]\n",
            "   [2.31520401e+02 2.07806122e+02 1.19040825e+02]]\n",
            "\n",
            "  [[1.42857134e-01 3.14285707e+00 9.99999905e+00]\n",
            "   [1.00000000e+00 4.00000000e+00 9.93877602e+00]\n",
            "   [1.00000000e+00 4.00000000e+00 9.67346859e+00]\n",
            "   ...\n",
            "   [2.53285706e+02 2.32795837e+02 1.65989655e+02]\n",
            "   [2.53061249e+02 2.42826462e+02 1.84969208e+02]\n",
            "   [2.49173462e+02 2.44816330e+02 1.92408188e+02]]\n",
            "\n",
            "  [[1.42857134e-01 4.14285707e+00 6.71428537e+00]\n",
            "   [1.42857146e+00 5.42857170e+00 8.00000000e+00]\n",
            "   [2.00000000e+00 6.00000000e+00 8.57142830e+00]\n",
            "   ...\n",
            "   [2.48489761e+02 2.41632553e+02 1.83203888e+02]\n",
            "   [2.48408249e+02 2.52040756e+02 2.06734467e+02]\n",
            "   [2.42071411e+02 2.52040802e+02 2.14602051e+02]]\n",
            "\n",
            "  ...\n",
            "\n",
            "  [[2.01071411e+02 1.47071411e+02 4.84183846e+01]\n",
            "   [1.94122437e+02 1.40122437e+02 4.01224365e+01]\n",
            "   [1.96398010e+02 1.42398010e+02 4.23980064e+01]\n",
            "   ...\n",
            "   [1.49265320e+02 1.01204102e+02 1.82652550e+01]\n",
            "   [1.46163269e+02 9.75000305e+01 1.77346230e+01]\n",
            "   [1.43989807e+02 9.49898071e+01 1.64183331e+01]]\n",
            "\n",
            "  [[1.90928696e+02 1.37928696e+02 4.19286880e+01]\n",
            "   [1.95887772e+02 1.42887772e+02 4.68877602e+01]\n",
            "   [2.02316315e+02 1.49979553e+02 5.19897957e+01]\n",
            "   ...\n",
            "   [1.46949036e+02 9.89286194e+01 1.56633253e+01]\n",
            "   [1.46285767e+02 9.76837387e+01 1.74898262e+01]\n",
            "   [1.46224533e+02 9.72245331e+01 1.82245312e+01]]\n",
            "\n",
            "  [[2.03724289e+02 1.50724289e+02 5.67242966e+01]\n",
            "   [1.97540771e+02 1.44540771e+02 5.05407715e+01]\n",
            "   [2.02387772e+02 1.49387772e+02 5.44694481e+01]\n",
            "   ...\n",
            "   [1.49214172e+02 1.00214172e+02 2.22958431e+01]\n",
            "   [1.48785645e+02 9.97856445e+01 2.29897404e+01]\n",
            "   [1.46765167e+02 9.77651672e+01 2.11223431e+01]]]], shape=(32, 224, 224, 3), dtype=float32) tf.Tensor(\n",
            "[[0. 0. 0. 0. 0. 0. 1. 0. 0. 0.]\n",
            " [0. 0. 0. 0. 0. 0. 0. 0. 1. 0.]\n",
            " [0. 0. 0. 1. 0. 0. 0. 0. 0. 0.]\n",
            " [0. 0. 0. 0. 0. 0. 1. 0. 0. 0.]\n",
            " [1. 0. 0. 0. 0. 0. 0. 0. 0. 0.]\n",
            " [0. 1. 0. 0. 0. 0. 0. 0. 0. 0.]\n",
            " [1. 0. 0. 0. 0. 0. 0. 0. 0. 0.]\n",
            " [0. 1. 0. 0. 0. 0. 0. 0. 0. 0.]\n",
            " [0. 0. 0. 0. 0. 0. 0. 1. 0. 0.]\n",
            " [0. 0. 0. 1. 0. 0. 0. 0. 0. 0.]\n",
            " [0. 1. 0. 0. 0. 0. 0. 0. 0. 0.]\n",
            " [0. 0. 0. 0. 0. 0. 0. 0. 1. 0.]\n",
            " [0. 0. 0. 0. 0. 0. 0. 0. 0. 1.]\n",
            " [1. 0. 0. 0. 0. 0. 0. 0. 0. 0.]\n",
            " [0. 0. 0. 0. 0. 1. 0. 0. 0. 0.]\n",
            " [0. 1. 0. 0. 0. 0. 0. 0. 0. 0.]\n",
            " [0. 0. 0. 0. 1. 0. 0. 0. 0. 0.]\n",
            " [0. 0. 1. 0. 0. 0. 0. 0. 0. 0.]\n",
            " [0. 0. 0. 0. 0. 1. 0. 0. 0. 0.]\n",
            " [0. 0. 0. 0. 0. 0. 1. 0. 0. 0.]\n",
            " [0. 0. 1. 0. 0. 0. 0. 0. 0. 0.]\n",
            " [0. 0. 0. 1. 0. 0. 0. 0. 0. 0.]\n",
            " [1. 0. 0. 0. 0. 0. 0. 0. 0. 0.]\n",
            " [0. 0. 0. 0. 1. 0. 0. 0. 0. 0.]\n",
            " [0. 0. 0. 0. 1. 0. 0. 0. 0. 0.]\n",
            " [1. 0. 0. 0. 0. 0. 0. 0. 0. 0.]\n",
            " [0. 0. 0. 0. 0. 0. 0. 0. 1. 0.]\n",
            " [0. 1. 0. 0. 0. 0. 0. 0. 0. 0.]\n",
            " [0. 0. 0. 0. 0. 1. 0. 0. 0. 0.]\n",
            " [0. 0. 0. 0. 0. 0. 0. 0. 0. 1.]\n",
            " [0. 0. 0. 1. 0. 0. 0. 0. 0. 0.]\n",
            " [0. 0. 0. 0. 0. 1. 0. 0. 0. 0.]], shape=(32, 10), dtype=float32)\n"
          ]
        }
      ]
    },
    {
      "cell_type": "markdown",
      "source": [
        "#  Create Model"
      ],
      "metadata": {
        "id": "vw5Fiswp54G4"
      }
    },
    {
      "cell_type": "code",
      "source": [
        "import tensorflow as tf\n",
        "# 1. Base Model\n",
        "base_model = tf.keras.applications.EfficientNetB0(include_top=False)\n",
        "\n",
        "# 2 Freeze the layers and dont train\n",
        "base_model.trainable=False\n",
        "\n",
        "# 3 GET THE INPUTS\n",
        "inputs = tf.keras.layers.Input(shape=(224,224,3), name=\"InputLayer\")\n",
        "\n",
        "# 4. Rescale the inputs ..... This is not for all the models like efficinet net\n",
        "# X = tf.keras.layers.experimental.preprosessing.Rescalling(1/225.) (inputs)\n",
        "\n",
        "# 5 top layers after the base model layers\n",
        "x = base_model(inputs)\n",
        "\n",
        "# 6 pooling layer\n",
        "x = tf.keras.layers.GlobalAveragePooling2D(name=\"GlobalAveragePoolingLayer\")(x)\n",
        "\n",
        "# 7 output\n",
        "output = tf.keras.layers.Dense(10, activation=\"softmax\", name=\"OutputLayer\")(x)\n",
        "\n",
        "# 8 CREATE THE MODLE\n",
        "model_0 = tf.keras.Model(inputs, output)\n",
        "\n",
        "# 9 COMPILT\n",
        "model_0.compile(loss=\"categorical_crossentropy\",\n",
        "                optimizer=tf.keras.optimizers.Adam(),\n",
        "                metrics=[\"accuracy\"])\n",
        "# 10 fit\n",
        "history_0= model_0.fit(train_data,\n",
        "            epochs=5,\n",
        "            steps_per_epoch=len(train_data),\n",
        "            validation_data=test_data,\n",
        "            validation_steps=len(test_data),\n",
        "            callbacks=[create_tensorboard_callback(\"transfer_learning\", \"Feature_extraction\")])\n"
      ],
      "metadata": {
        "colab": {
          "base_uri": "https://localhost:8080/"
        },
        "id": "leNkf1Do8RSy",
        "outputId": "eb2fab28-9f27-4d98-b471-4fba44cb10a9"
      },
      "execution_count": 10,
      "outputs": [
        {
          "output_type": "stream",
          "name": "stdout",
          "text": [
            "Downloading data from https://storage.googleapis.com/keras-applications/efficientnetb0_notop.h5\n",
            "16705208/16705208 [==============================] - 2s 0us/step\n"
          ]
        },
        {
          "output_type": "stream",
          "name": "stderr",
          "text": [
            "WARNING:tensorflow:Model failed to serialize as JSON. Ignoring... Unable to serialize [2.0896919 2.1128857 2.1081853] to JSON. Unrecognized type <class 'tensorflow.python.framework.ops.EagerTensor'>.\n"
          ]
        },
        {
          "output_type": "stream",
          "name": "stdout",
          "text": [
            "Saving TensorBoard log files to: transfer_learning/Feature_extraction/20230312-090347\n",
            "Epoch 1/5\n",
            "24/24 [==============================] - 24s 428ms/step - loss: 1.8931 - accuracy: 0.4213 - val_loss: 1.3294 - val_accuracy: 0.6932\n",
            "Epoch 2/5\n",
            "24/24 [==============================] - 12s 509ms/step - loss: 1.1044 - accuracy: 0.7720 - val_loss: 0.8825 - val_accuracy: 0.8132\n",
            "Epoch 3/5\n",
            "24/24 [==============================] - 7s 289ms/step - loss: 0.7796 - accuracy: 0.8493 - val_loss: 0.7076 - val_accuracy: 0.8396\n",
            "Epoch 4/5\n",
            "24/24 [==============================] - 8s 294ms/step - loss: 0.6349 - accuracy: 0.8587 - val_loss: 0.6173 - val_accuracy: 0.8508\n",
            "Epoch 5/5\n",
            "24/24 [==============================] - 8s 320ms/step - loss: 0.5393 - accuracy: 0.8800 - val_loss: 0.5618 - val_accuracy: 0.8620\n"
          ]
        }
      ]
    },
    {
      "cell_type": "code",
      "source": [
        "plot_loss_curves(history_0)"
      ],
      "metadata": {
        "colab": {
          "base_uri": "https://localhost:8080/",
          "height": 573
        },
        "id": "ceb4fkcg8Rdq",
        "outputId": "28e48cd1-121a-4617-d3fd-527d8bc9eeb7"
      },
      "execution_count": 11,
      "outputs": [
        {
          "output_type": "display_data",
          "data": {
            "text/plain": [
              "<Figure size 432x288 with 1 Axes>"
            ],
            "image/png": "[encoded data removed]"
          },
          "metadata": {
            "needs_background": "light"
          }
        },
        {
          "output_type": "display_data",
          "data": {
            "text/plain": [
              "<Figure size 432x288 with 1 Axes>"
            ],
            "image/png": "[encoded data removed]"
          },
          "metadata": {
            "needs_background": "light"
          }
        }
      ]
    },
    {
      "cell_type": "markdown",
      "source": [
        "# MODEL_1 1 PERCENT DATA"
      ],
      "metadata": {
        "id": "Wtsi9VyB8RnE"
      }
    },
    {
      "cell_type": "code",
      "source": [
        "# Get the data\n",
        "!wget https://storage.googleapis.com/ztm_tf_course/food_vision/10_food_classes_1_percent.zip\n",
        "unzip_data(\"10_food_classes_1_percent.zip\")"
      ],
      "metadata": {
        "id": "htHiXiqZ8Rp4",
        "colab": {
          "base_uri": "https://localhost:8080/"
        },
        "outputId": "643f137b-3b92-43a0-d128-e9e6432ff4bc"
      },
      "execution_count": 12,
      "outputs": [
        {
          "output_type": "stream",
          "name": "stdout",
          "text": [
            "--2023-03-12 09:05:05--  https://storage.googleapis.com/ztm_tf_course/food_vision/10_food_classes_1_percent.zip\n",
            "Resolving storage.googleapis.com (storage.googleapis.com)... 74.125.68.128, 74.125.24.128, 142.250.4.128, ...\n",
            "Connecting to storage.googleapis.com (storage.googleapis.com)|74.125.68.128|:443... connected.\n",
            "HTTP request sent, awaiting response... 200 OK\n",
            "Length: 133612354 (127M) [application/zip]\n",
            "Saving to: ‘10_food_classes_1_percent.zip’\n",
            "\n",
            "10_food_classes_1_p 100%[===================>] 127.42M  21.8MB/s    in 6.5s    \n",
            "\n",
            "2023-03-12 09:05:12 (19.6 MB/s) - ‘10_food_classes_1_percent.zip’ saved [133612354/133612354]\n",
            "\n"
          ]
        }
      ]
    },
    {
      "cell_type": "code",
      "source": [
        "walk_through_dir(\"10_food_classes_1_percent\")"
      ],
      "metadata": {
        "id": "jQevnPht8Rsf",
        "colab": {
          "base_uri": "https://localhost:8080/"
        },
        "outputId": "0c83c868-8044-42a6-a96a-35c692ae2a89"
      },
      "execution_count": 13,
      "outputs": [
        {
          "output_type": "stream",
          "name": "stdout",
          "text": [
            "There are 2 directories and 0 images in '10_food_classes_1_percent'.\n",
            "There are 10 directories and 0 images in '10_food_classes_1_percent/train'.\n",
            "There are 0 directories and 7 images in '10_food_classes_1_percent/train/ice_cream'.\n",
            "There are 0 directories and 7 images in '10_food_classes_1_percent/train/chicken_wings'.\n",
            "There are 0 directories and 7 images in '10_food_classes_1_percent/train/sushi'.\n",
            "There are 0 directories and 7 images in '10_food_classes_1_percent/train/hamburger'.\n",
            "There are 0 directories and 7 images in '10_food_classes_1_percent/train/chicken_curry'.\n",
            "There are 0 directories and 7 images in '10_food_classes_1_percent/train/ramen'.\n",
            "There are 0 directories and 7 images in '10_food_classes_1_percent/train/pizza'.\n",
            "There are 0 directories and 7 images in '10_food_classes_1_percent/train/grilled_salmon'.\n",
            "There are 0 directories and 7 images in '10_food_classes_1_percent/train/steak'.\n",
            "There are 0 directories and 7 images in '10_food_classes_1_percent/train/fried_rice'.\n",
            "There are 10 directories and 0 images in '10_food_classes_1_percent/test'.\n",
            "There are 0 directories and 250 images in '10_food_classes_1_percent/test/ice_cream'.\n",
            "There are 0 directories and 250 images in '10_food_classes_1_percent/test/chicken_wings'.\n",
            "There are 0 directories and 250 images in '10_food_classes_1_percent/test/sushi'.\n",
            "There are 0 directories and 250 images in '10_food_classes_1_percent/test/hamburger'.\n",
            "There are 0 directories and 250 images in '10_food_classes_1_percent/test/chicken_curry'.\n",
            "There are 0 directories and 250 images in '10_food_classes_1_percent/test/ramen'.\n",
            "There are 0 directories and 250 images in '10_food_classes_1_percent/test/pizza'.\n",
            "There are 0 directories and 250 images in '10_food_classes_1_percent/test/grilled_salmon'.\n",
            "There are 0 directories and 250 images in '10_food_classes_1_percent/test/steak'.\n",
            "There are 0 directories and 250 images in '10_food_classes_1_percent/test/fried_rice'.\n"
          ]
        }
      ]
    },
    {
      "cell_type": "code",
      "source": [
        "train_dir_1_percent = \"10_food_classes_1_percent/train\"\n",
        "test_dir = \"10_food_classes_1_percent/test\""
      ],
      "metadata": {
        "id": "N1io4ST6DiV_"
      },
      "execution_count": 14,
      "outputs": []
    },
    {
      "cell_type": "code",
      "source": [
        "import tensorflow as tf\n",
        "\n",
        "train_data_1_percent = tf.keras.preprocessing.image_dataset_from_directory(train_dir_1_percent,\n",
        "                                                                           label_mode=\"categorical\",\n",
        "                                                                           image_size=(224,224),\n",
        "                                                                           batch_size=32)\n",
        "test_data = tf.keras.preprocessing.image_dataset_from_directory(test_dir,\n",
        "                                                                label_mode=\"categorical\",\n",
        "                                                                image_size=(224,224),\n",
        "                                                                batch_size=32)"
      ],
      "metadata": {
        "id": "afTLpenw8Rv6",
        "colab": {
          "base_uri": "https://localhost:8080/"
        },
        "outputId": "d13d8831-6fd4-42cd-a675-80a4962982ee"
      },
      "execution_count": 15,
      "outputs": [
        {
          "output_type": "stream",
          "name": "stdout",
          "text": [
            "Found 70 files belonging to 10 classes.\n",
            "Found 2500 files belonging to 10 classes.\n"
          ]
        }
      ]
    },
    {
      "cell_type": "code",
      "source": [
        "for imgage_1, lable in train_data_1_percent.take(1):\n",
        "  print(imgage_1.shape)\n"
      ],
      "metadata": {
        "colab": {
          "base_uri": "https://localhost:8080/"
        },
        "id": "CGVUGg68JRDJ",
        "outputId": "b74af34f-fa36-4041-a2b6-fa6881bd1a19"
      },
      "execution_count": 16,
      "outputs": [
        {
          "output_type": "stream",
          "name": "stdout",
          "text": [
            "(32, 224, 224, 3)\n"
          ]
        }
      ]
    },
    {
      "cell_type": "code",
      "source": [
        "train_data_1_percent.class_names"
      ],
      "metadata": {
        "colab": {
          "base_uri": "https://localhost:8080/"
        },
        "id": "WOXWXNWREVSf",
        "outputId": "93a7f34b-3569-41b4-cb54-5845721e9c02"
      },
      "execution_count": 17,
      "outputs": [
        {
          "output_type": "execute_result",
          "data": {
            "text/plain": [
              "['chicken_curry',\n",
              " 'chicken_wings',\n",
              " 'fried_rice',\n",
              " 'grilled_salmon',\n",
              " 'hamburger',\n",
              " 'ice_cream',\n",
              " 'pizza',\n",
              " 'ramen',\n",
              " 'steak',\n",
              " 'sushi']"
            ]
          },
          "metadata": {},
          "execution_count": 17
        }
      ]
    },
    {
      "cell_type": "code",
      "source": [
        "\n",
        "# augementing layer\n",
        "import tensorflow as tf\n",
        "from tensorflow import keras\n",
        "from tensorflow.keras import layers\n",
        "from tensorflow.keras.layers.experimental import preprocessing\n",
        "\n",
        "data_augmentation = keras.Sequential([\n",
        "    preprocessing.RandomFlip(\"horizontal\"),\n",
        "    preprocessing.RandomZoom(0.2),\n",
        "    preprocessing.RandomHeight(0.2),\n",
        "    preprocessing.RandomWidth(0.2),\n",
        "    preprocessing.RandomRotation(0.2),\n",
        "    # preprocessing.Rescaling(1/255.) \n",
        "], name=\"data_augementation\")"
      ],
      "metadata": {
        "id": "DXOrnvTOEj32"
      },
      "execution_count": 18,
      "outputs": []
    },
    {
      "cell_type": "code",
      "source": [
        "# lets see if the augementation is working\n",
        "import matplotlib.pyplot as plt\n",
        "import matplotlib.image as mpimg\n",
        "import random\n",
        "import os\n",
        "\n",
        "random_class = random.choice(train_data_1_percent.class_names)\n",
        "target_dir = train_dir_1_percent + \"/\" + random_class\n",
        "random_img = random.choice(os.listdir(target_dir))\n",
        "img_path =target_dir + \"/\" + random_img\n",
        "img = mpimg.imread(img_path)\n",
        "plt.imshow(img)\n",
        "plt.title(f\"Without Augementation: {random_class}\")\n",
        "plt.axis(False)\n",
        "\n",
        "# now augemted one\n",
        "img.shape\n",
        "augemented_img = data_augmentation(img)\n",
        "plt.figure()\n",
        "plt.imshow(augemented_img/255.)\n",
        "plt.title(f\"After Augementation: {random_class}\")\n",
        "plt.axis(False)\n",
        "augemented_img.shape\n"
      ],
      "metadata": {
        "colab": {
          "base_uri": "https://localhost:8080/",
          "height": 528
        },
        "id": "3O-YStJRE2CH",
        "outputId": "a8ae331c-087b-4759-9527-88e25930eaad"
      },
      "execution_count": 19,
      "outputs": [
        {
          "output_type": "execute_result",
          "data": {
            "text/plain": [
              "TensorShape([523, 412, 3])"
            ]
          },
          "metadata": {},
          "execution_count": 19
        },
        {
          "output_type": "display_data",
          "data": {
            "text/plain": [
              "<Figure size 432x288 with 1 Axes>"
            ],
            "image/png": "[encoded data removed]"
          },
          "metadata": {
            "needs_background": "light"
          }
        },
        {
          "output_type": "display_data",
          "data": {
            "text/plain": [
              "<Figure size 432x288 with 1 Axes>"
            ],
            "image/png": "[encoded data removed]"
          },
          "metadata": {
            "needs_background": "light"
          }
        }
      ]
    },
    {
      "cell_type": "code",
      "source": [
        "# create the model\n",
        "\n",
        "# baseline first\n",
        "base_model_1 = keras.applications.EfficientNetB0(include_top=False)\n",
        "base_model_1.trainable = False\n",
        "\n",
        "# inputs\n",
        "inputs = layers.Input(shape=(224,224,3), name=\"input_layer\")\n",
        "\n",
        "# data augementsat\n",
        "\n",
        "x = data_augmentation(inputs)\n",
        "\n",
        "# feed the input into the base model\n",
        "x = base_model_1(x, training=False)\n",
        "\n",
        "# pooling layer\n",
        "x = layers.GlobalAveragePooling2D(name=\"GlobalPoolinglayer\")(x)\n",
        "\n",
        "# output\n",
        "outputs = layers.Dense(10, activation='softmax', name=\"output_layer\")(x)\n",
        "\n",
        "model_1 = keras.Model(inputs, outputs)\n",
        "model_1.compile(loss=\"categorical_crossentropy\",\n",
        "                optimizer=keras.optimizers.Adam(),\n",
        "                metrics=[\"accuracy\"])\n",
        "\n",
        "history_1 = model_1.fit(train_data_1_percent,\n",
        "                        epochs=5,\n",
        "                        steps_per_epoch=len(train_data_1_percent),\n",
        "                        validation_data = test_data,\n",
        "                        validation_steps=int(0.25 * len(test_data)),\n",
        "                        callbacks=[create_tensorboard_callback(dir_name=\"transfer_learning\",\n",
        "                                                               experiment_name=\"model_1_percent\")])"
      ],
      "metadata": {
        "colab": {
          "base_uri": "https://localhost:8080/"
        },
        "id": "0lsNFu2vF8Q9",
        "outputId": "b0191cf9-2b00-4b46-f0f3-3dcd3e44a325"
      },
      "execution_count": 20,
      "outputs": [
        {
          "output_type": "stream",
          "name": "stderr",
          "text": [
            "WARNING:tensorflow:Model was constructed with shape (512, 512, 3) for input KerasTensor(type_spec=TensorSpec(shape=(512, 512, 3), dtype=tf.uint8, name='random_flip_input'), name='random_flip_input', description=\"created by layer 'random_flip_input'\"), but it was called on an input with incompatible shape (None, 224, 224, 3).\n",
            "WARNING:tensorflow:Using a while_loop for converting RngReadAndSkip cause there is no registered converter for this op.\n",
            "WARNING:tensorflow:Using a while_loop for converting Bitcast cause there is no registered converter for this op.\n",
            "WARNING:tensorflow:Using a while_loop for converting Bitcast cause there is no registered converter for this op.\n",
            "WARNING:tensorflow:Using a while_loop for converting StatelessRandomUniformV2 cause there is no registered converter for this op.\n",
            "WARNING:tensorflow:Using a while_loop for converting ImageProjectiveTransformV3 cause there is no registered converter for this op.\n",
            "WARNING:tensorflow:Using a while_loop for converting RngReadAndSkip cause there is no registered converter for this op.\n",
            "WARNING:tensorflow:Using a while_loop for converting Bitcast cause there is no registered converter for this op.\n",
            "WARNING:tensorflow:Using a while_loop for converting Bitcast cause there is no registered converter for this op.\n",
            "WARNING:tensorflow:Using a while_loop for converting StatelessRandomUniformV2 cause there is no registered converter for this op.\n",
            "WARNING:tensorflow:Using a while_loop for converting ImageProjectiveTransformV3 cause there is no registered converter for this op.\n",
            "WARNING:tensorflow:Model failed to serialize as JSON. Ignoring... Unable to serialize [2.0896919 2.1128857 2.1081853] to JSON. Unrecognized type <class 'tensorflow.python.framework.ops.EagerTensor'>.\n"
          ]
        },
        {
          "output_type": "stream",
          "name": "stdout",
          "text": [
            "Saving TensorBoard log files to: transfer_learning/model_1_percent/20230312-090518\n",
            "Epoch 1/5\n"
          ]
        },
        {
          "output_type": "stream",
          "name": "stderr",
          "text": [
            "WARNING:tensorflow:Model was constructed with shape (512, 512, 3) for input KerasTensor(type_spec=TensorSpec(shape=(512, 512, 3), dtype=tf.uint8, name='random_flip_input'), name='random_flip_input', description=\"created by layer 'random_flip_input'\"), but it was called on an input with incompatible shape (None, 224, 224, 3).\n",
            "WARNING:tensorflow:Using a while_loop for converting RngReadAndSkip cause there is no registered converter for this op.\n",
            "WARNING:tensorflow:Using a while_loop for converting Bitcast cause there is no registered converter for this op.\n",
            "WARNING:tensorflow:Using a while_loop for converting Bitcast cause there is no registered converter for this op.\n",
            "WARNING:tensorflow:Using a while_loop for converting StatelessRandomUniformV2 cause there is no registered converter for this op.\n",
            "WARNING:tensorflow:Using a while_loop for converting ImageProjectiveTransformV3 cause there is no registered converter for this op.\n",
            "WARNING:tensorflow:Using a while_loop for converting RngReadAndSkip cause there is no registered converter for this op.\n",
            "WARNING:tensorflow:Using a while_loop for converting Bitcast cause there is no registered converter for this op.\n",
            "WARNING:tensorflow:Using a while_loop for converting Bitcast cause there is no registered converter for this op.\n",
            "WARNING:tensorflow:Using a while_loop for converting StatelessRandomUniformV2 cause there is no registered converter for this op.\n",
            "WARNING:tensorflow:Using a while_loop for converting ImageProjectiveTransformV3 cause there is no registered converter for this op.\n",
            "WARNING:tensorflow:Model was constructed with shape (512, 512, 3) for input KerasTensor(type_spec=TensorSpec(shape=(512, 512, 3), dtype=tf.uint8, name='random_flip_input'), name='random_flip_input', description=\"created by layer 'random_flip_input'\"), but it was called on an input with incompatible shape (None, 224, 224, 3).\n",
            "WARNING:tensorflow:Using a while_loop for converting RngReadAndSkip cause there is no registered converter for this op.\n",
            "WARNING:tensorflow:Using a while_loop for converting Bitcast cause there is no registered converter for this op.\n",
            "WARNING:tensorflow:Using a while_loop for converting Bitcast cause there is no registered converter for this op.\n",
            "WARNING:tensorflow:Using a while_loop for converting StatelessRandomUniformV2 cause there is no registered converter for this op.\n",
            "WARNING:tensorflow:Using a while_loop for converting ImageProjectiveTransformV3 cause there is no registered converter for this op.\n",
            "WARNING:tensorflow:Using a while_loop for converting RngReadAndSkip cause there is no registered converter for this op.\n",
            "WARNING:tensorflow:Using a while_loop for converting Bitcast cause there is no registered converter for this op.\n",
            "WARNING:tensorflow:Using a while_loop for converting Bitcast cause there is no registered converter for this op.\n",
            "WARNING:tensorflow:Using a while_loop for converting StatelessRandomUniformV2 cause there is no registered converter for this op.\n",
            "WARNING:tensorflow:Using a while_loop for converting ImageProjectiveTransformV3 cause there is no registered converter for this op.\n"
          ]
        },
        {
          "output_type": "stream",
          "name": "stdout",
          "text": [
            "3/3 [==============================] - ETA: 0s - loss: 2.3655 - accuracy: 0.1571"
          ]
        },
        {
          "output_type": "stream",
          "name": "stderr",
          "text": [
            "WARNING:tensorflow:Model was constructed with shape (512, 512, 3) for input KerasTensor(type_spec=TensorSpec(shape=(512, 512, 3), dtype=tf.uint8, name='random_flip_input'), name='random_flip_input', description=\"created by layer 'random_flip_input'\"), but it was called on an input with incompatible shape (None, 224, 224, 3).\n"
          ]
        },
        {
          "output_type": "stream",
          "name": "stdout",
          "text": [
            "\b\b\b\b\b\b\b\b\b\b\b\b\b\b\b\b\b\b\b\b\b\b\b\b\b\b\b\b\b\b\b\b\b\b\b\b\b\b\b\b\b\b\b\b\b\b\b\b\b\b\b\b\b\b\b\b\b\b\b\b\b\b\b\b\b\b\b\b\b\b\b\b\b\b\b\b\b\b\b\b\r3/3 [==============================] - 14s 2s/step - loss: 2.3655 - accuracy: 0.1571 - val_loss: 2.3100 - val_accuracy: 0.1102\n",
            "Epoch 2/5\n",
            "3/3 [==============================] - 4s 2s/step - loss: 2.1070 - accuracy: 0.1714 - val_loss: 2.1800 - val_accuracy: 0.2056\n",
            "Epoch 3/5\n",
            "3/3 [==============================] - 4s 2s/step - loss: 1.9430 - accuracy: 0.4000 - val_loss: 2.0662 - val_accuracy: 0.2681\n",
            "Epoch 4/5\n",
            "3/3 [==============================] - 3s 1s/step - loss: 1.7417 - accuracy: 0.5857 - val_loss: 1.9643 - val_accuracy: 0.3520\n",
            "Epoch 5/5\n",
            "3/3 [==============================] - 4s 2s/step - loss: 1.6086 - accuracy: 0.6714 - val_loss: 1.8695 - val_accuracy: 0.4161\n"
          ]
        }
      ]
    },
    {
      "cell_type": "code",
      "source": [
        "# evaluate\n",
        "model_1.evaluate(test_data)"
      ],
      "metadata": {
        "colab": {
          "base_uri": "https://localhost:8080/"
        },
        "id": "avA83oLlLxZf",
        "outputId": "5f69600c-6e90-4829-a78e-53ba21dd516d"
      },
      "execution_count": 21,
      "outputs": [
        {
          "output_type": "stream",
          "name": "stdout",
          "text": [
            "79/79 [==============================] - 7s 90ms/step - loss: 1.8735 - accuracy: 0.4048\n"
          ]
        },
        {
          "output_type": "execute_result",
          "data": {
            "text/plain": [
              "[1.873466968536377, 0.4047999978065491]"
            ]
          },
          "metadata": {},
          "execution_count": 21
        }
      ]
    },
    {
      "cell_type": "code",
      "source": [
        "model_1.summary()"
      ],
      "metadata": {
        "colab": {
          "base_uri": "https://localhost:8080/"
        },
        "id": "Q6xowkrKUMW_",
        "outputId": "bfb813ec-cd4d-4689-ad74-2db56498e925"
      },
      "execution_count": 22,
      "outputs": [
        {
          "output_type": "stream",
          "name": "stdout",
          "text": [
            "Model: \"model_1\"\n",
            "_________________________________________________________________\n",
            " Layer (type)                Output Shape              Param #   \n",
            "=================================================================\n",
            " input_layer (InputLayer)    [(None, 224, 224, 3)]     0         \n",
            "                                                                 \n",
            " data_augementation (Sequent  (None, None, 3)          0         \n",
            " ial)                                                            \n",
            "                                                                 \n",
            " efficientnetb0 (Functional)  (None, None, None, 1280)  4049571  \n",
            "                                                                 \n",
            " GlobalPoolinglayer (GlobalA  (None, 1280)             0         \n",
            " veragePooling2D)                                                \n",
            "                                                                 \n",
            " output_layer (Dense)        (None, 10)                12810     \n",
            "                                                                 \n",
            "=================================================================\n",
            "Total params: 4,062,381\n",
            "Trainable params: 12,810\n",
            "Non-trainable params: 4,049,571\n",
            "_________________________________________________________________\n"
          ]
        }
      ]
    },
    {
      "cell_type": "code",
      "source": [
        "plot_loss_curves(history_1)"
      ],
      "metadata": {
        "id": "jOWUINhMUX7i",
        "outputId": "38d8e796-11ac-479d-f7d0-a28ce6d79947",
        "colab": {
          "base_uri": "https://localhost:8080/",
          "height": 573
        }
      },
      "execution_count": 23,
      "outputs": [
        {
          "output_type": "display_data",
          "data": {
            "text/plain": [
              "<Figure size 432x288 with 1 Axes>"
            ],
            "image/png": "[encoded data removed]"
          },
          "metadata": {
            "needs_background": "light"
          }
        },
        {
          "output_type": "display_data",
          "data": {
            "text/plain": [
              "<Figure size 432x288 with 1 Axes>"
            ],
            "image/png": "[encoded data removed]"
          },
          "metadata": {
            "needs_background": "light"
          }
        }
      ]
    },
    {
      "cell_type": "markdown",
      "source": [
        "# MODEL 2 10% DATA WITH DATA AUGMENTATION"
      ],
      "metadata": {
        "id": "HAX3cGY3Ub8H"
      }
    },
    {
      "cell_type": "code",
      "source": [
        "!wget https://storage.googleapis.com/ztm_tf_course/food_vision/10_food_classes_10_percent.zip\n",
        "unzip_data(\"10_food_classes_10_percent.zip\")"
      ],
      "metadata": {
        "colab": {
          "base_uri": "https://localhost:8080/"
        },
        "id": "3Ot-yKpA3Z2M",
        "outputId": "54726e1f-042d-4ebb-a72f-80fd303c6e7a"
      },
      "execution_count": 24,
      "outputs": [
        {
          "output_type": "stream",
          "name": "stdout",
          "text": [
            "--2023-03-12 09:06:05--  https://storage.googleapis.com/ztm_tf_course/food_vision/10_food_classes_10_percent.zip\n",
            "Resolving storage.googleapis.com (storage.googleapis.com)... 74.125.200.128, 74.125.68.128, 74.125.24.128, ...\n",
            "Connecting to storage.googleapis.com (storage.googleapis.com)|74.125.200.128|:443... connected.\n",
            "HTTP request sent, awaiting response... 200 OK\n",
            "Length: 168546183 (161M) [application/zip]\n",
            "Saving to: ‘10_food_classes_10_percent.zip.1’\n",
            "\n",
            "10_food_classes_10_ 100%[===================>] 160.74M  19.3MB/s    in 9.6s    \n",
            "\n",
            "2023-03-12 09:06:15 (16.8 MB/s) - ‘10_food_classes_10_percent.zip.1’ saved [168546183/168546183]\n",
            "\n"
          ]
        }
      ]
    },
    {
      "cell_type": "code",
      "source": [
        "walk_through_dir(\"10_food_classes_10_percent\")"
      ],
      "metadata": {
        "colab": {
          "base_uri": "https://localhost:8080/"
        },
        "id": "52mM-XDB3bJu",
        "outputId": "64314f82-f4cb-43de-9a8c-931d8d2c300d"
      },
      "execution_count": 25,
      "outputs": [
        {
          "output_type": "stream",
          "name": "stdout",
          "text": [
            "There are 2 directories and 0 images in '10_food_classes_10_percent'.\n",
            "There are 10 directories and 0 images in '10_food_classes_10_percent/train'.\n",
            "There are 0 directories and 75 images in '10_food_classes_10_percent/train/ice_cream'.\n",
            "There are 0 directories and 75 images in '10_food_classes_10_percent/train/chicken_wings'.\n",
            "There are 0 directories and 75 images in '10_food_classes_10_percent/train/sushi'.\n",
            "There are 0 directories and 75 images in '10_food_classes_10_percent/train/hamburger'.\n",
            "There are 0 directories and 75 images in '10_food_classes_10_percent/train/chicken_curry'.\n",
            "There are 0 directories and 75 images in '10_food_classes_10_percent/train/ramen'.\n",
            "There are 0 directories and 75 images in '10_food_classes_10_percent/train/pizza'.\n",
            "There are 0 directories and 75 images in '10_food_classes_10_percent/train/grilled_salmon'.\n",
            "There are 0 directories and 75 images in '10_food_classes_10_percent/train/steak'.\n",
            "There are 0 directories and 75 images in '10_food_classes_10_percent/train/fried_rice'.\n",
            "There are 10 directories and 0 images in '10_food_classes_10_percent/test'.\n",
            "There are 0 directories and 250 images in '10_food_classes_10_percent/test/ice_cream'.\n",
            "There are 0 directories and 250 images in '10_food_classes_10_percent/test/chicken_wings'.\n",
            "There are 0 directories and 250 images in '10_food_classes_10_percent/test/sushi'.\n",
            "There are 0 directories and 250 images in '10_food_classes_10_percent/test/hamburger'.\n",
            "There are 0 directories and 250 images in '10_food_classes_10_percent/test/chicken_curry'.\n",
            "There are 0 directories and 250 images in '10_food_classes_10_percent/test/ramen'.\n",
            "There are 0 directories and 250 images in '10_food_classes_10_percent/test/pizza'.\n",
            "There are 0 directories and 250 images in '10_food_classes_10_percent/test/grilled_salmon'.\n",
            "There are 0 directories and 250 images in '10_food_classes_10_percent/test/steak'.\n",
            "There are 0 directories and 250 images in '10_food_classes_10_percent/test/fried_rice'.\n"
          ]
        }
      ]
    },
    {
      "cell_type": "code",
      "source": [
        "train_dir_10_percent = \"10_food_classes_10_percent/train\"\n",
        "test_dir = \"10_food_classes_10_percent/test\""
      ],
      "metadata": {
        "id": "gyb9CmMm3bYx"
      },
      "execution_count": 26,
      "outputs": []
    },
    {
      "cell_type": "code",
      "source": [
        "import tensorflow as tf\n",
        "from tensorflow import keras\n",
        "from tensorflow.keras  import layers\n",
        "\n",
        "train_data_10 = tf.keras.preprocessing.image_dataset_from_directory(directory=train_dir_10_percent,\n",
        "                                                                    image_size=(224,224),\n",
        "                                                                    label_mode=\"categorical\")\n",
        "test_dir = tf.keras.preprocessing.image_dataset_from_directory(directory=test_dir,\n",
        "                                                               image_size=(224,224),\n",
        "                                                               label_mode=\"categorical\")"
      ],
      "metadata": {
        "colab": {
          "base_uri": "https://localhost:8080/"
        },
        "id": "K9m7TLYT37ks",
        "outputId": "51cf819e-ad20-4693-ba19-68b9b8356001"
      },
      "execution_count": 27,
      "outputs": [
        {
          "output_type": "stream",
          "name": "stdout",
          "text": [
            "Found 750 files belonging to 10 classes.\n",
            "Found 2500 files belonging to 10 classes.\n"
          ]
        }
      ]
    },
    {
      "cell_type": "code",
      "source": [
        "train_data_10.class_names"
      ],
      "metadata": {
        "colab": {
          "base_uri": "https://localhost:8080/"
        },
        "id": "fSim1Zxe4x7w",
        "outputId": "e9145d61-e4c9-4404-9ff1-37b369efc460"
      },
      "execution_count": 28,
      "outputs": [
        {
          "output_type": "execute_result",
          "data": {
            "text/plain": [
              "['chicken_curry',\n",
              " 'chicken_wings',\n",
              " 'fried_rice',\n",
              " 'grilled_salmon',\n",
              " 'hamburger',\n",
              " 'ice_cream',\n",
              " 'pizza',\n",
              " 'ramen',\n",
              " 'steak',\n",
              " 'sushi']"
            ]
          },
          "metadata": {},
          "execution_count": 28
        }
      ]
    },
    {
      "cell_type": "code",
      "source": [
        "# from tensorflow.keras.layers.experimental import preprocessing\n",
        "\n",
        "data_augementaion = keras.Sequential([\n",
        "    layers.RandomFlip(\"horizontal\"),\n",
        "    layers.RandomZoom(0.2),\n",
        "    layers.RandomRotation(0.2),\n",
        "    layers.RandomHeight(0.2),\n",
        "    layers.RandomWidth(0.2)\n",
        "], name=\"data_augentation_layer\")\n",
        "\n",
        "\n",
        "input_shape = (224, 224, 3)\n",
        "\n",
        "base_model = tf.keras.applications.EfficientNetB0(include_top=False)\n",
        "base_model.trainable=False\n",
        "\n",
        "input = layers.Input(shape=input_shape, name=\"input_layer\")\n",
        "\n",
        "x = data_augementaion(input)\n",
        "\n",
        "x = base_model(x, training=False)\n",
        "\n",
        "x = layers.GlobalAveragePooling2D(name=\"Pooling_layer\")(x)\n",
        "\n",
        "output = layers.Dense(10, activation=\"softmax\", name=\"output_layer\")(x)\n",
        "\n",
        "model_2 = keras.Model(input, output)\n",
        "\n",
        "model_2.compile(loss=\"categorical_crossentropy\",\n",
        "                optimizer=tf.keras.optimizers.Adam(),\n",
        "                metrics=[\"accuracy\"])"
      ],
      "metadata": {
        "colab": {
          "base_uri": "https://localhost:8080/"
        },
        "id": "aar6pVMH46z8",
        "outputId": "4a8a5461-8e80-4b8b-f5aa-8894b75337f9"
      },
      "execution_count": 29,
      "outputs": [
        {
          "output_type": "stream",
          "name": "stderr",
          "text": [
            "WARNING:tensorflow:Using a while_loop for converting RngReadAndSkip cause there is no registered converter for this op.\n",
            "WARNING:tensorflow:Using a while_loop for converting Bitcast cause there is no registered converter for this op.\n",
            "WARNING:tensorflow:Using a while_loop for converting Bitcast cause there is no registered converter for this op.\n",
            "WARNING:tensorflow:Using a while_loop for converting StatelessRandomUniformV2 cause there is no registered converter for this op.\n",
            "WARNING:tensorflow:Using a while_loop for converting ImageProjectiveTransformV3 cause there is no registered converter for this op.\n",
            "WARNING:tensorflow:Using a while_loop for converting RngReadAndSkip cause there is no registered converter for this op.\n",
            "WARNING:tensorflow:Using a while_loop for converting Bitcast cause there is no registered converter for this op.\n",
            "WARNING:tensorflow:Using a while_loop for converting Bitcast cause there is no registered converter for this op.\n",
            "WARNING:tensorflow:Using a while_loop for converting StatelessRandomUniformV2 cause there is no registered converter for this op.\n",
            "WARNING:tensorflow:Using a while_loop for converting ImageProjectiveTransformV3 cause there is no registered converter for this op.\n",
            "WARNING:tensorflow:Using a while_loop for converting RngReadAndSkip cause there is no registered converter for this op.\n",
            "WARNING:tensorflow:Using a while_loop for converting Bitcast cause there is no registered converter for this op.\n",
            "WARNING:tensorflow:Using a while_loop for converting Bitcast cause there is no registered converter for this op.\n",
            "WARNING:tensorflow:Using a while_loop for converting StatelessRandomUniformV2 cause there is no registered converter for this op.\n",
            "WARNING:tensorflow:Using a while_loop for converting ImageProjectiveTransformV3 cause there is no registered converter for this op.\n",
            "WARNING:tensorflow:Using a while_loop for converting RngReadAndSkip cause there is no registered converter for this op.\n",
            "WARNING:tensorflow:Using a while_loop for converting Bitcast cause there is no registered converter for this op.\n",
            "WARNING:tensorflow:Using a while_loop for converting Bitcast cause there is no registered converter for this op.\n",
            "WARNING:tensorflow:Using a while_loop for converting StatelessRandomUniformV2 cause there is no registered converter for this op.\n",
            "WARNING:tensorflow:Using a while_loop for converting ImageProjectiveTransformV3 cause there is no registered converter for this op.\n"
          ]
        }
      ]
    },
    {
      "cell_type": "code",
      "source": [
        "# create callback\n",
        "checkpoint_path = \"ten_percent_model_checkpoint/checkpoint.ckpt\"\n",
        "checkpoint_callback = tf.keras.callbacks.ModelCheckpoint(filepath=checkpoint_path,\n",
        "                                                         save_weights_only=True,\n",
        "                                                         save_feq=\"epoch\",\n",
        "                                                         verbose=1)"
      ],
      "metadata": {
        "id": "HWiwdzSj5t3N"
      },
      "execution_count": 55,
      "outputs": []
    },
    {
      "cell_type": "code",
      "source": [
        "initial_epochs=5\n",
        "\n",
        "history_2 = model_2.fit(train_data_10,\n",
        "            epochs=initial_epochs,\n",
        "            steps_per_epoch=len(train_data_10),\n",
        "            validation_data=test_data,\n",
        "            validation_steps=int(0.25 * len(test_data)),\n",
        "            callbacks=[create_tensorboard_callback(dir_name=\"transfer_learning\",\n",
        "                                                   experiment_name=\"10_percent_data_model_2\"),\n",
        "                       checkpoint_callback]\n",
        "            )"
      ],
      "metadata": {
        "colab": {
          "base_uri": "https://localhost:8080/"
        },
        "id": "FUZFY8ay-3BD",
        "outputId": "d640e357-a7d2-407b-e758-0caaffa5d8b8"
      },
      "execution_count": 31,
      "outputs": [
        {
          "output_type": "stream",
          "name": "stderr",
          "text": [
            "WARNING:tensorflow:Model failed to serialize as JSON. Ignoring... Unable to serialize [2.0896919 2.1128857 2.1081853] to JSON. Unrecognized type <class 'tensorflow.python.framework.ops.EagerTensor'>.\n"
          ]
        },
        {
          "output_type": "stream",
          "name": "stdout",
          "text": [
            "Saving TensorBoard log files to: transfer_learning/10_percent_data_model_2/20230312-090621\n",
            "Epoch 1/5\n"
          ]
        },
        {
          "output_type": "stream",
          "name": "stderr",
          "text": [
            "WARNING:tensorflow:Using a while_loop for converting RngReadAndSkip cause there is no registered converter for this op.\n",
            "WARNING:tensorflow:Using a while_loop for converting Bitcast cause there is no registered converter for this op.\n",
            "WARNING:tensorflow:Using a while_loop for converting Bitcast cause there is no registered converter for this op.\n",
            "WARNING:tensorflow:Using a while_loop for converting StatelessRandomUniformV2 cause there is no registered converter for this op.\n",
            "WARNING:tensorflow:Using a while_loop for converting ImageProjectiveTransformV3 cause there is no registered converter for this op.\n",
            "WARNING:tensorflow:Using a while_loop for converting RngReadAndSkip cause there is no registered converter for this op.\n",
            "WARNING:tensorflow:Using a while_loop for converting Bitcast cause there is no registered converter for this op.\n",
            "WARNING:tensorflow:Using a while_loop for converting Bitcast cause there is no registered converter for this op.\n",
            "WARNING:tensorflow:Using a while_loop for converting StatelessRandomUniformV2 cause there is no registered converter for this op.\n",
            "WARNING:tensorflow:Using a while_loop for converting ImageProjectiveTransformV3 cause there is no registered converter for this op.\n",
            "WARNING:tensorflow:Using a while_loop for converting RngReadAndSkip cause there is no registered converter for this op.\n",
            "WARNING:tensorflow:Using a while_loop for converting Bitcast cause there is no registered converter for this op.\n",
            "WARNING:tensorflow:Using a while_loop for converting Bitcast cause there is no registered converter for this op.\n",
            "WARNING:tensorflow:Using a while_loop for converting StatelessRandomUniformV2 cause there is no registered converter for this op.\n",
            "WARNING:tensorflow:Using a while_loop for converting ImageProjectiveTransformV3 cause there is no registered converter for this op.\n",
            "WARNING:tensorflow:Using a while_loop for converting RngReadAndSkip cause there is no registered converter for this op.\n",
            "WARNING:tensorflow:Using a while_loop for converting Bitcast cause there is no registered converter for this op.\n",
            "WARNING:tensorflow:Using a while_loop for converting Bitcast cause there is no registered converter for this op.\n",
            "WARNING:tensorflow:Using a while_loop for converting StatelessRandomUniformV2 cause there is no registered converter for this op.\n",
            "WARNING:tensorflow:Using a while_loop for converting ImageProjectiveTransformV3 cause there is no registered converter for this op.\n"
          ]
        },
        {
          "output_type": "stream",
          "name": "stdout",
          "text": [
            "24/24 [==============================] - ETA: 0s - loss: 1.9344 - accuracy: 0.3600\n",
            "Epoch 1: saving model to ten_percent_model_checkpoint/checkpoint.ckpt\n",
            "24/24 [==============================] - 29s 829ms/step - loss: 1.9344 - accuracy: 0.3600 - val_loss: 1.4208 - val_accuracy: 0.6711\n",
            "Epoch 2/5\n",
            "24/24 [==============================] - ETA: 0s - loss: 1.2653 - accuracy: 0.7013\n",
            "Epoch 2: saving model to ten_percent_model_checkpoint/checkpoint.ckpt\n",
            "24/24 [==============================] - 13s 531ms/step - loss: 1.2653 - accuracy: 0.7013 - val_loss: 0.9633 - val_accuracy: 0.8092\n",
            "Epoch 3/5\n",
            "24/24 [==============================] - ETA: 0s - loss: 0.9728 - accuracy: 0.7707\n",
            "Epoch 3: saving model to ten_percent_model_checkpoint/checkpoint.ckpt\n",
            "24/24 [==============================] - 13s 539ms/step - loss: 0.9728 - accuracy: 0.7707 - val_loss: 0.7592 - val_accuracy: 0.8355\n",
            "Epoch 4/5\n",
            "24/24 [==============================] - ETA: 0s - loss: 0.8191 - accuracy: 0.7933\n",
            "Epoch 4: saving model to ten_percent_model_checkpoint/checkpoint.ckpt\n",
            "24/24 [==============================] - 13s 527ms/step - loss: 0.8191 - accuracy: 0.7933 - val_loss: 0.6583 - val_accuracy: 0.8405\n",
            "Epoch 5/5\n",
            "24/24 [==============================] - ETA: 0s - loss: 0.7222 - accuracy: 0.8280\n",
            "Epoch 5: saving model to ten_percent_model_checkpoint/checkpoint.ckpt\n",
            "24/24 [==============================] - 12s 484ms/step - loss: 0.7222 - accuracy: 0.8280 - val_loss: 0.5841 - val_accuracy: 0.8520\n"
          ]
        }
      ]
    },
    {
      "cell_type": "code",
      "source": [
        "ten_percent_data_evaluation = model_2.evaluate(test_data)\n",
        "ten_percent_data_evaluation"
      ],
      "metadata": {
        "colab": {
          "base_uri": "https://localhost:8080/"
        },
        "id": "CpseVcMgABUc",
        "outputId": "bd3802a3-b4a1-470d-aa9d-ce3377961ea8"
      },
      "execution_count": 32,
      "outputs": [
        {
          "output_type": "stream",
          "name": "stdout",
          "text": [
            "79/79 [==============================] - 7s 85ms/step - loss: 0.6043 - accuracy: 0.8412\n"
          ]
        },
        {
          "output_type": "execute_result",
          "data": {
            "text/plain": [
              "[0.6042557954788208, 0.8411999940872192]"
            ]
          },
          "metadata": {},
          "execution_count": 32
        }
      ]
    },
    {
      "cell_type": "code",
      "source": [
        "plot_loss_curves(history_2)"
      ],
      "metadata": {
        "colab": {
          "base_uri": "https://localhost:8080/",
          "height": 573
        },
        "id": "ayrrdoIeBt11",
        "outputId": "09b745d1-ba52-4b4c-f88c-da966bc2f3f5"
      },
      "execution_count": 33,
      "outputs": [
        {
          "output_type": "display_data",
          "data": {
            "text/plain": [
              "<Figure size 432x288 with 1 Axes>"
            ],
            "image/png": "[encoded data removed]"
          },
          "metadata": {
            "needs_background": "light"
          }
        },
        {
          "output_type": "display_data",
          "data": {
            "text/plain": [
              "<Figure size 432x288 with 1 Axes>"
            ],
            "image/png": "[encoded data removed]"
          },
          "metadata": {
            "needs_background": "light"
          }
        }
      ]
    },
    {
      "cell_type": "code",
      "source": [
        "model_2.load_weights(checkpoint_path)\n",
        "model_2.evaluate(test_data)"
      ],
      "metadata": {
        "colab": {
          "base_uri": "https://localhost:8080/"
        },
        "id": "X-gbOLkIBuVO",
        "outputId": "57957b49-99ba-4665-8418-3d99f75bd253"
      },
      "execution_count": 34,
      "outputs": [
        {
          "output_type": "stream",
          "name": "stdout",
          "text": [
            "79/79 [==============================] - 6s 67ms/step - loss: 0.6043 - accuracy: 0.8412\n"
          ]
        },
        {
          "output_type": "execute_result",
          "data": {
            "text/plain": [
              "[0.6042559742927551, 0.8411999940872192]"
            ]
          },
          "metadata": {},
          "execution_count": 34
        }
      ]
    },
    {
      "cell_type": "markdown",
      "source": [
        "# MODEL 3 FINE TUNNIG MODEL 2"
      ],
      "metadata": {
        "id": "nXzR9CoBBIxj"
      }
    },
    {
      "cell_type": "code",
      "source": [
        "base_model.trainable = True\n",
        "for layer in base_model.layers[:-10]:\n",
        "  layer.trainable=False\n",
        "for layer_number, layer in enumerate(base_model.layers):\n",
        "  print(layer_number, layer.name, layer.trainable)"
      ],
      "metadata": {
        "colab": {
          "base_uri": "https://localhost:8080/"
        },
        "id": "f2UOMsk4BudL",
        "outputId": "73a5549d-6dfc-45d0-99c5-b3b719d3dc98"
      },
      "execution_count": 35,
      "outputs": [
        {
          "output_type": "stream",
          "name": "stdout",
          "text": [
            "0 input_3 False\n",
            "1 rescaling_4 False\n",
            "2 normalization_2 False\n",
            "3 rescaling_5 False\n",
            "4 stem_conv_pad False\n",
            "5 stem_conv False\n",
            "6 stem_bn False\n",
            "7 stem_activation False\n",
            "8 block1a_dwconv False\n",
            "9 block1a_bn False\n",
            "10 block1a_activation False\n",
            "11 block1a_se_squeeze False\n",
            "12 block1a_se_reshape False\n",
            "13 block1a_se_reduce False\n",
            "14 block1a_se_expand False\n",
            "15 block1a_se_excite False\n",
            "16 block1a_project_conv False\n",
            "17 block1a_project_bn False\n",
            "18 block2a_expand_conv False\n",
            "19 block2a_expand_bn False\n",
            "20 block2a_expand_activation False\n",
            "21 block2a_dwconv_pad False\n",
            "22 block2a_dwconv False\n",
            "23 block2a_bn False\n",
            "24 block2a_activation False\n",
            "25 block2a_se_squeeze False\n",
            "26 block2a_se_reshape False\n",
            "27 block2a_se_reduce False\n",
            "28 block2a_se_expand False\n",
            "29 block2a_se_excite False\n",
            "30 block2a_project_conv False\n",
            "31 block2a_project_bn False\n",
            "32 block2b_expand_conv False\n",
            "33 block2b_expand_bn False\n",
            "34 block2b_expand_activation False\n",
            "35 block2b_dwconv False\n",
            "36 block2b_bn False\n",
            "37 block2b_activation False\n",
            "38 block2b_se_squeeze False\n",
            "39 block2b_se_reshape False\n",
            "40 block2b_se_reduce False\n",
            "41 block2b_se_expand False\n",
            "42 block2b_se_excite False\n",
            "43 block2b_project_conv False\n",
            "44 block2b_project_bn False\n",
            "45 block2b_drop False\n",
            "46 block2b_add False\n",
            "47 block3a_expand_conv False\n",
            "48 block3a_expand_bn False\n",
            "49 block3a_expand_activation False\n",
            "50 block3a_dwconv_pad False\n",
            "51 block3a_dwconv False\n",
            "52 block3a_bn False\n",
            "53 block3a_activation False\n",
            "54 block3a_se_squeeze False\n",
            "55 block3a_se_reshape False\n",
            "56 block3a_se_reduce False\n",
            "57 block3a_se_expand False\n",
            "58 block3a_se_excite False\n",
            "59 block3a_project_conv False\n",
            "60 block3a_project_bn False\n",
            "61 block3b_expand_conv False\n",
            "62 block3b_expand_bn False\n",
            "63 block3b_expand_activation False\n",
            "64 block3b_dwconv False\n",
            "65 block3b_bn False\n",
            "66 block3b_activation False\n",
            "67 block3b_se_squeeze False\n",
            "68 block3b_se_reshape False\n",
            "69 block3b_se_reduce False\n",
            "70 block3b_se_expand False\n",
            "71 block3b_se_excite False\n",
            "72 block3b_project_conv False\n",
            "73 block3b_project_bn False\n",
            "74 block3b_drop False\n",
            "75 block3b_add False\n",
            "76 block4a_expand_conv False\n",
            "77 block4a_expand_bn False\n",
            "78 block4a_expand_activation False\n",
            "79 block4a_dwconv_pad False\n",
            "80 block4a_dwconv False\n",
            "81 block4a_bn False\n",
            "82 block4a_activation False\n",
            "83 block4a_se_squeeze False\n",
            "84 block4a_se_reshape False\n",
            "85 block4a_se_reduce False\n",
            "86 block4a_se_expand False\n",
            "87 block4a_se_excite False\n",
            "88 block4a_project_conv False\n",
            "89 block4a_project_bn False\n",
            "90 block4b_expand_conv False\n",
            "91 block4b_expand_bn False\n",
            "92 block4b_expand_activation False\n",
            "93 block4b_dwconv False\n",
            "94 block4b_bn False\n",
            "95 block4b_activation False\n",
            "96 block4b_se_squeeze False\n",
            "97 block4b_se_reshape False\n",
            "98 block4b_se_reduce False\n",
            "99 block4b_se_expand False\n",
            "100 block4b_se_excite False\n",
            "101 block4b_project_conv False\n",
            "102 block4b_project_bn False\n",
            "103 block4b_drop False\n",
            "104 block4b_add False\n",
            "105 block4c_expand_conv False\n",
            "106 block4c_expand_bn False\n",
            "107 block4c_expand_activation False\n",
            "108 block4c_dwconv False\n",
            "109 block4c_bn False\n",
            "110 block4c_activation False\n",
            "111 block4c_se_squeeze False\n",
            "112 block4c_se_reshape False\n",
            "113 block4c_se_reduce False\n",
            "114 block4c_se_expand False\n",
            "115 block4c_se_excite False\n",
            "116 block4c_project_conv False\n",
            "117 block4c_project_bn False\n",
            "118 block4c_drop False\n",
            "119 block4c_add False\n",
            "120 block5a_expand_conv False\n",
            "121 block5a_expand_bn False\n",
            "122 block5a_expand_activation False\n",
            "123 block5a_dwconv False\n",
            "124 block5a_bn False\n",
            "125 block5a_activation False\n",
            "126 block5a_se_squeeze False\n",
            "127 block5a_se_reshape False\n",
            "128 block5a_se_reduce False\n",
            "129 block5a_se_expand False\n",
            "130 block5a_se_excite False\n",
            "131 block5a_project_conv False\n",
            "132 block5a_project_bn False\n",
            "133 block5b_expand_conv False\n",
            "134 block5b_expand_bn False\n",
            "135 block5b_expand_activation False\n",
            "136 block5b_dwconv False\n",
            "137 block5b_bn False\n",
            "138 block5b_activation False\n",
            "139 block5b_se_squeeze False\n",
            "140 block5b_se_reshape False\n",
            "141 block5b_se_reduce False\n",
            "142 block5b_se_expand False\n",
            "143 block5b_se_excite False\n",
            "144 block5b_project_conv False\n",
            "145 block5b_project_bn False\n",
            "146 block5b_drop False\n",
            "147 block5b_add False\n",
            "148 block5c_expand_conv False\n",
            "149 block5c_expand_bn False\n",
            "150 block5c_expand_activation False\n",
            "151 block5c_dwconv False\n",
            "152 block5c_bn False\n",
            "153 block5c_activation False\n",
            "154 block5c_se_squeeze False\n",
            "155 block5c_se_reshape False\n",
            "156 block5c_se_reduce False\n",
            "157 block5c_se_expand False\n",
            "158 block5c_se_excite False\n",
            "159 block5c_project_conv False\n",
            "160 block5c_project_bn False\n",
            "161 block5c_drop False\n",
            "162 block5c_add False\n",
            "163 block6a_expand_conv False\n",
            "164 block6a_expand_bn False\n",
            "165 block6a_expand_activation False\n",
            "166 block6a_dwconv_pad False\n",
            "167 block6a_dwconv False\n",
            "168 block6a_bn False\n",
            "169 block6a_activation False\n",
            "170 block6a_se_squeeze False\n",
            "171 block6a_se_reshape False\n",
            "172 block6a_se_reduce False\n",
            "173 block6a_se_expand False\n",
            "174 block6a_se_excite False\n",
            "175 block6a_project_conv False\n",
            "176 block6a_project_bn False\n",
            "177 block6b_expand_conv False\n",
            "178 block6b_expand_bn False\n",
            "179 block6b_expand_activation False\n",
            "180 block6b_dwconv False\n",
            "181 block6b_bn False\n",
            "182 block6b_activation False\n",
            "183 block6b_se_squeeze False\n",
            "184 block6b_se_reshape False\n",
            "185 block6b_se_reduce False\n",
            "186 block6b_se_expand False\n",
            "187 block6b_se_excite False\n",
            "188 block6b_project_conv False\n",
            "189 block6b_project_bn False\n",
            "190 block6b_drop False\n",
            "191 block6b_add False\n",
            "192 block6c_expand_conv False\n",
            "193 block6c_expand_bn False\n",
            "194 block6c_expand_activation False\n",
            "195 block6c_dwconv False\n",
            "196 block6c_bn False\n",
            "197 block6c_activation False\n",
            "198 block6c_se_squeeze False\n",
            "199 block6c_se_reshape False\n",
            "200 block6c_se_reduce False\n",
            "201 block6c_se_expand False\n",
            "202 block6c_se_excite False\n",
            "203 block6c_project_conv False\n",
            "204 block6c_project_bn False\n",
            "205 block6c_drop False\n",
            "206 block6c_add False\n",
            "207 block6d_expand_conv False\n",
            "208 block6d_expand_bn False\n",
            "209 block6d_expand_activation False\n",
            "210 block6d_dwconv False\n",
            "211 block6d_bn False\n",
            "212 block6d_activation False\n",
            "213 block6d_se_squeeze False\n",
            "214 block6d_se_reshape False\n",
            "215 block6d_se_reduce False\n",
            "216 block6d_se_expand False\n",
            "217 block6d_se_excite False\n",
            "218 block6d_project_conv False\n",
            "219 block6d_project_bn False\n",
            "220 block6d_drop False\n",
            "221 block6d_add False\n",
            "222 block7a_expand_conv False\n",
            "223 block7a_expand_bn False\n",
            "224 block7a_expand_activation False\n",
            "225 block7a_dwconv False\n",
            "226 block7a_bn False\n",
            "227 block7a_activation False\n",
            "228 block7a_se_squeeze True\n",
            "229 block7a_se_reshape True\n",
            "230 block7a_se_reduce True\n",
            "231 block7a_se_expand True\n",
            "232 block7a_se_excite True\n",
            "233 block7a_project_conv True\n",
            "234 block7a_project_bn True\n",
            "235 top_conv True\n",
            "236 top_bn True\n",
            "237 top_activation True\n"
          ]
        }
      ]
    },
    {
      "cell_type": "code",
      "source": [
        "fine_tune_epoch = initial_epochs + 5\n",
        "model_2.compile(loss=\"categorical_crossentropy\",\n",
        "                optimizer=tf.keras.optimizers.Adam(0.0001),\n",
        "                metrics=[\"accuracy\"])\n",
        "\n",
        "history_3 = model_2.fit(train_data_10,\n",
        "                        epochs= fine_tune_epoch,\n",
        "                        initial_epoch=history_2.epoch[-1],\n",
        "                        steps_per_epoch=len(train_data),\n",
        "                        validation_data=test_data,\n",
        "                        validation_steps=int(0.25 * len(test_data)),\n",
        "                        callbacks=[create_tensorboard_callback(dir_name=\"transfer_learning\",\n",
        "                                                               experiment_name=\"model_3_fine_tunnig\"),\n",
        "                       \n",
        "                                   ]\n",
        "                        )"
      ],
      "metadata": {
        "colab": {
          "base_uri": "https://localhost:8080/"
        },
        "id": "27JYCTWRD-Pc",
        "outputId": "06a77e59-97e3-4f8e-f292-fdfe3051293f"
      },
      "execution_count": 36,
      "outputs": [
        {
          "output_type": "stream",
          "name": "stderr",
          "text": [
            "WARNING:tensorflow:Model failed to serialize as JSON. Ignoring... Unable to serialize [2.0896919 2.1128857 2.1081853] to JSON. Unrecognized type <class 'tensorflow.python.framework.ops.EagerTensor'>.\n"
          ]
        },
        {
          "output_type": "stream",
          "name": "stdout",
          "text": [
            "Saving TensorBoard log files to: transfer_learning/model_3_fine_tunnig/20230312-090824\n",
            "Epoch 5/10\n"
          ]
        },
        {
          "output_type": "stream",
          "name": "stderr",
          "text": [
            "WARNING:tensorflow:Using a while_loop for converting RngReadAndSkip cause there is no registered converter for this op.\n",
            "WARNING:tensorflow:Using a while_loop for converting Bitcast cause there is no registered converter for this op.\n",
            "WARNING:tensorflow:Using a while_loop for converting Bitcast cause there is no registered converter for this op.\n",
            "WARNING:tensorflow:Using a while_loop for converting StatelessRandomUniformV2 cause there is no registered converter for this op.\n",
            "WARNING:tensorflow:Using a while_loop for converting ImageProjectiveTransformV3 cause there is no registered converter for this op.\n",
            "WARNING:tensorflow:Using a while_loop for converting RngReadAndSkip cause there is no registered converter for this op.\n",
            "WARNING:tensorflow:Using a while_loop for converting Bitcast cause there is no registered converter for this op.\n",
            "WARNING:tensorflow:Using a while_loop for converting Bitcast cause there is no registered converter for this op.\n",
            "WARNING:tensorflow:Using a while_loop for converting StatelessRandomUniformV2 cause there is no registered converter for this op.\n",
            "WARNING:tensorflow:Using a while_loop for converting ImageProjectiveTransformV3 cause there is no registered converter for this op.\n",
            "WARNING:tensorflow:Using a while_loop for converting RngReadAndSkip cause there is no registered converter for this op.\n",
            "WARNING:tensorflow:Using a while_loop for converting Bitcast cause there is no registered converter for this op.\n",
            "WARNING:tensorflow:Using a while_loop for converting Bitcast cause there is no registered converter for this op.\n",
            "WARNING:tensorflow:Using a while_loop for converting StatelessRandomUniformV2 cause there is no registered converter for this op.\n",
            "WARNING:tensorflow:Using a while_loop for converting ImageProjectiveTransformV3 cause there is no registered converter for this op.\n",
            "WARNING:tensorflow:Using a while_loop for converting RngReadAndSkip cause there is no registered converter for this op.\n",
            "WARNING:tensorflow:Using a while_loop for converting Bitcast cause there is no registered converter for this op.\n",
            "WARNING:tensorflow:Using a while_loop for converting Bitcast cause there is no registered converter for this op.\n",
            "WARNING:tensorflow:Using a while_loop for converting StatelessRandomUniformV2 cause there is no registered converter for this op.\n",
            "WARNING:tensorflow:Using a while_loop for converting ImageProjectiveTransformV3 cause there is no registered converter for this op.\n"
          ]
        },
        {
          "output_type": "stream",
          "name": "stdout",
          "text": [
            "24/24 [==============================] - 25s 586ms/step - loss: 0.6087 - accuracy: 0.8320 - val_loss: 0.4890 - val_accuracy: 0.8421\n",
            "Epoch 6/10\n",
            "24/24 [==============================] - 12s 502ms/step - loss: 0.5045 - accuracy: 0.8493 - val_loss: 0.4260 - val_accuracy: 0.8635\n",
            "Epoch 7/10\n",
            "24/24 [==============================] - 12s 481ms/step - loss: 0.4309 - accuracy: 0.8693 - val_loss: 0.3914 - val_accuracy: 0.8701\n",
            "Epoch 8/10\n",
            "24/24 [==============================] - 12s 497ms/step - loss: 0.3728 - accuracy: 0.8933 - val_loss: 0.4073 - val_accuracy: 0.8635\n",
            "Epoch 9/10\n",
            "24/24 [==============================] - 11s 456ms/step - loss: 0.3256 - accuracy: 0.9120 - val_loss: 0.3802 - val_accuracy: 0.8701\n",
            "Epoch 10/10\n",
            "24/24 [==============================] - 11s 410ms/step - loss: 0.2985 - accuracy: 0.9187 - val_loss: 0.4301 - val_accuracy: 0.8503\n"
          ]
        }
      ]
    },
    {
      "cell_type": "code",
      "source": [
        "model_3_results = model_2.evaluate(test_data)\n",
        "model_3_results"
      ],
      "metadata": {
        "colab": {
          "base_uri": "https://localhost:8080/"
        },
        "id": "nuyDgqGyGTHw",
        "outputId": "198a82e3-84a3-4946-8454-17216d46308b"
      },
      "execution_count": 37,
      "outputs": [
        {
          "output_type": "stream",
          "name": "stdout",
          "text": [
            "79/79 [==============================] - 6s 77ms/step - loss: 0.4181 - accuracy: 0.8604\n"
          ]
        },
        {
          "output_type": "execute_result",
          "data": {
            "text/plain": [
              "[0.4180823862552643, 0.8604000210762024]"
            ]
          },
          "metadata": {},
          "execution_count": 37
        }
      ]
    },
    {
      "cell_type": "code",
      "source": [
        "\n",
        "def compare_history(new_history, old_history, initial_epochs=5):\n",
        "  # old \n",
        "  acc = old_history.history[\"accuracy\"]\n",
        "  val_acc = old_history.history[\"val_accuracy\"]\n",
        "\n",
        "  loss = old_history.history[\"loss\"]\n",
        "  val_loss = old_history.history[\"val_loss\"]\n",
        "\n",
        "  # new\n",
        "  total_acc =acc + new_history.history[\"accuracy\"]\n",
        "  total_val_acc = val_acc + new_history.history[\"val_accuracy\"]\n",
        "\n",
        "  total_loss = loss + new_history.history[\"loss\"]\n",
        "  total_val_loss = val_loss + new_history.history[\"val_loss\"]\n",
        "\n",
        "  plt.figure(figsize=(8,6))\n",
        "  plt.plot(total_acc, label=\"Training Accuracy\")\n",
        "  plt.plot(total_val_acc, label= \"Validation Accuracy\")\n",
        "  plt.plot([initial_epochs -1, initial_epochs-1], plt.ylim(), label=\"Start Fine Tuning\")\n",
        "\n",
        "  plt.title('Traingin and Validation Accuracy')\n",
        "\n",
        "  plt.figure(figsize=(8,6))\n",
        "  plt.plot(total_loss, label=\"Training Loss\")\n",
        "  plt.plot(total_val_loss, label= \"Validation Loss\")\n",
        "  plt.plot([initial_epochs -1, initial_epochs-1], plt.ylim(), label=\"Start Fine Tuning\")\n",
        " \n",
        "  plt.title('Loss and Validation Loss')\n"
      ],
      "metadata": {
        "id": "7rF0tPJhG-Zn"
      },
      "execution_count": 38,
      "outputs": []
    },
    {
      "cell_type": "code",
      "source": [
        "compare_history(old_history=history_2, new_history=history_3)"
      ],
      "metadata": {
        "colab": {
          "base_uri": "https://localhost:8080/",
          "height": 763
        },
        "id": "poYz72PUJhNt",
        "outputId": "90fef7e3-a17d-4144-fd97-2f2a9f211ddd"
      },
      "execution_count": 40,
      "outputs": [
        {
          "output_type": "display_data",
          "data": {
            "text/plain": [
              "<Figure size 576x432 with 1 Axes>"
            ],
            "image/png": "[encoded data removed]"
          },
          "metadata": {
            "needs_background": "light"
          }
        },
        {
          "output_type": "display_data",
          "data": {
            "text/plain": [
              "<Figure size 576x432 with 1 Axes>"
            ],
            "image/png": "[encoded data removed]"
          },
          "metadata": {
            "needs_background": "light"
          }
        }
      ]
    },
    {
      "cell_type": "markdown",
      "source": [
        "# model 4 all the data "
      ],
      "metadata": {
        "id": "qYR3R3STJpU5"
      }
    },
    {
      "cell_type": "code",
      "source": [
        "!wget https://storage.googleapis.com/ztm_tf_course/food_vision/10_food_classes_all_data.zip\n",
        "unzip_data(\"10_food_classes_all_data.zip\")"
      ],
      "metadata": {
        "id": "Qig4GLcAHVoJ"
      },
      "execution_count": 42,
      "outputs": []
    },
    {
      "cell_type": "code",
      "source": [
        "walk_through_dir(\"10_food_classes_all_data\")"
      ],
      "metadata": {
        "colab": {
          "base_uri": "https://localhost:8080/"
        },
        "id": "m0dVE0EyHV1d",
        "outputId": "260d07c5-17eb-472e-ea2f-0db17f0cb75d"
      },
      "execution_count": 43,
      "outputs": [
        {
          "output_type": "stream",
          "name": "stdout",
          "text": [
            "There are 2 directories and 0 images in '10_food_classes_all_data'.\n",
            "There are 10 directories and 0 images in '10_food_classes_all_data/train'.\n",
            "There are 0 directories and 750 images in '10_food_classes_all_data/train/ice_cream'.\n",
            "There are 0 directories and 750 images in '10_food_classes_all_data/train/chicken_wings'.\n",
            "There are 0 directories and 750 images in '10_food_classes_all_data/train/sushi'.\n",
            "There are 0 directories and 750 images in '10_food_classes_all_data/train/hamburger'.\n",
            "There are 0 directories and 750 images in '10_food_classes_all_data/train/chicken_curry'.\n",
            "There are 0 directories and 750 images in '10_food_classes_all_data/train/ramen'.\n",
            "There are 0 directories and 750 images in '10_food_classes_all_data/train/pizza'.\n",
            "There are 0 directories and 750 images in '10_food_classes_all_data/train/grilled_salmon'.\n",
            "There are 0 directories and 750 images in '10_food_classes_all_data/train/steak'.\n",
            "There are 0 directories and 750 images in '10_food_classes_all_data/train/fried_rice'.\n",
            "There are 10 directories and 0 images in '10_food_classes_all_data/test'.\n",
            "There are 0 directories and 250 images in '10_food_classes_all_data/test/ice_cream'.\n",
            "There are 0 directories and 250 images in '10_food_classes_all_data/test/chicken_wings'.\n",
            "There are 0 directories and 250 images in '10_food_classes_all_data/test/sushi'.\n",
            "There are 0 directories and 250 images in '10_food_classes_all_data/test/hamburger'.\n",
            "There are 0 directories and 250 images in '10_food_classes_all_data/test/chicken_curry'.\n",
            "There are 0 directories and 250 images in '10_food_classes_all_data/test/ramen'.\n",
            "There are 0 directories and 250 images in '10_food_classes_all_data/test/pizza'.\n",
            "There are 0 directories and 250 images in '10_food_classes_all_data/test/grilled_salmon'.\n",
            "There are 0 directories and 250 images in '10_food_classes_all_data/test/steak'.\n",
            "There are 0 directories and 250 images in '10_food_classes_all_data/test/fried_rice'.\n"
          ]
        }
      ]
    },
    {
      "cell_type": "code",
      "source": [
        "train_dir_all = \"10_food_classes_all_data/train\"\n",
        "test_dir = \"10_food_classes_all_data/test\""
      ],
      "metadata": {
        "id": "_wp7hn0pHV4d"
      },
      "execution_count": 44,
      "outputs": []
    },
    {
      "cell_type": "code",
      "source": [
        "train_data_all = tf.keras.preprocessing.image_dataset_from_directory(directory=train_dir_all,\n",
        "                                                                     image_size=(224,224),\n",
        "                                                                     label_mode=\"categorical\",\n",
        "                                                                     )\n",
        "test_data = tf.keras.preprocessing.image_dataset_from_directory(directory=test_dir,\n",
        "                                                                image_size=(224,224),\n",
        "                                                                label_mode=\"categorical\"\n",
        "                                                                )"
      ],
      "metadata": {
        "colab": {
          "base_uri": "https://localhost:8080/"
        },
        "id": "i92-xbqHHV64",
        "outputId": "91cc00da-b3a1-413b-ad10-3cfe4f2c9851"
      },
      "execution_count": 48,
      "outputs": [
        {
          "output_type": "stream",
          "name": "stdout",
          "text": [
            "Found 7500 files belonging to 10 classes.\n",
            "Found 2500 files belonging to 10 classes.\n"
          ]
        }
      ]
    },
    {
      "cell_type": "code",
      "source": [
        "train_data_all.class_names"
      ],
      "metadata": {
        "colab": {
          "base_uri": "https://localhost:8080/"
        },
        "id": "8wLzBUURHV-d",
        "outputId": "68486d67-57a5-4e6c-887a-859ef92dde4d"
      },
      "execution_count": 50,
      "outputs": [
        {
          "output_type": "execute_result",
          "data": {
            "text/plain": [
              "['chicken_curry',\n",
              " 'chicken_wings',\n",
              " 'fried_rice',\n",
              " 'grilled_salmon',\n",
              " 'hamburger',\n",
              " 'ice_cream',\n",
              " 'pizza',\n",
              " 'ramen',\n",
              " 'steak',\n",
              " 'sushi']"
            ]
          },
          "metadata": {},
          "execution_count": 50
        }
      ]
    },
    {
      "cell_type": "code",
      "source": [
        "# model_2.load_weights(checkpoint_path)\n",
        "model_2.evaluate(test_data)"
      ],
      "metadata": {
        "colab": {
          "base_uri": "https://localhost:8080/"
        },
        "id": "UZs2n9CRI366",
        "outputId": "16b0098c-44cd-4351-ef94-c258d4630696"
      },
      "execution_count": 58,
      "outputs": [
        {
          "output_type": "stream",
          "name": "stdout",
          "text": [
            "79/79 [==============================] - 6s 70ms/step - loss: 0.6043 - accuracy: 0.8412\n"
          ]
        },
        {
          "output_type": "execute_result",
          "data": {
            "text/plain": [
              "[0.6042559742927551, 0.8411999940872192]"
            ]
          },
          "metadata": {},
          "execution_count": 58
        }
      ]
    },
    {
      "cell_type": "code",
      "source": [
        "for layer_num, layer in enumerate(base_model.layers):\n",
        "  print(layer_num, layer.name,layer.trainable)"
      ],
      "metadata": {
        "colab": {
          "base_uri": "https://localhost:8080/"
        },
        "id": "C3b4KUEBJOxD",
        "outputId": "f0b99ea8-8771-4554-bc36-4126c6662099"
      },
      "execution_count": 59,
      "outputs": [
        {
          "output_type": "stream",
          "name": "stdout",
          "text": [
            "0 input_3 False\n",
            "1 rescaling_4 False\n",
            "2 normalization_2 False\n",
            "3 rescaling_5 False\n",
            "4 stem_conv_pad False\n",
            "5 stem_conv False\n",
            "6 stem_bn False\n",
            "7 stem_activation False\n",
            "8 block1a_dwconv False\n",
            "9 block1a_bn False\n",
            "10 block1a_activation False\n",
            "11 block1a_se_squeeze False\n",
            "12 block1a_se_reshape False\n",
            "13 block1a_se_reduce False\n",
            "14 block1a_se_expand False\n",
            "15 block1a_se_excite False\n",
            "16 block1a_project_conv False\n",
            "17 block1a_project_bn False\n",
            "18 block2a_expand_conv False\n",
            "19 block2a_expand_bn False\n",
            "20 block2a_expand_activation False\n",
            "21 block2a_dwconv_pad False\n",
            "22 block2a_dwconv False\n",
            "23 block2a_bn False\n",
            "24 block2a_activation False\n",
            "25 block2a_se_squeeze False\n",
            "26 block2a_se_reshape False\n",
            "27 block2a_se_reduce False\n",
            "28 block2a_se_expand False\n",
            "29 block2a_se_excite False\n",
            "30 block2a_project_conv False\n",
            "31 block2a_project_bn False\n",
            "32 block2b_expand_conv False\n",
            "33 block2b_expand_bn False\n",
            "34 block2b_expand_activation False\n",
            "35 block2b_dwconv False\n",
            "36 block2b_bn False\n",
            "37 block2b_activation False\n",
            "38 block2b_se_squeeze False\n",
            "39 block2b_se_reshape False\n",
            "40 block2b_se_reduce False\n",
            "41 block2b_se_expand False\n",
            "42 block2b_se_excite False\n",
            "43 block2b_project_conv False\n",
            "44 block2b_project_bn False\n",
            "45 block2b_drop False\n",
            "46 block2b_add False\n",
            "47 block3a_expand_conv False\n",
            "48 block3a_expand_bn False\n",
            "49 block3a_expand_activation False\n",
            "50 block3a_dwconv_pad False\n",
            "51 block3a_dwconv False\n",
            "52 block3a_bn False\n",
            "53 block3a_activation False\n",
            "54 block3a_se_squeeze False\n",
            "55 block3a_se_reshape False\n",
            "56 block3a_se_reduce False\n",
            "57 block3a_se_expand False\n",
            "58 block3a_se_excite False\n",
            "59 block3a_project_conv False\n",
            "60 block3a_project_bn False\n",
            "61 block3b_expand_conv False\n",
            "62 block3b_expand_bn False\n",
            "63 block3b_expand_activation False\n",
            "64 block3b_dwconv False\n",
            "65 block3b_bn False\n",
            "66 block3b_activation False\n",
            "67 block3b_se_squeeze False\n",
            "68 block3b_se_reshape False\n",
            "69 block3b_se_reduce False\n",
            "70 block3b_se_expand False\n",
            "71 block3b_se_excite False\n",
            "72 block3b_project_conv False\n",
            "73 block3b_project_bn False\n",
            "74 block3b_drop False\n",
            "75 block3b_add False\n",
            "76 block4a_expand_conv False\n",
            "77 block4a_expand_bn False\n",
            "78 block4a_expand_activation False\n",
            "79 block4a_dwconv_pad False\n",
            "80 block4a_dwconv False\n",
            "81 block4a_bn False\n",
            "82 block4a_activation False\n",
            "83 block4a_se_squeeze False\n",
            "84 block4a_se_reshape False\n",
            "85 block4a_se_reduce False\n",
            "86 block4a_se_expand False\n",
            "87 block4a_se_excite False\n",
            "88 block4a_project_conv False\n",
            "89 block4a_project_bn False\n",
            "90 block4b_expand_conv False\n",
            "91 block4b_expand_bn False\n",
            "92 block4b_expand_activation False\n",
            "93 block4b_dwconv False\n",
            "94 block4b_bn False\n",
            "95 block4b_activation False\n",
            "96 block4b_se_squeeze False\n",
            "97 block4b_se_reshape False\n",
            "98 block4b_se_reduce False\n",
            "99 block4b_se_expand False\n",
            "100 block4b_se_excite False\n",
            "101 block4b_project_conv False\n",
            "102 block4b_project_bn False\n",
            "103 block4b_drop False\n",
            "104 block4b_add False\n",
            "105 block4c_expand_conv False\n",
            "106 block4c_expand_bn False\n",
            "107 block4c_expand_activation False\n",
            "108 block4c_dwconv False\n",
            "109 block4c_bn False\n",
            "110 block4c_activation False\n",
            "111 block4c_se_squeeze False\n",
            "112 block4c_se_reshape False\n",
            "113 block4c_se_reduce False\n",
            "114 block4c_se_expand False\n",
            "115 block4c_se_excite False\n",
            "116 block4c_project_conv False\n",
            "117 block4c_project_bn False\n",
            "118 block4c_drop False\n",
            "119 block4c_add False\n",
            "120 block5a_expand_conv False\n",
            "121 block5a_expand_bn False\n",
            "122 block5a_expand_activation False\n",
            "123 block5a_dwconv False\n",
            "124 block5a_bn False\n",
            "125 block5a_activation False\n",
            "126 block5a_se_squeeze False\n",
            "127 block5a_se_reshape False\n",
            "128 block5a_se_reduce False\n",
            "129 block5a_se_expand False\n",
            "130 block5a_se_excite False\n",
            "131 block5a_project_conv False\n",
            "132 block5a_project_bn False\n",
            "133 block5b_expand_conv False\n",
            "134 block5b_expand_bn False\n",
            "135 block5b_expand_activation False\n",
            "136 block5b_dwconv False\n",
            "137 block5b_bn False\n",
            "138 block5b_activation False\n",
            "139 block5b_se_squeeze False\n",
            "140 block5b_se_reshape False\n",
            "141 block5b_se_reduce False\n",
            "142 block5b_se_expand False\n",
            "143 block5b_se_excite False\n",
            "144 block5b_project_conv False\n",
            "145 block5b_project_bn False\n",
            "146 block5b_drop False\n",
            "147 block5b_add False\n",
            "148 block5c_expand_conv False\n",
            "149 block5c_expand_bn False\n",
            "150 block5c_expand_activation False\n",
            "151 block5c_dwconv False\n",
            "152 block5c_bn False\n",
            "153 block5c_activation False\n",
            "154 block5c_se_squeeze False\n",
            "155 block5c_se_reshape False\n",
            "156 block5c_se_reduce False\n",
            "157 block5c_se_expand False\n",
            "158 block5c_se_excite False\n",
            "159 block5c_project_conv False\n",
            "160 block5c_project_bn False\n",
            "161 block5c_drop False\n",
            "162 block5c_add False\n",
            "163 block6a_expand_conv False\n",
            "164 block6a_expand_bn False\n",
            "165 block6a_expand_activation False\n",
            "166 block6a_dwconv_pad False\n",
            "167 block6a_dwconv False\n",
            "168 block6a_bn False\n",
            "169 block6a_activation False\n",
            "170 block6a_se_squeeze False\n",
            "171 block6a_se_reshape False\n",
            "172 block6a_se_reduce False\n",
            "173 block6a_se_expand False\n",
            "174 block6a_se_excite False\n",
            "175 block6a_project_conv False\n",
            "176 block6a_project_bn False\n",
            "177 block6b_expand_conv False\n",
            "178 block6b_expand_bn False\n",
            "179 block6b_expand_activation False\n",
            "180 block6b_dwconv False\n",
            "181 block6b_bn False\n",
            "182 block6b_activation False\n",
            "183 block6b_se_squeeze False\n",
            "184 block6b_se_reshape False\n",
            "185 block6b_se_reduce False\n",
            "186 block6b_se_expand False\n",
            "187 block6b_se_excite False\n",
            "188 block6b_project_conv False\n",
            "189 block6b_project_bn False\n",
            "190 block6b_drop False\n",
            "191 block6b_add False\n",
            "192 block6c_expand_conv False\n",
            "193 block6c_expand_bn False\n",
            "194 block6c_expand_activation False\n",
            "195 block6c_dwconv False\n",
            "196 block6c_bn False\n",
            "197 block6c_activation False\n",
            "198 block6c_se_squeeze False\n",
            "199 block6c_se_reshape False\n",
            "200 block6c_se_reduce False\n",
            "201 block6c_se_expand False\n",
            "202 block6c_se_excite False\n",
            "203 block6c_project_conv False\n",
            "204 block6c_project_bn False\n",
            "205 block6c_drop False\n",
            "206 block6c_add False\n",
            "207 block6d_expand_conv False\n",
            "208 block6d_expand_bn False\n",
            "209 block6d_expand_activation False\n",
            "210 block6d_dwconv False\n",
            "211 block6d_bn False\n",
            "212 block6d_activation False\n",
            "213 block6d_se_squeeze False\n",
            "214 block6d_se_reshape False\n",
            "215 block6d_se_reduce False\n",
            "216 block6d_se_expand False\n",
            "217 block6d_se_excite False\n",
            "218 block6d_project_conv False\n",
            "219 block6d_project_bn False\n",
            "220 block6d_drop False\n",
            "221 block6d_add False\n",
            "222 block7a_expand_conv False\n",
            "223 block7a_expand_bn False\n",
            "224 block7a_expand_activation False\n",
            "225 block7a_dwconv False\n",
            "226 block7a_bn False\n",
            "227 block7a_activation False\n",
            "228 block7a_se_squeeze True\n",
            "229 block7a_se_reshape True\n",
            "230 block7a_se_reduce True\n",
            "231 block7a_se_expand True\n",
            "232 block7a_se_excite True\n",
            "233 block7a_project_conv True\n",
            "234 block7a_project_bn True\n",
            "235 top_conv True\n",
            "236 top_bn True\n",
            "237 top_activation True\n"
          ]
        }
      ]
    },
    {
      "cell_type": "code",
      "source": [
        "m_4_epochs=initial_epochs +5\n",
        "model_2.compile(loss=\"categorical_crossentropy\",\n",
        "                optimizer=tf.keras.optimizers.Adam(learning_rate=0.0001),\n",
        "                metrics=[\"accuracy\"])\n",
        "history_4 = model_2.fit(train_data_all,\n",
        "                        epochs=m_4_epochs,\n",
        "                        initial_epoch=history_2.epoch[-1],\n",
        "                        steps_per_epoch=len(train_data_all),\n",
        "                        validation_data=test_data,\n",
        "                        validation_steps=int(0.25 * len(test_data)),\n",
        "                        callbacks=[create_tensorboard_callback(dir_name=\"transfer_learning\",\n",
        "                                                               experiment_name=\"model_4\")]\n",
        "\n",
        "                        )"
      ],
      "metadata": {
        "colab": {
          "base_uri": "https://localhost:8080/"
        },
        "id": "FhG_cqEFLhem",
        "outputId": "ebb5fbd6-6c7b-4e77-d609-4a516f2a4695"
      },
      "execution_count": 65,
      "outputs": [
        {
          "output_type": "stream",
          "name": "stderr",
          "text": [
            "WARNING:tensorflow:Model failed to serialize as JSON. Ignoring... Unable to serialize [2.0896919 2.1128857 2.1081853] to JSON. Unrecognized type <class 'tensorflow.python.framework.ops.EagerTensor'>.\n"
          ]
        },
        {
          "output_type": "stream",
          "name": "stdout",
          "text": [
            "Saving TensorBoard log files to: transfer_learning/model_4/20230312-094349\n",
            "Epoch 5/10\n"
          ]
        },
        {
          "output_type": "stream",
          "name": "stderr",
          "text": [
            "WARNING:tensorflow:Using a while_loop for converting RngReadAndSkip cause there is no registered converter for this op.\n",
            "WARNING:tensorflow:Using a while_loop for converting Bitcast cause there is no registered converter for this op.\n",
            "WARNING:tensorflow:Using a while_loop for converting Bitcast cause there is no registered converter for this op.\n",
            "WARNING:tensorflow:Using a while_loop for converting StatelessRandomUniformV2 cause there is no registered converter for this op.\n",
            "WARNING:tensorflow:Using a while_loop for converting ImageProjectiveTransformV3 cause there is no registered converter for this op.\n",
            "WARNING:tensorflow:Using a while_loop for converting RngReadAndSkip cause there is no registered converter for this op.\n",
            "WARNING:tensorflow:Using a while_loop for converting Bitcast cause there is no registered converter for this op.\n",
            "WARNING:tensorflow:Using a while_loop for converting Bitcast cause there is no registered converter for this op.\n",
            "WARNING:tensorflow:Using a while_loop for converting StatelessRandomUniformV2 cause there is no registered converter for this op.\n",
            "WARNING:tensorflow:Using a while_loop for converting ImageProjectiveTransformV3 cause there is no registered converter for this op.\n",
            "WARNING:tensorflow:Using a while_loop for converting RngReadAndSkip cause there is no registered converter for this op.\n",
            "WARNING:tensorflow:Using a while_loop for converting Bitcast cause there is no registered converter for this op.\n",
            "WARNING:tensorflow:Using a while_loop for converting Bitcast cause there is no registered converter for this op.\n",
            "WARNING:tensorflow:Using a while_loop for converting StatelessRandomUniformV2 cause there is no registered converter for this op.\n",
            "WARNING:tensorflow:Using a while_loop for converting ImageProjectiveTransformV3 cause there is no registered converter for this op.\n",
            "WARNING:tensorflow:Using a while_loop for converting RngReadAndSkip cause there is no registered converter for this op.\n",
            "WARNING:tensorflow:Using a while_loop for converting Bitcast cause there is no registered converter for this op.\n",
            "WARNING:tensorflow:Using a while_loop for converting Bitcast cause there is no registered converter for this op.\n",
            "WARNING:tensorflow:Using a while_loop for converting StatelessRandomUniformV2 cause there is no registered converter for this op.\n",
            "WARNING:tensorflow:Using a while_loop for converting ImageProjectiveTransformV3 cause there is no registered converter for this op.\n"
          ]
        },
        {
          "output_type": "stream",
          "name": "stdout",
          "text": [
            "235/235 [==============================] - 99s 378ms/step - loss: 0.6473 - accuracy: 0.7936 - val_loss: 0.3586 - val_accuracy: 0.8734\n",
            "Epoch 6/10\n",
            "235/235 [==============================] - 81s 345ms/step - loss: 0.5034 - accuracy: 0.8380 - val_loss: 0.2841 - val_accuracy: 0.9046\n",
            "Epoch 7/10\n",
            "235/235 [==============================] - 79s 333ms/step - loss: 0.4484 - accuracy: 0.8559 - val_loss: 0.2732 - val_accuracy: 0.9079\n",
            "Epoch 8/10\n",
            "235/235 [==============================] - 76s 320ms/step - loss: 0.4151 - accuracy: 0.8680 - val_loss: 0.2625 - val_accuracy: 0.9194\n",
            "Epoch 9/10\n",
            "235/235 [==============================] - 74s 312ms/step - loss: 0.3711 - accuracy: 0.8796 - val_loss: 0.2323 - val_accuracy: 0.9293\n",
            "Epoch 10/10\n",
            "235/235 [==============================] - 72s 304ms/step - loss: 0.3469 - accuracy: 0.8864 - val_loss: 0.2348 - val_accuracy: 0.9211\n"
          ]
        }
      ]
    },
    {
      "cell_type": "code",
      "source": [
        "model_2.evaluate(test_data)"
      ],
      "metadata": {
        "colab": {
          "base_uri": "https://localhost:8080/"
        },
        "id": "JzrUSdgoMyMG",
        "outputId": "623929b3-795a-43dd-89e7-92a300485093"
      },
      "execution_count": 66,
      "outputs": [
        {
          "output_type": "stream",
          "name": "stdout",
          "text": [
            "79/79 [==============================] - 7s 79ms/step - loss: 0.2700 - accuracy: 0.9120\n"
          ]
        },
        {
          "output_type": "execute_result",
          "data": {
            "text/plain": [
              "[0.2700290083885193, 0.9120000004768372]"
            ]
          },
          "metadata": {},
          "execution_count": 66
        }
      ]
    },
    {
      "cell_type": "code",
      "source": [
        "compare_history(old_history=history_2,\n",
        "                new_history=history_4)"
      ],
      "metadata": {
        "colab": {
          "base_uri": "https://localhost:8080/",
          "height": 763
        },
        "id": "Hs8JQvT1QRQf",
        "outputId": "c7e1b087-e7e8-4d4d-80cb-efd37cbed407"
      },
      "execution_count": 67,
      "outputs": [
        {
          "output_type": "display_data",
          "data": {
            "text/plain": [
              "<Figure size 576x432 with 1 Axes>"
            ],
            "image/png": "[encoded data removed]"
          },
          "metadata": {
            "needs_background": "light"
          }
        },
        {
          "output_type": "display_data",
          "data": {
            "text/plain": [
              "<Figure size 576x432 with 1 Axes>"
            ],
            "image/png": "[encoded data removed]"
          },
          "metadata": {
            "needs_background": "light"
          }
        }
      ]
    }
  ]
}